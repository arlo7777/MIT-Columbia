{
  "cells": [
    {
      "cell_type": "markdown",
      "metadata": {
        "id": "view-in-github",
        "colab_type": "text"
      },
      "source": [
        "<a href=\"https://colab.research.google.com/github/arlo7777/Project-MIT-Columbia/blob/main/PE_prediction.ipynb\" target=\"_parent\"><img src=\"https://colab.research.google.com/assets/colab-badge.svg\" alt=\"Open In Colab\"/></a>"
      ]
    },
    {
      "cell_type": "code",
      "execution_count": 2,
      "metadata": {
        "id": "GP7Z0q8KjfYt"
      },
      "outputs": [],
      "source": [
        "import pandas as pd \n",
        "import seaborn as sns \n",
        "import matplotlib.pyplot as plt\n",
        "plt.rcParams[\"figure.figsize\"] = (15,15)\n",
        "import pandas as pd\n",
        "from sklearn.preprocessing import LabelEncoder, MinMaxScaler, OneHotEncoder\n",
        "from sklearn.pipeline import Pipeline\n",
        "from sklearn.compose import ColumnTransformer, make_column_transformer\n",
        "from sklearn.model_selection import train_test_split\n",
        "import numpy as np\n",
        "from sklearn.linear_model import LinearRegression\n",
        "from sklearn.svm import SVR\n",
        "from sklearn.neighbors import KNeighborsRegressor\n",
        "from sklearn.tree import DecisionTreeRegressor\n",
        "from sklearn.ensemble import GradientBoostingRegressor, RandomForestRegressor\n",
        "from xgboost import XGBRegressor\n",
        "from sklearn.model_selection import GridSearchCV, RandomizedSearchCV\n",
        "from sklearn.metrics import mean_absolute_error\n",
        "from sklearn.metrics import SCORERS"
      ]
    },
    {
      "cell_type": "code",
      "execution_count": null,
      "metadata": {
        "id": "oxKQ__16jfYt"
      },
      "outputs": [],
      "source": [
        "df = pd.read_excel('Data Series Final Draft.xlsx')"
      ]
    },
    {
      "cell_type": "code",
      "execution_count": null,
      "metadata": {
        "colab": {
          "base_uri": "https://localhost:8080/"
        },
        "id": "jQT44PuVjfYt",
        "outputId": "71afcffa-3f6d-4e19-97e2-6dd1fe260430"
      },
      "outputs": [
        {
          "output_type": "execute_result",
          "data": {
            "text/plain": [
              "Index(['Name', 'Asset Class', 'Vintage/Inception Year', 'Strategy',\n",
              "       'Final Close Size', 'Net IRR %', 'Net Multiple (X)', 'RVPI %',\n",
              "       'DPI (%)', 'Called %', 'Quartile Rank', 'Date Reported', 'Status',\n",
              "       'Geographic Focus', 'Fund Manager', 'Country', 'Core Industries',\n",
              "       'Industry Verticals', 'Fund Number (Overall)', 'Fund Number (Series)',\n",
              "       'Industries', 'Date 10-yr Treasury', '10-yr Treasury (Adj Close)',\n",
              "       'Date MSCI', 'MSCI (Adj Close)'],\n",
              "      dtype='object')"
            ]
          },
          "metadata": {},
          "execution_count": 698
        }
      ],
      "source": [
        "df.columns"
      ]
    },
    {
      "cell_type": "code",
      "execution_count": null,
      "metadata": {
        "id": "PXs3aO46jfYu"
      },
      "outputs": [],
      "source": [
        "date_df = df[['Date 10-yr Treasury', '10-yr Treasury (Adj Close)', 'Date MSCI', 'MSCI (Adj Close)']]\n",
        "df  = df.drop(columns=['Date 10-yr Treasury', '10-yr Treasury (Adj Close)', 'Date MSCI', 'MSCI (Adj Close)'])"
      ]
    },
    {
      "cell_type": "code",
      "execution_count": null,
      "metadata": {
        "id": "Z-Tbv14NjfYu"
      },
      "outputs": [],
      "source": [
        "date_df['Treasury_year'] = pd.to_datetime(date_df['Date 10-yr Treasury']).dt.year\n",
        "date_df['MSCI_year'] = pd.to_datetime(date_df['Date MSCI']).dt.year"
      ]
    },
    {
      "cell_type": "code",
      "execution_count": null,
      "metadata": {
        "colab": {
          "base_uri": "https://localhost:8080/",
          "height": 1000
        },
        "id": "f6zvF1MqjfYu",
        "outputId": "099da821-ae73-4987-b122-4c3e6be46b93"
      },
      "outputs": [
        {
          "output_type": "execute_result",
          "data": {
            "text/plain": [
              "    Treasury_year  10-yr Treasury (Adj Close)\n",
              "0          1985.0                   10.535833\n",
              "1          1986.0                    7.570000\n",
              "2          1987.0                    8.412500\n",
              "3          1988.0                    8.830833\n",
              "4          1989.0                    8.452500\n",
              "5          1990.0                    8.557500\n",
              "6          1991.0                    7.789167\n",
              "7          1992.0                    7.030000\n",
              "8          1993.0                    5.842167\n",
              "9          1994.0                    7.120417\n",
              "10         1995.0                    6.475750\n",
              "11         1996.0                    6.453000\n",
              "12         1997.0                    6.305167\n",
              "13         1998.0                    5.195000\n",
              "14         1999.0                    5.691833\n",
              "15         2000.0                    5.954833\n",
              "16         2001.0                    4.967500\n",
              "17         2002.0                    4.533250\n",
              "18         2003.0                    3.997667\n",
              "19         2004.0                    4.255083\n",
              "20         2005.0                    4.269000\n",
              "21         2006.0                    4.781167\n",
              "22         2007.0                    4.578833\n",
              "23         2008.0                    3.598250\n",
              "24         2009.0                    3.277250\n",
              "25         2010.0                    3.130583\n",
              "26         2011.0                    2.734250\n",
              "27         2012.0                    1.740500\n",
              "28         2013.0                    2.359000\n",
              "29         2014.0                    2.481333\n",
              "30         2015.0                    2.099167\n",
              "31         2016.0                    1.823333\n",
              "32         2017.0                    2.326833\n",
              "33         2018.0                    2.888917\n",
              "34         2019.0                    2.083250\n",
              "35         2020.0                    0.816250\n",
              "36         2021.0                    1.461500\n",
              "37         2022.0                    2.811300"
            ],
            "text/html": [
              "\n",
              "  <div id=\"df-653e34f7-5eab-4746-b585-f454bb67f818\">\n",
              "    <div class=\"colab-df-container\">\n",
              "      <div>\n",
              "<style scoped>\n",
              "    .dataframe tbody tr th:only-of-type {\n",
              "        vertical-align: middle;\n",
              "    }\n",
              "\n",
              "    .dataframe tbody tr th {\n",
              "        vertical-align: top;\n",
              "    }\n",
              "\n",
              "    .dataframe thead th {\n",
              "        text-align: right;\n",
              "    }\n",
              "</style>\n",
              "<table border=\"1\" class=\"dataframe\">\n",
              "  <thead>\n",
              "    <tr style=\"text-align: right;\">\n",
              "      <th></th>\n",
              "      <th>Treasury_year</th>\n",
              "      <th>10-yr Treasury (Adj Close)</th>\n",
              "    </tr>\n",
              "  </thead>\n",
              "  <tbody>\n",
              "    <tr>\n",
              "      <th>0</th>\n",
              "      <td>1985.0</td>\n",
              "      <td>10.535833</td>\n",
              "    </tr>\n",
              "    <tr>\n",
              "      <th>1</th>\n",
              "      <td>1986.0</td>\n",
              "      <td>7.570000</td>\n",
              "    </tr>\n",
              "    <tr>\n",
              "      <th>2</th>\n",
              "      <td>1987.0</td>\n",
              "      <td>8.412500</td>\n",
              "    </tr>\n",
              "    <tr>\n",
              "      <th>3</th>\n",
              "      <td>1988.0</td>\n",
              "      <td>8.830833</td>\n",
              "    </tr>\n",
              "    <tr>\n",
              "      <th>4</th>\n",
              "      <td>1989.0</td>\n",
              "      <td>8.452500</td>\n",
              "    </tr>\n",
              "    <tr>\n",
              "      <th>5</th>\n",
              "      <td>1990.0</td>\n",
              "      <td>8.557500</td>\n",
              "    </tr>\n",
              "    <tr>\n",
              "      <th>6</th>\n",
              "      <td>1991.0</td>\n",
              "      <td>7.789167</td>\n",
              "    </tr>\n",
              "    <tr>\n",
              "      <th>7</th>\n",
              "      <td>1992.0</td>\n",
              "      <td>7.030000</td>\n",
              "    </tr>\n",
              "    <tr>\n",
              "      <th>8</th>\n",
              "      <td>1993.0</td>\n",
              "      <td>5.842167</td>\n",
              "    </tr>\n",
              "    <tr>\n",
              "      <th>9</th>\n",
              "      <td>1994.0</td>\n",
              "      <td>7.120417</td>\n",
              "    </tr>\n",
              "    <tr>\n",
              "      <th>10</th>\n",
              "      <td>1995.0</td>\n",
              "      <td>6.475750</td>\n",
              "    </tr>\n",
              "    <tr>\n",
              "      <th>11</th>\n",
              "      <td>1996.0</td>\n",
              "      <td>6.453000</td>\n",
              "    </tr>\n",
              "    <tr>\n",
              "      <th>12</th>\n",
              "      <td>1997.0</td>\n",
              "      <td>6.305167</td>\n",
              "    </tr>\n",
              "    <tr>\n",
              "      <th>13</th>\n",
              "      <td>1998.0</td>\n",
              "      <td>5.195000</td>\n",
              "    </tr>\n",
              "    <tr>\n",
              "      <th>14</th>\n",
              "      <td>1999.0</td>\n",
              "      <td>5.691833</td>\n",
              "    </tr>\n",
              "    <tr>\n",
              "      <th>15</th>\n",
              "      <td>2000.0</td>\n",
              "      <td>5.954833</td>\n",
              "    </tr>\n",
              "    <tr>\n",
              "      <th>16</th>\n",
              "      <td>2001.0</td>\n",
              "      <td>4.967500</td>\n",
              "    </tr>\n",
              "    <tr>\n",
              "      <th>17</th>\n",
              "      <td>2002.0</td>\n",
              "      <td>4.533250</td>\n",
              "    </tr>\n",
              "    <tr>\n",
              "      <th>18</th>\n",
              "      <td>2003.0</td>\n",
              "      <td>3.997667</td>\n",
              "    </tr>\n",
              "    <tr>\n",
              "      <th>19</th>\n",
              "      <td>2004.0</td>\n",
              "      <td>4.255083</td>\n",
              "    </tr>\n",
              "    <tr>\n",
              "      <th>20</th>\n",
              "      <td>2005.0</td>\n",
              "      <td>4.269000</td>\n",
              "    </tr>\n",
              "    <tr>\n",
              "      <th>21</th>\n",
              "      <td>2006.0</td>\n",
              "      <td>4.781167</td>\n",
              "    </tr>\n",
              "    <tr>\n",
              "      <th>22</th>\n",
              "      <td>2007.0</td>\n",
              "      <td>4.578833</td>\n",
              "    </tr>\n",
              "    <tr>\n",
              "      <th>23</th>\n",
              "      <td>2008.0</td>\n",
              "      <td>3.598250</td>\n",
              "    </tr>\n",
              "    <tr>\n",
              "      <th>24</th>\n",
              "      <td>2009.0</td>\n",
              "      <td>3.277250</td>\n",
              "    </tr>\n",
              "    <tr>\n",
              "      <th>25</th>\n",
              "      <td>2010.0</td>\n",
              "      <td>3.130583</td>\n",
              "    </tr>\n",
              "    <tr>\n",
              "      <th>26</th>\n",
              "      <td>2011.0</td>\n",
              "      <td>2.734250</td>\n",
              "    </tr>\n",
              "    <tr>\n",
              "      <th>27</th>\n",
              "      <td>2012.0</td>\n",
              "      <td>1.740500</td>\n",
              "    </tr>\n",
              "    <tr>\n",
              "      <th>28</th>\n",
              "      <td>2013.0</td>\n",
              "      <td>2.359000</td>\n",
              "    </tr>\n",
              "    <tr>\n",
              "      <th>29</th>\n",
              "      <td>2014.0</td>\n",
              "      <td>2.481333</td>\n",
              "    </tr>\n",
              "    <tr>\n",
              "      <th>30</th>\n",
              "      <td>2015.0</td>\n",
              "      <td>2.099167</td>\n",
              "    </tr>\n",
              "    <tr>\n",
              "      <th>31</th>\n",
              "      <td>2016.0</td>\n",
              "      <td>1.823333</td>\n",
              "    </tr>\n",
              "    <tr>\n",
              "      <th>32</th>\n",
              "      <td>2017.0</td>\n",
              "      <td>2.326833</td>\n",
              "    </tr>\n",
              "    <tr>\n",
              "      <th>33</th>\n",
              "      <td>2018.0</td>\n",
              "      <td>2.888917</td>\n",
              "    </tr>\n",
              "    <tr>\n",
              "      <th>34</th>\n",
              "      <td>2019.0</td>\n",
              "      <td>2.083250</td>\n",
              "    </tr>\n",
              "    <tr>\n",
              "      <th>35</th>\n",
              "      <td>2020.0</td>\n",
              "      <td>0.816250</td>\n",
              "    </tr>\n",
              "    <tr>\n",
              "      <th>36</th>\n",
              "      <td>2021.0</td>\n",
              "      <td>1.461500</td>\n",
              "    </tr>\n",
              "    <tr>\n",
              "      <th>37</th>\n",
              "      <td>2022.0</td>\n",
              "      <td>2.811300</td>\n",
              "    </tr>\n",
              "  </tbody>\n",
              "</table>\n",
              "</div>\n",
              "      <button class=\"colab-df-convert\" onclick=\"convertToInteractive('df-653e34f7-5eab-4746-b585-f454bb67f818')\"\n",
              "              title=\"Convert this dataframe to an interactive table.\"\n",
              "              style=\"display:none;\">\n",
              "        \n",
              "  <svg xmlns=\"http://www.w3.org/2000/svg\" height=\"24px\"viewBox=\"0 0 24 24\"\n",
              "       width=\"24px\">\n",
              "    <path d=\"M0 0h24v24H0V0z\" fill=\"none\"/>\n",
              "    <path d=\"M18.56 5.44l.94 2.06.94-2.06 2.06-.94-2.06-.94-.94-2.06-.94 2.06-2.06.94zm-11 1L8.5 8.5l.94-2.06 2.06-.94-2.06-.94L8.5 2.5l-.94 2.06-2.06.94zm10 10l.94 2.06.94-2.06 2.06-.94-2.06-.94-.94-2.06-.94 2.06-2.06.94z\"/><path d=\"M17.41 7.96l-1.37-1.37c-.4-.4-.92-.59-1.43-.59-.52 0-1.04.2-1.43.59L10.3 9.45l-7.72 7.72c-.78.78-.78 2.05 0 2.83L4 21.41c.39.39.9.59 1.41.59.51 0 1.02-.2 1.41-.59l7.78-7.78 2.81-2.81c.8-.78.8-2.07 0-2.86zM5.41 20L4 18.59l7.72-7.72 1.47 1.35L5.41 20z\"/>\n",
              "  </svg>\n",
              "      </button>\n",
              "      \n",
              "  <style>\n",
              "    .colab-df-container {\n",
              "      display:flex;\n",
              "      flex-wrap:wrap;\n",
              "      gap: 12px;\n",
              "    }\n",
              "\n",
              "    .colab-df-convert {\n",
              "      background-color: #E8F0FE;\n",
              "      border: none;\n",
              "      border-radius: 50%;\n",
              "      cursor: pointer;\n",
              "      display: none;\n",
              "      fill: #1967D2;\n",
              "      height: 32px;\n",
              "      padding: 0 0 0 0;\n",
              "      width: 32px;\n",
              "    }\n",
              "\n",
              "    .colab-df-convert:hover {\n",
              "      background-color: #E2EBFA;\n",
              "      box-shadow: 0px 1px 2px rgba(60, 64, 67, 0.3), 0px 1px 3px 1px rgba(60, 64, 67, 0.15);\n",
              "      fill: #174EA6;\n",
              "    }\n",
              "\n",
              "    [theme=dark] .colab-df-convert {\n",
              "      background-color: #3B4455;\n",
              "      fill: #D2E3FC;\n",
              "    }\n",
              "\n",
              "    [theme=dark] .colab-df-convert:hover {\n",
              "      background-color: #434B5C;\n",
              "      box-shadow: 0px 1px 3px 1px rgba(0, 0, 0, 0.15);\n",
              "      filter: drop-shadow(0px 1px 2px rgba(0, 0, 0, 0.3));\n",
              "      fill: #FFFFFF;\n",
              "    }\n",
              "  </style>\n",
              "\n",
              "      <script>\n",
              "        const buttonEl =\n",
              "          document.querySelector('#df-653e34f7-5eab-4746-b585-f454bb67f818 button.colab-df-convert');\n",
              "        buttonEl.style.display =\n",
              "          google.colab.kernel.accessAllowed ? 'block' : 'none';\n",
              "\n",
              "        async function convertToInteractive(key) {\n",
              "          const element = document.querySelector('#df-653e34f7-5eab-4746-b585-f454bb67f818');\n",
              "          const dataTable =\n",
              "            await google.colab.kernel.invokeFunction('convertToInteractive',\n",
              "                                                     [key], {});\n",
              "          if (!dataTable) return;\n",
              "\n",
              "          const docLinkHtml = 'Like what you see? Visit the ' +\n",
              "            '<a target=\"_blank\" href=https://colab.research.google.com/notebooks/data_table.ipynb>data table notebook</a>'\n",
              "            + ' to learn more about interactive tables.';\n",
              "          element.innerHTML = '';\n",
              "          dataTable['output_type'] = 'display_data';\n",
              "          await google.colab.output.renderOutput(dataTable, element);\n",
              "          const docLink = document.createElement('div');\n",
              "          docLink.innerHTML = docLinkHtml;\n",
              "          element.appendChild(docLink);\n",
              "        }\n",
              "      </script>\n",
              "    </div>\n",
              "  </div>\n",
              "  "
            ]
          },
          "metadata": {},
          "execution_count": 701
        }
      ],
      "source": [
        "treasury_per_year = date_df.groupby(['Treasury_year']).agg({'10-yr Treasury (Adj Close)':'mean'}).reset_index()\n",
        "msci_per_year = date_df.groupby(['MSCI_year']).agg({'MSCI (Adj Close)':'mean'}).reset_index()\n",
        "msci_per_year \n",
        "treasury_per_year"
      ]
    },
    {
      "cell_type": "code",
      "execution_count": null,
      "metadata": {
        "id": "qUCGJSZKjfYu"
      },
      "outputs": [],
      "source": [
        "\n",
        "df = pd.merge(df,msci_per_year, left_on='Vintage/Inception Year', right_on='MSCI_year', how='left' )\n",
        "\n",
        "df = pd.merge(df,treasury_per_year, left_on='Vintage/Inception Year', right_on='Treasury_year', how='left' )"
      ]
    },
    {
      "cell_type": "code",
      "execution_count": null,
      "metadata": {
        "colab": {
          "base_uri": "https://localhost:8080/",
          "height": 1000
        },
        "id": "Yy_xKZ_gjfYu",
        "outputId": "82cec89a-2b64-4c84-cac8-024cb824ccec"
      },
      "outputs": [
        {
          "output_type": "execute_result",
          "data": {
            "text/plain": [
              "<matplotlib.axes._subplots.AxesSubplot at 0x7f56f1fec390>"
            ]
          },
          "metadata": {},
          "execution_count": 703
        },
        {
          "output_type": "display_data",
          "data": {
            "text/plain": [
              "<Figure size 1080x1080 with 2 Axes>"
            ],
            "image/png": "[encoded data removed]"
          },
          "metadata": {
            "needs_background": "light"
          }
        }
      ],
      "source": [
        "sns.heatmap(df.corr(), annot=True)"
      ]
    },
    {
      "cell_type": "code",
      "source": [
        "abs(df.corr()['Net IRR %']).sort_values().plot.barh()"
      ],
      "metadata": {
        "colab": {
          "base_uri": "https://localhost:8080/",
          "height": 880
        },
        "id": "KUxmVxv6opah",
        "outputId": "1da907df-cb39-434b-c78b-b820bd9aa509"
      },
      "execution_count": null,
      "outputs": [
        {
          "output_type": "execute_result",
          "data": {
            "text/plain": [
              "<matplotlib.axes._subplots.AxesSubplot at 0x7f56f1dd6150>"
            ]
          },
          "metadata": {},
          "execution_count": 704
        },
        {
          "output_type": "display_data",
          "data": {
            "text/plain": [
              "<Figure size 1080x1080 with 1 Axes>"
            ],
            "image/png": "[encoded data removed]"
          },
          "metadata": {
            "needs_background": "light"
          }
        }
      ]
    },
    {
      "cell_type": "code",
      "source": [
        "summary_stats  = df.describe(include='all')\n",
        "summary_stats "
      ],
      "metadata": {
        "colab": {
          "base_uri": "https://localhost:8080/",
          "height": 724
        },
        "id": "pqjsf9gOj8WJ",
        "outputId": "d258b61a-0e95-47fe-cfea-4ccd8de6cee1"
      },
      "execution_count": null,
      "outputs": [
        {
          "output_type": "stream",
          "name": "stderr",
          "text": [
            "/usr/local/lib/python3.7/dist-packages/ipykernel_launcher.py:1: FutureWarning: Treating datetime data as categorical rather than numeric in `.describe` is deprecated and will be removed in a future version of pandas. Specify `datetime_is_numeric=True` to silence this warning and adopt the future behavior now.\n",
            "  \"\"\"Entry point for launching an IPython kernel.\n"
          ]
        },
        {
          "output_type": "execute_result",
          "data": {
            "text/plain": [
              "                                          Name     Asset Class  \\\n",
              "count                                      907             907   \n",
              "unique                                     907               1   \n",
              "top     Agilitas 2020 Private Equity Fund SCSp  Private Equity   \n",
              "freq                                         1             907   \n",
              "first                                      NaN             NaN   \n",
              "last                                       NaN             NaN   \n",
              "mean                                       NaN             NaN   \n",
              "std                                        NaN             NaN   \n",
              "min                                        NaN             NaN   \n",
              "25%                                        NaN             NaN   \n",
              "50%                                        NaN             NaN   \n",
              "75%                                        NaN             NaN   \n",
              "max                                        NaN             NaN   \n",
              "\n",
              "        Vintage/Inception Year Strategy  Final Close Size   Net IRR %  \\\n",
              "count               907.000000      907        901.000000  789.000000   \n",
              "unique                     NaN        6               NaN         NaN   \n",
              "top                        NaN   Buyout               NaN         NaN   \n",
              "freq                       NaN      585               NaN         NaN   \n",
              "first                      NaN      NaN               NaN         NaN   \n",
              "last                       NaN      NaN               NaN         NaN   \n",
              "mean               2008.080485      NaN        297.529223   16.697698   \n",
              "std                   7.368653      NaN        242.962537   21.614580   \n",
              "min                1985.000000      NaN          5.400000 -100.000000   \n",
              "25%                2004.000000      NaN        107.000000    6.900000   \n",
              "50%                2008.000000      NaN        228.350000   15.260000   \n",
              "75%                2014.000000      NaN        430.000000   24.770000   \n",
              "max                2021.000000      NaN       1000.000000  167.000000   \n",
              "\n",
              "        Net Multiple (X)      RVPI %      DPI (%)    Called %  ... Country  \\\n",
              "count         844.000000  855.000000   859.000000  879.000000  ...     907   \n",
              "unique               NaN         NaN          NaN         NaN  ...      46   \n",
              "top                  NaN         NaN          NaN         NaN  ...      US   \n",
              "freq                 NaN         NaN          NaN         NaN  ...     520   \n",
              "first                NaN         NaN          NaN         NaN  ...     NaN   \n",
              "last                 NaN         NaN          NaN         NaN  ...     NaN   \n",
              "mean            1.813024   55.983138   124.796456   88.640238  ...     NaN   \n",
              "std             1.042220   68.603600   114.944185   23.735285  ...     NaN   \n",
              "min             0.000000    0.000000     0.000000    0.614286  ...     NaN   \n",
              "25%             1.179347    0.000000    32.335044   81.728291  ...     NaN   \n",
              "50%             1.636605   27.638216   110.000000   95.586195  ...     NaN   \n",
              "75%             2.199250   97.915000   181.673277  100.000000  ...     NaN   \n",
              "max            12.550000  468.000000  1253.300000  164.000000  ...     NaN   \n",
              "\n",
              "       Core Industries Industry Verticals Fund Number (Overall)  \\\n",
              "count              907                907            907.000000   \n",
              "unique              16                 57                   NaN   \n",
              "top        Diversified      Manufacturing                   NaN   \n",
              "freq               613                585                   NaN   \n",
              "first              NaN                NaN                   NaN   \n",
              "last               NaN                NaN                   NaN   \n",
              "mean               NaN                NaN              3.545755   \n",
              "std                NaN                NaN              5.108627   \n",
              "min                NaN                NaN              1.000000   \n",
              "25%                NaN                NaN              1.000000   \n",
              "50%                NaN                NaN              2.000000   \n",
              "75%                NaN                NaN              4.000000   \n",
              "max                NaN                NaN             64.000000   \n",
              "\n",
              "       Fund Number (Series)                                   Industries  \\\n",
              "count            901.000000                                          897   \n",
              "unique                  NaN                                          653   \n",
              "top                     NaN  Consumer Services, Logistics & Distribution   \n",
              "freq                    NaN                                           29   \n",
              "first                   NaN                                          NaN   \n",
              "last                    NaN                                          NaN   \n",
              "mean               2.499445                                          NaN   \n",
              "std                1.670412                                          NaN   \n",
              "min                1.000000                                          NaN   \n",
              "25%                1.000000                                          NaN   \n",
              "50%                2.000000                                          NaN   \n",
              "75%                3.000000                                          NaN   \n",
              "max               10.000000                                          NaN   \n",
              "\n",
              "          MSCI_year MSCI (Adj Close)  Treasury_year  \\\n",
              "count    441.000000       441.000000     907.000000   \n",
              "unique          NaN              NaN            NaN   \n",
              "top             NaN              NaN            NaN   \n",
              "freq            NaN              NaN            NaN   \n",
              "first           NaN              NaN            NaN   \n",
              "last            NaN              NaN            NaN   \n",
              "mean    2014.240363        31.790398    2008.080485   \n",
              "std        3.210962        11.871120       7.368653   \n",
              "min     2009.000000        17.906046    1985.000000   \n",
              "25%     2011.000000        19.073668    2004.000000   \n",
              "50%     2014.000000        30.215100    2008.000000   \n",
              "75%     2017.000000        42.552050    2014.000000   \n",
              "max     2021.000000        66.195776    2021.000000   \n",
              "\n",
              "        10-yr Treasury (Adj Close)  \n",
              "count                   907.000000  \n",
              "unique                         NaN  \n",
              "top                            NaN  \n",
              "freq                           NaN  \n",
              "first                          NaN  \n",
              "last                           NaN  \n",
              "mean                      3.769547  \n",
              "std                       1.591439  \n",
              "min                       0.816250  \n",
              "25%                       2.359000  \n",
              "50%                       3.598250  \n",
              "75%                       4.781167  \n",
              "max                      10.535833  \n",
              "\n",
              "[13 rows x 25 columns]"
            ],
            "text/html": [
              "\n",
              "  <div id=\"df-8f5de5c8-a1ba-4207-a956-c964755d3219\">\n",
              "    <div class=\"colab-df-container\">\n",
              "      <div>\n",
              "<style scoped>\n",
              "    .dataframe tbody tr th:only-of-type {\n",
              "        vertical-align: middle;\n",
              "    }\n",
              "\n",
              "    .dataframe tbody tr th {\n",
              "        vertical-align: top;\n",
              "    }\n",
              "\n",
              "    .dataframe thead th {\n",
              "        text-align: right;\n",
              "    }\n",
              "</style>\n",
              "<table border=\"1\" class=\"dataframe\">\n",
              "  <thead>\n",
              "    <tr style=\"text-align: right;\">\n",
              "      <th></th>\n",
              "      <th>Name</th>\n",
              "      <th>Asset Class</th>\n",
              "      <th>Vintage/Inception Year</th>\n",
              "      <th>Strategy</th>\n",
              "      <th>Final Close Size</th>\n",
              "      <th>Net IRR %</th>\n",
              "      <th>Net Multiple (X)</th>\n",
              "      <th>RVPI %</th>\n",
              "      <th>DPI (%)</th>\n",
              "      <th>Called %</th>\n",
              "      <th>...</th>\n",
              "      <th>Country</th>\n",
              "      <th>Core Industries</th>\n",
              "      <th>Industry Verticals</th>\n",
              "      <th>Fund Number (Overall)</th>\n",
              "      <th>Fund Number (Series)</th>\n",
              "      <th>Industries</th>\n",
              "      <th>MSCI_year</th>\n",
              "      <th>MSCI (Adj Close)</th>\n",
              "      <th>Treasury_year</th>\n",
              "      <th>10-yr Treasury (Adj Close)</th>\n",
              "    </tr>\n",
              "  </thead>\n",
              "  <tbody>\n",
              "    <tr>\n",
              "      <th>count</th>\n",
              "      <td>907</td>\n",
              "      <td>907</td>\n",
              "      <td>907.000000</td>\n",
              "      <td>907</td>\n",
              "      <td>901.000000</td>\n",
              "      <td>789.000000</td>\n",
              "      <td>844.000000</td>\n",
              "      <td>855.000000</td>\n",
              "      <td>859.000000</td>\n",
              "      <td>879.000000</td>\n",
              "      <td>...</td>\n",
              "      <td>907</td>\n",
              "      <td>907</td>\n",
              "      <td>907</td>\n",
              "      <td>907.000000</td>\n",
              "      <td>901.000000</td>\n",
              "      <td>897</td>\n",
              "      <td>441.000000</td>\n",
              "      <td>441.000000</td>\n",
              "      <td>907.000000</td>\n",
              "      <td>907.000000</td>\n",
              "    </tr>\n",
              "    <tr>\n",
              "      <th>unique</th>\n",
              "      <td>907</td>\n",
              "      <td>1</td>\n",
              "      <td>NaN</td>\n",
              "      <td>6</td>\n",
              "      <td>NaN</td>\n",
              "      <td>NaN</td>\n",
              "      <td>NaN</td>\n",
              "      <td>NaN</td>\n",
              "      <td>NaN</td>\n",
              "      <td>NaN</td>\n",
              "      <td>...</td>\n",
              "      <td>46</td>\n",
              "      <td>16</td>\n",
              "      <td>57</td>\n",
              "      <td>NaN</td>\n",
              "      <td>NaN</td>\n",
              "      <td>653</td>\n",
              "      <td>NaN</td>\n",
              "      <td>NaN</td>\n",
              "      <td>NaN</td>\n",
              "      <td>NaN</td>\n",
              "    </tr>\n",
              "    <tr>\n",
              "      <th>top</th>\n",
              "      <td>Agilitas 2020 Private Equity Fund SCSp</td>\n",
              "      <td>Private Equity</td>\n",
              "      <td>NaN</td>\n",
              "      <td>Buyout</td>\n",
              "      <td>NaN</td>\n",
              "      <td>NaN</td>\n",
              "      <td>NaN</td>\n",
              "      <td>NaN</td>\n",
              "      <td>NaN</td>\n",
              "      <td>NaN</td>\n",
              "      <td>...</td>\n",
              "      <td>US</td>\n",
              "      <td>Diversified</td>\n",
              "      <td>Manufacturing</td>\n",
              "      <td>NaN</td>\n",
              "      <td>NaN</td>\n",
              "      <td>Consumer Services, Logistics &amp; Distribution</td>\n",
              "      <td>NaN</td>\n",
              "      <td>NaN</td>\n",
              "      <td>NaN</td>\n",
              "      <td>NaN</td>\n",
              "    </tr>\n",
              "    <tr>\n",
              "      <th>freq</th>\n",
              "      <td>1</td>\n",
              "      <td>907</td>\n",
              "      <td>NaN</td>\n",
              "      <td>585</td>\n",
              "      <td>NaN</td>\n",
              "      <td>NaN</td>\n",
              "      <td>NaN</td>\n",
              "      <td>NaN</td>\n",
              "      <td>NaN</td>\n",
              "      <td>NaN</td>\n",
              "      <td>...</td>\n",
              "      <td>520</td>\n",
              "      <td>613</td>\n",
              "      <td>585</td>\n",
              "      <td>NaN</td>\n",
              "      <td>NaN</td>\n",
              "      <td>29</td>\n",
              "      <td>NaN</td>\n",
              "      <td>NaN</td>\n",
              "      <td>NaN</td>\n",
              "      <td>NaN</td>\n",
              "    </tr>\n",
              "    <tr>\n",
              "      <th>first</th>\n",
              "      <td>NaN</td>\n",
              "      <td>NaN</td>\n",
              "      <td>NaN</td>\n",
              "      <td>NaN</td>\n",
              "      <td>NaN</td>\n",
              "      <td>NaN</td>\n",
              "      <td>NaN</td>\n",
              "      <td>NaN</td>\n",
              "      <td>NaN</td>\n",
              "      <td>NaN</td>\n",
              "      <td>...</td>\n",
              "      <td>NaN</td>\n",
              "      <td>NaN</td>\n",
              "      <td>NaN</td>\n",
              "      <td>NaN</td>\n",
              "      <td>NaN</td>\n",
              "      <td>NaN</td>\n",
              "      <td>NaN</td>\n",
              "      <td>NaN</td>\n",
              "      <td>NaN</td>\n",
              "      <td>NaN</td>\n",
              "    </tr>\n",
              "    <tr>\n",
              "      <th>last</th>\n",
              "      <td>NaN</td>\n",
              "      <td>NaN</td>\n",
              "      <td>NaN</td>\n",
              "      <td>NaN</td>\n",
              "      <td>NaN</td>\n",
              "      <td>NaN</td>\n",
              "      <td>NaN</td>\n",
              "      <td>NaN</td>\n",
              "      <td>NaN</td>\n",
              "      <td>NaN</td>\n",
              "      <td>...</td>\n",
              "      <td>NaN</td>\n",
              "      <td>NaN</td>\n",
              "      <td>NaN</td>\n",
              "      <td>NaN</td>\n",
              "      <td>NaN</td>\n",
              "      <td>NaN</td>\n",
              "      <td>NaN</td>\n",
              "      <td>NaN</td>\n",
              "      <td>NaN</td>\n",
              "      <td>NaN</td>\n",
              "    </tr>\n",
              "    <tr>\n",
              "      <th>mean</th>\n",
              "      <td>NaN</td>\n",
              "      <td>NaN</td>\n",
              "      <td>2008.080485</td>\n",
              "      <td>NaN</td>\n",
              "      <td>297.529223</td>\n",
              "      <td>16.697698</td>\n",
              "      <td>1.813024</td>\n",
              "      <td>55.983138</td>\n",
              "      <td>124.796456</td>\n",
              "      <td>88.640238</td>\n",
              "      <td>...</td>\n",
              "      <td>NaN</td>\n",
              "      <td>NaN</td>\n",
              "      <td>NaN</td>\n",
              "      <td>3.545755</td>\n",
              "      <td>2.499445</td>\n",
              "      <td>NaN</td>\n",
              "      <td>2014.240363</td>\n",
              "      <td>31.790398</td>\n",
              "      <td>2008.080485</td>\n",
              "      <td>3.769547</td>\n",
              "    </tr>\n",
              "    <tr>\n",
              "      <th>std</th>\n",
              "      <td>NaN</td>\n",
              "      <td>NaN</td>\n",
              "      <td>7.368653</td>\n",
              "      <td>NaN</td>\n",
              "      <td>242.962537</td>\n",
              "      <td>21.614580</td>\n",
              "      <td>1.042220</td>\n",
              "      <td>68.603600</td>\n",
              "      <td>114.944185</td>\n",
              "      <td>23.735285</td>\n",
              "      <td>...</td>\n",
              "      <td>NaN</td>\n",
              "      <td>NaN</td>\n",
              "      <td>NaN</td>\n",
              "      <td>5.108627</td>\n",
              "      <td>1.670412</td>\n",
              "      <td>NaN</td>\n",
              "      <td>3.210962</td>\n",
              "      <td>11.871120</td>\n",
              "      <td>7.368653</td>\n",
              "      <td>1.591439</td>\n",
              "    </tr>\n",
              "    <tr>\n",
              "      <th>min</th>\n",
              "      <td>NaN</td>\n",
              "      <td>NaN</td>\n",
              "      <td>1985.000000</td>\n",
              "      <td>NaN</td>\n",
              "      <td>5.400000</td>\n",
              "      <td>-100.000000</td>\n",
              "      <td>0.000000</td>\n",
              "      <td>0.000000</td>\n",
              "      <td>0.000000</td>\n",
              "      <td>0.614286</td>\n",
              "      <td>...</td>\n",
              "      <td>NaN</td>\n",
              "      <td>NaN</td>\n",
              "      <td>NaN</td>\n",
              "      <td>1.000000</td>\n",
              "      <td>1.000000</td>\n",
              "      <td>NaN</td>\n",
              "      <td>2009.000000</td>\n",
              "      <td>17.906046</td>\n",
              "      <td>1985.000000</td>\n",
              "      <td>0.816250</td>\n",
              "    </tr>\n",
              "    <tr>\n",
              "      <th>25%</th>\n",
              "      <td>NaN</td>\n",
              "      <td>NaN</td>\n",
              "      <td>2004.000000</td>\n",
              "      <td>NaN</td>\n",
              "      <td>107.000000</td>\n",
              "      <td>6.900000</td>\n",
              "      <td>1.179347</td>\n",
              "      <td>0.000000</td>\n",
              "      <td>32.335044</td>\n",
              "      <td>81.728291</td>\n",
              "      <td>...</td>\n",
              "      <td>NaN</td>\n",
              "      <td>NaN</td>\n",
              "      <td>NaN</td>\n",
              "      <td>1.000000</td>\n",
              "      <td>1.000000</td>\n",
              "      <td>NaN</td>\n",
              "      <td>2011.000000</td>\n",
              "      <td>19.073668</td>\n",
              "      <td>2004.000000</td>\n",
              "      <td>2.359000</td>\n",
              "    </tr>\n",
              "    <tr>\n",
              "      <th>50%</th>\n",
              "      <td>NaN</td>\n",
              "      <td>NaN</td>\n",
              "      <td>2008.000000</td>\n",
              "      <td>NaN</td>\n",
              "      <td>228.350000</td>\n",
              "      <td>15.260000</td>\n",
              "      <td>1.636605</td>\n",
              "      <td>27.638216</td>\n",
              "      <td>110.000000</td>\n",
              "      <td>95.586195</td>\n",
              "      <td>...</td>\n",
              "      <td>NaN</td>\n",
              "      <td>NaN</td>\n",
              "      <td>NaN</td>\n",
              "      <td>2.000000</td>\n",
              "      <td>2.000000</td>\n",
              "      <td>NaN</td>\n",
              "      <td>2014.000000</td>\n",
              "      <td>30.215100</td>\n",
              "      <td>2008.000000</td>\n",
              "      <td>3.598250</td>\n",
              "    </tr>\n",
              "    <tr>\n",
              "      <th>75%</th>\n",
              "      <td>NaN</td>\n",
              "      <td>NaN</td>\n",
              "      <td>2014.000000</td>\n",
              "      <td>NaN</td>\n",
              "      <td>430.000000</td>\n",
              "      <td>24.770000</td>\n",
              "      <td>2.199250</td>\n",
              "      <td>97.915000</td>\n",
              "      <td>181.673277</td>\n",
              "      <td>100.000000</td>\n",
              "      <td>...</td>\n",
              "      <td>NaN</td>\n",
              "      <td>NaN</td>\n",
              "      <td>NaN</td>\n",
              "      <td>4.000000</td>\n",
              "      <td>3.000000</td>\n",
              "      <td>NaN</td>\n",
              "      <td>2017.000000</td>\n",
              "      <td>42.552050</td>\n",
              "      <td>2014.000000</td>\n",
              "      <td>4.781167</td>\n",
              "    </tr>\n",
              "    <tr>\n",
              "      <th>max</th>\n",
              "      <td>NaN</td>\n",
              "      <td>NaN</td>\n",
              "      <td>2021.000000</td>\n",
              "      <td>NaN</td>\n",
              "      <td>1000.000000</td>\n",
              "      <td>167.000000</td>\n",
              "      <td>12.550000</td>\n",
              "      <td>468.000000</td>\n",
              "      <td>1253.300000</td>\n",
              "      <td>164.000000</td>\n",
              "      <td>...</td>\n",
              "      <td>NaN</td>\n",
              "      <td>NaN</td>\n",
              "      <td>NaN</td>\n",
              "      <td>64.000000</td>\n",
              "      <td>10.000000</td>\n",
              "      <td>NaN</td>\n",
              "      <td>2021.000000</td>\n",
              "      <td>66.195776</td>\n",
              "      <td>2021.000000</td>\n",
              "      <td>10.535833</td>\n",
              "    </tr>\n",
              "  </tbody>\n",
              "</table>\n",
              "<p>13 rows × 25 columns</p>\n",
              "</div>\n",
              "      <button class=\"colab-df-convert\" onclick=\"convertToInteractive('df-8f5de5c8-a1ba-4207-a956-c964755d3219')\"\n",
              "              title=\"Convert this dataframe to an interactive table.\"\n",
              "              style=\"display:none;\">\n",
              "        \n",
              "  <svg xmlns=\"http://www.w3.org/2000/svg\" height=\"24px\"viewBox=\"0 0 24 24\"\n",
              "       width=\"24px\">\n",
              "    <path d=\"M0 0h24v24H0V0z\" fill=\"none\"/>\n",
              "    <path d=\"M18.56 5.44l.94 2.06.94-2.06 2.06-.94-2.06-.94-.94-2.06-.94 2.06-2.06.94zm-11 1L8.5 8.5l.94-2.06 2.06-.94-2.06-.94L8.5 2.5l-.94 2.06-2.06.94zm10 10l.94 2.06.94-2.06 2.06-.94-2.06-.94-.94-2.06-.94 2.06-2.06.94z\"/><path d=\"M17.41 7.96l-1.37-1.37c-.4-.4-.92-.59-1.43-.59-.52 0-1.04.2-1.43.59L10.3 9.45l-7.72 7.72c-.78.78-.78 2.05 0 2.83L4 21.41c.39.39.9.59 1.41.59.51 0 1.02-.2 1.41-.59l7.78-7.78 2.81-2.81c.8-.78.8-2.07 0-2.86zM5.41 20L4 18.59l7.72-7.72 1.47 1.35L5.41 20z\"/>\n",
              "  </svg>\n",
              "      </button>\n",
              "      \n",
              "  <style>\n",
              "    .colab-df-container {\n",
              "      display:flex;\n",
              "      flex-wrap:wrap;\n",
              "      gap: 12px;\n",
              "    }\n",
              "\n",
              "    .colab-df-convert {\n",
              "      background-color: #E8F0FE;\n",
              "      border: none;\n",
              "      border-radius: 50%;\n",
              "      cursor: pointer;\n",
              "      display: none;\n",
              "      fill: #1967D2;\n",
              "      height: 32px;\n",
              "      padding: 0 0 0 0;\n",
              "      width: 32px;\n",
              "    }\n",
              "\n",
              "    .colab-df-convert:hover {\n",
              "      background-color: #E2EBFA;\n",
              "      box-shadow: 0px 1px 2px rgba(60, 64, 67, 0.3), 0px 1px 3px 1px rgba(60, 64, 67, 0.15);\n",
              "      fill: #174EA6;\n",
              "    }\n",
              "\n",
              "    [theme=dark] .colab-df-convert {\n",
              "      background-color: #3B4455;\n",
              "      fill: #D2E3FC;\n",
              "    }\n",
              "\n",
              "    [theme=dark] .colab-df-convert:hover {\n",
              "      background-color: #434B5C;\n",
              "      box-shadow: 0px 1px 3px 1px rgba(0, 0, 0, 0.15);\n",
              "      filter: drop-shadow(0px 1px 2px rgba(0, 0, 0, 0.3));\n",
              "      fill: #FFFFFF;\n",
              "    }\n",
              "  </style>\n",
              "\n",
              "      <script>\n",
              "        const buttonEl =\n",
              "          document.querySelector('#df-8f5de5c8-a1ba-4207-a956-c964755d3219 button.colab-df-convert');\n",
              "        buttonEl.style.display =\n",
              "          google.colab.kernel.accessAllowed ? 'block' : 'none';\n",
              "\n",
              "        async function convertToInteractive(key) {\n",
              "          const element = document.querySelector('#df-8f5de5c8-a1ba-4207-a956-c964755d3219');\n",
              "          const dataTable =\n",
              "            await google.colab.kernel.invokeFunction('convertToInteractive',\n",
              "                                                     [key], {});\n",
              "          if (!dataTable) return;\n",
              "\n",
              "          const docLinkHtml = 'Like what you see? Visit the ' +\n",
              "            '<a target=\"_blank\" href=https://colab.research.google.com/notebooks/data_table.ipynb>data table notebook</a>'\n",
              "            + ' to learn more about interactive tables.';\n",
              "          element.innerHTML = '';\n",
              "          dataTable['output_type'] = 'display_data';\n",
              "          await google.colab.output.renderOutput(dataTable, element);\n",
              "          const docLink = document.createElement('div');\n",
              "          docLink.innerHTML = docLinkHtml;\n",
              "          element.appendChild(docLink);\n",
              "        }\n",
              "      </script>\n",
              "    </div>\n",
              "  </div>\n",
              "  "
            ]
          },
          "metadata": {},
          "execution_count": 705
        }
      ]
    },
    {
      "cell_type": "code",
      "source": [],
      "metadata": {
        "id": "BYp9XLpu2o16"
      },
      "execution_count": null,
      "outputs": []
    },
    {
      "cell_type": "code",
      "source": [
        "df.info()"
      ],
      "metadata": {
        "colab": {
          "base_uri": "https://localhost:8080/"
        },
        "id": "rcuGueIrpENg",
        "outputId": "78c2193f-465d-4717-c01a-e6ee468db4f2"
      },
      "execution_count": null,
      "outputs": [
        {
          "output_type": "stream",
          "name": "stdout",
          "text": [
            "<class 'pandas.core.frame.DataFrame'>\n",
            "Int64Index: 907 entries, 0 to 906\n",
            "Data columns (total 25 columns):\n",
            " #   Column                      Non-Null Count  Dtype         \n",
            "---  ------                      --------------  -----         \n",
            " 0   Name                        907 non-null    object        \n",
            " 1   Asset Class                 907 non-null    object        \n",
            " 2   Vintage/Inception Year      907 non-null    int64         \n",
            " 3   Strategy                    907 non-null    object        \n",
            " 4   Final Close Size            901 non-null    float64       \n",
            " 5   Net IRR %                   789 non-null    float64       \n",
            " 6   Net Multiple (X)            844 non-null    float64       \n",
            " 7   RVPI %                      855 non-null    float64       \n",
            " 8   DPI (%)                     859 non-null    float64       \n",
            " 9   Called %                    879 non-null    float64       \n",
            " 10  Quartile Rank               598 non-null    object        \n",
            " 11  Date Reported               907 non-null    datetime64[ns]\n",
            " 12  Status                      907 non-null    object        \n",
            " 13  Geographic Focus            903 non-null    object        \n",
            " 14  Fund Manager                907 non-null    object        \n",
            " 15  Country                     907 non-null    object        \n",
            " 16  Core Industries             907 non-null    object        \n",
            " 17  Industry Verticals          907 non-null    object        \n",
            " 18  Fund Number (Overall)       907 non-null    int64         \n",
            " 19  Fund Number (Series)        901 non-null    float64       \n",
            " 20  Industries                  897 non-null    object        \n",
            " 21  MSCI_year                   441 non-null    float64       \n",
            " 22  MSCI (Adj Close)            441 non-null    float64       \n",
            " 23  Treasury_year               907 non-null    float64       \n",
            " 24  10-yr Treasury (Adj Close)  907 non-null    float64       \n",
            "dtypes: datetime64[ns](1), float64(11), int64(2), object(11)\n",
            "memory usage: 184.2+ KB\n"
          ]
        }
      ]
    },
    {
      "cell_type": "code",
      "source": [
        "numerical_columns = [i for i in df.columns if df[i].dtype not in ('datetime64[ns]', 'object')]\n",
        "numerical_columns.remove('Net IRR %')"
      ],
      "metadata": {
        "id": "5ldJHr6OpIGc"
      },
      "execution_count": null,
      "outputs": []
    },
    {
      "cell_type": "code",
      "source": [
        "categorical_columns = list(summary_stats.loc['unique'].index[list(summary_stats.loc['unique'].values < 17)])\n",
        "categorical_columns.remove('Asset Class')\n",
        "\n",
        "\n",
        "\n"
      ],
      "metadata": {
        "colab": {
          "base_uri": "https://localhost:8080/"
        },
        "id": "oCjwAsrLkUkP",
        "outputId": "611a6bbe-337e-4b02-c9b4-e0ebbaf90322"
      },
      "execution_count": null,
      "outputs": [
        {
          "output_type": "stream",
          "name": "stderr",
          "text": [
            "/usr/local/lib/python3.7/dist-packages/ipykernel_launcher.py:1: RuntimeWarning: invalid value encountered in less\n",
            "  \"\"\"Entry point for launching an IPython kernel.\n"
          ]
        }
      ]
    },
    {
      "cell_type": "code",
      "source": [
        "drop_columns = list(set(df.columns).difference((set(numerical_columns).union(categorical_columns))))\n",
        "drop_columns.remove('Net IRR %')\n",
        "drop_columns#.append('Date Reported')"
      ],
      "metadata": {
        "colab": {
          "base_uri": "https://localhost:8080/"
        },
        "id": "6lq5HP4c290V",
        "outputId": "d06b5fdc-701d-4312-f9db-53317aedd460"
      },
      "execution_count": null,
      "outputs": [
        {
          "output_type": "execute_result",
          "data": {
            "text/plain": [
              "['Country',\n",
              " 'Industry Verticals',\n",
              " 'Asset Class',\n",
              " 'Fund Manager',\n",
              " 'Industries',\n",
              " 'Name',\n",
              " 'Date Reported',\n",
              " 'Geographic Focus']"
            ]
          },
          "metadata": {},
          "execution_count": 709
        }
      ]
    },
    {
      "cell_type": "code",
      "source": [
        "fig, axes = plt.subplots(2, 2)\n",
        "fig.suptitle('Relationship between Categorical columns and Target')\n",
        "for x, y in enumerate(categorical_columns):\n",
        "  sns.boxplot(ax=axes[x//2, x%2], x=y, y='Net IRR %', data=df)\n",
        "  axes[x//2, x%2].set_title(f'{y} vs Net IRR % ')\n",
        "  axes[x//2, x%2].tick_params(axis='x', rotation=90)\n",
        "\n"
      ],
      "metadata": {
        "colab": {
          "base_uri": "https://localhost:8080/",
          "height": 1000
        },
        "id": "r_XDLj2Bl4JN",
        "outputId": "8a19e6eb-5a03-4919-f75f-ed5eb1f8fe4b"
      },
      "execution_count": null,
      "outputs": [
        {
          "output_type": "display_data",
          "data": {
            "text/plain": [
              "<Figure size 1080x1080 with 4 Axes>"
            ],
            "image/png": "[encoded data removed]"
          },
          "metadata": {
            "needs_background": "light"
          }
        }
      ]
    },
    {
      "cell_type": "code",
      "source": [
        "def fillna_numeric(df, columns):\n",
        "    for i in columns:\n",
        "        df[i] = df[i].fillna(df[~df[i].isnull()][i].mean())\n",
        "    return df"
      ],
      "metadata": {
        "id": "Cjl-jRVwqkbn"
      },
      "execution_count": null,
      "outputs": []
    },
    {
      "cell_type": "code",
      "source": [
        "df = df[~df['Net IRR %'].isna()]"
      ],
      "metadata": {
        "id": "PF5uocJw073q"
      },
      "execution_count": null,
      "outputs": []
    },
    {
      "cell_type": "code",
      "source": [
        "def preprocessing(data, target_column, test_size = 0.2, drop_columns = None):\n",
        "    if drop_columns is not None:\n",
        "      for i in drop_columns:\n",
        "          data = data.drop(columns=i)\n",
        "    y = data[target_column]\n",
        "    X = data.drop(columns=[target_column])\n",
        "\n",
        "\n",
        "    X_train, X_test, y_train, y_test =  train_test_split(X, y, test_size=0.8)\n",
        "    \n",
        "    data = fillna_numeric(data,numerical_columns)\n",
        "    preprocessor = make_column_transformer(( OneHotEncoder(handle_unknown='ignore'), categorical_columns), remainder='passthrough')\n",
        "    num_preprocessor = make_column_transformer(( MinMaxScaler(feature_range=(0, 1)), numerical_columns), remainder='passthrough')\n",
        "    X_train[numerical_columns] = num_preprocessor.fit_transform(X_train[numerical_columns])\n",
        "    X_train = preprocessor.fit_transform(pd.DataFrame(X_train))\n",
        "    X_test[numerical_columns] = num_preprocessor.transform(X_test[numerical_columns])\n",
        "    X_test = preprocessor.transform(pd.DataFrame(X_test))\n",
        "    \n",
        "\n",
        "            \n",
        "    \n",
        "    return X_train, X_test, y_train, y_test "
      ],
      "metadata": {
        "id": "JfZ0OfVTojKf"
      },
      "execution_count": null,
      "outputs": []
    },
    {
      "cell_type": "code",
      "source": [
        "df['Net IRR %']"
      ],
      "metadata": {
        "colab": {
          "base_uri": "https://localhost:8080/"
        },
        "id": "ywymoqCH0wdF",
        "outputId": "f8d9f12d-48c5-4907-8c72-d7b947eff858"
      },
      "execution_count": null,
      "outputs": [
        {
          "output_type": "execute_result",
          "data": {
            "text/plain": [
              "4     -40.529116\n",
              "5     -26.640000\n",
              "6     -26.400000\n",
              "7     -22.480000\n",
              "8     -22.210000\n",
              "         ...    \n",
              "902    20.200000\n",
              "903    24.900000\n",
              "904    30.340000\n",
              "905    18.040000\n",
              "906     4.750000\n",
              "Name: Net IRR %, Length: 789, dtype: float64"
            ]
          },
          "metadata": {},
          "execution_count": 714
        }
      ]
    },
    {
      "cell_type": "code",
      "source": [
        "X_train, X_test, y_train, y_test = preprocessing(df,'Net IRR %', drop_columns =drop_columns)"
      ],
      "metadata": {
        "id": "7jXZGuMtzTEK"
      },
      "execution_count": null,
      "outputs": []
    },
    {
      "cell_type": "code",
      "source": [
        "X_train.shape"
      ],
      "metadata": {
        "colab": {
          "base_uri": "https://localhost:8080/"
        },
        "id": "LLbdLcyq6gUQ",
        "outputId": "c957d030-91a8-4ca5-cc0e-f9e41e3d3aa5"
      },
      "execution_count": null,
      "outputs": [
        {
          "output_type": "execute_result",
          "data": {
            "text/plain": [
              "(157, 35)"
            ]
          },
          "metadata": {},
          "execution_count": 716
        }
      ]
    },
    {
      "cell_type": "code",
      "source": [
        "X_test.shape"
      ],
      "metadata": {
        "colab": {
          "base_uri": "https://localhost:8080/"
        },
        "id": "0ka47RJd60fh",
        "outputId": "9a8519b3-9561-4ace-e05d-1d4fdd9c5dc1"
      },
      "execution_count": null,
      "outputs": [
        {
          "output_type": "execute_result",
          "data": {
            "text/plain": [
              "(632, 35)"
            ]
          },
          "metadata": {},
          "execution_count": 717
        }
      ]
    },
    {
      "cell_type": "markdown",
      "source": [
        "# Model"
      ],
      "metadata": {
        "id": "AwTzembK78sJ"
      }
    },
    {
      "cell_type": "markdown",
      "source": [
        "## XGB"
      ],
      "metadata": {
        "id": "ZRS6P89Q7-R1"
      }
    },
    {
      "cell_type": "code",
      "source": [
        "xgb = XGBRegressor()\n",
        "xgb.fit(X_train, y_train)\n",
        "xgb_y_pred = xgb.predict(X_test)"
      ],
      "metadata": {
        "colab": {
          "base_uri": "https://localhost:8080/"
        },
        "id": "tVXgZj3I2P4C",
        "outputId": "4dcefc36-0f93-46ce-cd22-de891bb24267"
      },
      "execution_count": null,
      "outputs": [
        {
          "output_type": "stream",
          "name": "stdout",
          "text": [
            "[11:44:57] WARNING: /workspace/src/objective/regression_obj.cu:152: reg:linear is now deprecated in favor of reg:squarederror.\n"
          ]
        }
      ]
    },
    {
      "cell_type": "code",
      "source": [
        "xgb_metric = mean_absolute_error(xgb_y_pred, y_test)"
      ],
      "metadata": {
        "id": "rhCyKtXh7BwM",
        "outputId": "eac18329-00b5-4970-ea44-0428390ef063",
        "colab": {
          "base_uri": "https://localhost:8080/",
          "height": 169
        }
      },
      "execution_count": 1,
      "outputs": [
        {
          "output_type": "error",
          "ename": "NameError",
          "evalue": "ignored",
          "traceback": [
            "\u001b[0;31m---------------------------------------------------------------------------\u001b[0m",
            "\u001b[0;31mNameError\u001b[0m                                 Traceback (most recent call last)",
            "\u001b[0;32m<ipython-input-1-82b510adc918>\u001b[0m in \u001b[0;36m<module>\u001b[0;34m\u001b[0m\n\u001b[0;32m----> 1\u001b[0;31m \u001b[0mxgb_metric\u001b[0m \u001b[0;34m=\u001b[0m \u001b[0mmean_absolute_error\u001b[0m\u001b[0;34m(\u001b[0m\u001b[0mxgb_y_pred\u001b[0m\u001b[0;34m,\u001b[0m \u001b[0my_test\u001b[0m\u001b[0;34m)\u001b[0m\u001b[0;34m\u001b[0m\u001b[0;34m\u001b[0m\u001b[0m\n\u001b[0m",
            "\u001b[0;31mNameError\u001b[0m: name 'mean_absolute_error' is not defined"
          ]
        }
      ]
    },
    {
      "cell_type": "markdown",
      "source": [
        "## CATBOOST"
      ],
      "metadata": {
        "id": "Tv0Pik758Bs2"
      }
    },
    {
      "cell_type": "code",
      "source": [
        "from catboost import CatBoostRegressor\n",
        "# Initialize data\n",
        "\n",
        "cat_model = CatBoostRegressor(iterations=2,\n",
        "                          learning_rate=1,\n",
        "                          depth=2)\n",
        "# Fit model\n",
        "cat_model.fit(X_train, y_train)\n",
        "# Get predictions\n",
        "cat_preds = cat_model.predict(X_test)"
      ],
      "metadata": {
        "colab": {
          "base_uri": "https://localhost:8080/"
        },
        "id": "TtFKsk0N7gFT",
        "outputId": "7539dbaa-8211-4390-8726-0d60feaba714"
      },
      "execution_count": null,
      "outputs": [
        {
          "output_type": "stream",
          "name": "stdout",
          "text": [
            "0:\tlearn: 15.8062572\ttotal: 433us\tremaining: 433us\n",
            "1:\tlearn: 13.3256063\ttotal: 1.78ms\tremaining: 0us\n"
          ]
        }
      ]
    },
    {
      "cell_type": "code",
      "source": [
        "cat_metric =mean_absolute_error(cat_preds, y_test)"
      ],
      "metadata": {
        "id": "NFTHWwnK7y2E"
      },
      "execution_count": null,
      "outputs": []
    },
    {
      "cell_type": "markdown",
      "source": [
        "## LIGHTGBM"
      ],
      "metadata": {
        "id": "YY47AUtS9v3f"
      }
    },
    {
      "cell_type": "code",
      "source": [
        "import lightgbm as lgb\n"
      ],
      "metadata": {
        "id": "VqVrXADQ8owk"
      },
      "execution_count": null,
      "outputs": []
    },
    {
      "cell_type": "code",
      "source": [
        "lgb_model = lgb.LGBMRegressor(learning_rate=0.09)\n",
        "lgb_model.fit(X_train, y_train)"
      ],
      "metadata": {
        "colab": {
          "base_uri": "https://localhost:8080/"
        },
        "id": "081mIEgm8j--",
        "outputId": "d835646d-bb36-46e9-b302-ae81e49e4568"
      },
      "execution_count": null,
      "outputs": [
        {
          "output_type": "execute_result",
          "data": {
            "text/plain": [
              "LGBMRegressor(learning_rate=0.09)"
            ]
          },
          "metadata": {},
          "execution_count": 723
        }
      ]
    },
    {
      "cell_type": "code",
      "source": [
        "lgb_preds = lgb_model.predict(X_test)"
      ],
      "metadata": {
        "id": "TGCXDCYg9OnO"
      },
      "execution_count": null,
      "outputs": []
    },
    {
      "cell_type": "code",
      "source": [
        "lgb_metric = mean_absolute_error(lgb_preds, y_test)"
      ],
      "metadata": {
        "id": "X08_GcFQ9Ucp"
      },
      "execution_count": null,
      "outputs": []
    },
    {
      "cell_type": "code",
      "source": [
        "model_metrics = {'XGB': xgb_metric, 'CAT': cat_metric, 'LIGHTGBM': lgb_metric}"
      ],
      "metadata": {
        "id": "eor5FUnl-5TI"
      },
      "execution_count": null,
      "outputs": []
    },
    {
      "cell_type": "code",
      "source": [
        "ax = pd.DataFrame(model_metrics.values(), model_metrics.keys()).plot.bar()"
      ],
      "metadata": {
        "colab": {
          "base_uri": "https://localhost:8080/",
          "height": 906
        },
        "id": "v0IOC0po_Qm6",
        "outputId": "9a8e8147-38d7-468c-e557-e81c4670414e"
      },
      "execution_count": null,
      "outputs": [
        {
          "output_type": "display_data",
          "data": {
            "text/plain": [
              "<Figure size 1080x1080 with 1 Axes>"
            ],
            "image/png": "[encoded data removed]"
          },
          "metadata": {
            "needs_background": "light"
          }
        }
      ]
    },
    {
      "cell_type": "code",
      "source": [],
      "metadata": {
        "id": "aFEFet4qAi-v"
      },
      "execution_count": null,
      "outputs": []
    }
  ],
  "metadata": {
    "kernelspec": {
      "display_name": "Python 3.9 (tensorflow)",
      "language": "python",
      "name": "tensorflow"
    },
    "language_info": {
      "codemirror_mode": {
        "name": "ipython",
        "version": 3
      },
      "file_extension": ".py",
      "mimetype": "text/x-python",
      "name": "python",
      "nbconvert_exporter": "python",
      "pygments_lexer": "ipython3",
      "version": "3.9.10"
    },
    "orig_nbformat": 4,
    "colab": {
      "provenance": [],
      "collapsed_sections": [],
      "include_colab_link": true
    }
  },
  "nbformat": 4,
  "nbformat_minor": 0
}