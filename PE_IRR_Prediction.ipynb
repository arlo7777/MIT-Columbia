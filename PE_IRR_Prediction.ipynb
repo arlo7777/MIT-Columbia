{
  "nbformat": 4,
  "nbformat_minor": 0,
  "metadata": {
    "colab": {
      "provenance": [],
      "authorship_tag": "ABX9TyOAAbAbwUK9KrhRPhmiSXE9",
      "include_colab_link": true
    },
    "kernelspec": {
      "name": "python3",
      "display_name": "Python 3"
    },
    "language_info": {
      "name": "python"
    }
  },
  "cells": [
    {
      "cell_type": "markdown",
      "metadata": {
        "id": "view-in-github",
        "colab_type": "text"
      },
      "source": [
        "<a href=\"https://colab.research.google.com/github/arlo7777/Project-MIT-Columbia/blob/main/PE_IRR_Prediction.ipynb\" target=\"_parent\"><img src=\"https://colab.research.google.com/assets/colab-badge.svg\" alt=\"Open In Colab\"/></a>"
      ]
    },
    {
      "cell_type": "code",
      "execution_count": null,
      "metadata": {
        "id": "vix1z6eo6cBw"
      },
      "outputs": [],
      "source": [
        "import pandas as pd \n",
        "import seaborn as sns \n",
        "import matplotlib.pyplot as plt\n",
        "plt.rcParams[\"figure.figsize\"] = (15,15)\n",
        "import pandas as pd\n",
        "from sklearn.preprocessing import LabelEncoder, MinMaxScaler, OneHotEncoder\n",
        "from sklearn.pipeline import Pipeline\n",
        "from sklearn.compose import ColumnTransformer, make_column_transformer\n",
        "from sklearn.model_selection import train_test_split\n",
        "import numpy as np\n",
        "from sklearn.linear_model import LinearRegression\n",
        "from sklearn.svm import SVR\n",
        "from sklearn.neighbors import KNeighborsRegressor\n",
        "from sklearn.tree import DecisionTreeRegressor\n",
        "from sklearn.ensemble import GradientBoostingRegressor, RandomForestRegressor\n",
        "from xgboost import XGBRegressor\n",
        "from sklearn.model_selection import GridSearchCV, RandomizedSearchCV\n",
        "from sklearn.metrics import mean_absolute_error , r2_score , mean_squared_error\n",
        "from sklearn.metrics import SCORERS\n",
        "import tensorflow as tf\n",
        "from tensorflow.keras.layers import Dense, BatchNormalization, Input, Dropout\n",
        "from tensorflow.keras import Model\n",
        "import tensorflow as tf"
      ]
    },
    {
      "cell_type": "code",
      "source": [
        "!pip install xgboost\n",
        "!pip install catboost\n",
        "!pip install lightgbm\n",
        "!pip install tensorflow"
      ],
      "metadata": {
        "colab": {
          "base_uri": "https://localhost:8080/"
        },
        "id": "IWw6aFi46r-Y",
        "outputId": "64a50828-697d-48de-f750-ec5b5e8c6cc1"
      },
      "execution_count": null,
      "outputs": [
        {
          "output_type": "stream",
          "name": "stdout",
          "text": [
            "Looking in indexes: https://pypi.org/simple, https://us-python.pkg.dev/colab-wheels/public/simple/\n",
            "Requirement already satisfied: xgboost in /usr/local/lib/python3.7/dist-packages (0.90)\n",
            "Requirement already satisfied: scipy in /usr/local/lib/python3.7/dist-packages (from xgboost) (1.7.3)\n",
            "Requirement already satisfied: numpy in /usr/local/lib/python3.7/dist-packages (from xgboost) (1.21.6)\n",
            "Looking in indexes: https://pypi.org/simple, https://us-python.pkg.dev/colab-wheels/public/simple/\n",
            "Requirement already satisfied: catboost in /usr/local/lib/python3.7/dist-packages (1.1)\n",
            "Requirement already satisfied: scipy in /usr/local/lib/python3.7/dist-packages (from catboost) (1.7.3)\n",
            "Requirement already satisfied: matplotlib in /usr/local/lib/python3.7/dist-packages (from catboost) (3.2.2)\n",
            "Requirement already satisfied: numpy>=1.16.0 in /usr/local/lib/python3.7/dist-packages (from catboost) (1.21.6)\n",
            "Requirement already satisfied: six in /usr/local/lib/python3.7/dist-packages (from catboost) (1.15.0)\n",
            "Requirement already satisfied: graphviz in /usr/local/lib/python3.7/dist-packages (from catboost) (0.10.1)\n",
            "Requirement already satisfied: pandas>=0.24.0 in /usr/local/lib/python3.7/dist-packages (from catboost) (1.3.5)\n",
            "Requirement already satisfied: plotly in /usr/local/lib/python3.7/dist-packages (from catboost) (5.5.0)\n",
            "Requirement already satisfied: pytz>=2017.3 in /usr/local/lib/python3.7/dist-packages (from pandas>=0.24.0->catboost) (2022.4)\n",
            "Requirement already satisfied: python-dateutil>=2.7.3 in /usr/local/lib/python3.7/dist-packages (from pandas>=0.24.0->catboost) (2.8.2)\n",
            "Requirement already satisfied: kiwisolver>=1.0.1 in /usr/local/lib/python3.7/dist-packages (from matplotlib->catboost) (1.4.4)\n",
            "Requirement already satisfied: pyparsing!=2.0.4,!=2.1.2,!=2.1.6,>=2.0.1 in /usr/local/lib/python3.7/dist-packages (from matplotlib->catboost) (3.0.9)\n",
            "Requirement already satisfied: cycler>=0.10 in /usr/local/lib/python3.7/dist-packages (from matplotlib->catboost) (0.11.0)\n",
            "Requirement already satisfied: typing-extensions in /usr/local/lib/python3.7/dist-packages (from kiwisolver>=1.0.1->matplotlib->catboost) (4.1.1)\n",
            "Requirement already satisfied: tenacity>=6.2.0 in /usr/local/lib/python3.7/dist-packages (from plotly->catboost) (8.1.0)\n",
            "Looking in indexes: https://pypi.org/simple, https://us-python.pkg.dev/colab-wheels/public/simple/\n",
            "Requirement already satisfied: lightgbm in /usr/local/lib/python3.7/dist-packages (2.2.3)\n",
            "Requirement already satisfied: numpy in /usr/local/lib/python3.7/dist-packages (from lightgbm) (1.21.6)\n",
            "Requirement already satisfied: scipy in /usr/local/lib/python3.7/dist-packages (from lightgbm) (1.7.3)\n",
            "Requirement already satisfied: scikit-learn in /usr/local/lib/python3.7/dist-packages (from lightgbm) (1.0.2)\n",
            "Requirement already satisfied: threadpoolctl>=2.0.0 in /usr/local/lib/python3.7/dist-packages (from scikit-learn->lightgbm) (3.1.0)\n",
            "Requirement already satisfied: joblib>=0.11 in /usr/local/lib/python3.7/dist-packages (from scikit-learn->lightgbm) (1.2.0)\n",
            "Looking in indexes: https://pypi.org/simple, https://us-python.pkg.dev/colab-wheels/public/simple/\n",
            "Requirement already satisfied: tensorflow in /usr/local/lib/python3.7/dist-packages (2.9.2)\n",
            "Requirement already satisfied: protobuf<3.20,>=3.9.2 in /usr/local/lib/python3.7/dist-packages (from tensorflow) (3.17.3)\n",
            "Requirement already satisfied: keras-preprocessing>=1.1.1 in /usr/local/lib/python3.7/dist-packages (from tensorflow) (1.1.2)\n",
            "Requirement already satisfied: libclang>=13.0.0 in /usr/local/lib/python3.7/dist-packages (from tensorflow) (14.0.6)\n",
            "Requirement already satisfied: typing-extensions>=3.6.6 in /usr/local/lib/python3.7/dist-packages (from tensorflow) (4.1.1)\n",
            "Requirement already satisfied: grpcio<2.0,>=1.24.3 in /usr/local/lib/python3.7/dist-packages (from tensorflow) (1.49.1)\n",
            "Requirement already satisfied: astunparse>=1.6.0 in /usr/local/lib/python3.7/dist-packages (from tensorflow) (1.6.3)\n",
            "Requirement already satisfied: gast<=0.4.0,>=0.2.1 in /usr/local/lib/python3.7/dist-packages (from tensorflow) (0.4.0)\n",
            "Requirement already satisfied: six>=1.12.0 in /usr/local/lib/python3.7/dist-packages (from tensorflow) (1.15.0)\n",
            "Requirement already satisfied: packaging in /usr/local/lib/python3.7/dist-packages (from tensorflow) (21.3)\n",
            "Requirement already satisfied: google-pasta>=0.1.1 in /usr/local/lib/python3.7/dist-packages (from tensorflow) (0.2.0)\n",
            "Requirement already satisfied: wrapt>=1.11.0 in /usr/local/lib/python3.7/dist-packages (from tensorflow) (1.14.1)\n",
            "Requirement already satisfied: tensorflow-io-gcs-filesystem>=0.23.1 in /usr/local/lib/python3.7/dist-packages (from tensorflow) (0.27.0)\n",
            "Requirement already satisfied: absl-py>=1.0.0 in /usr/local/lib/python3.7/dist-packages (from tensorflow) (1.3.0)\n",
            "Requirement already satisfied: opt-einsum>=2.3.2 in /usr/local/lib/python3.7/dist-packages (from tensorflow) (3.3.0)\n",
            "Requirement already satisfied: keras<2.10.0,>=2.9.0rc0 in /usr/local/lib/python3.7/dist-packages (from tensorflow) (2.9.0)\n",
            "Requirement already satisfied: flatbuffers<2,>=1.12 in /usr/local/lib/python3.7/dist-packages (from tensorflow) (1.12)\n",
            "Requirement already satisfied: termcolor>=1.1.0 in /usr/local/lib/python3.7/dist-packages (from tensorflow) (2.0.1)\n",
            "Requirement already satisfied: numpy>=1.20 in /usr/local/lib/python3.7/dist-packages (from tensorflow) (1.21.6)\n",
            "Requirement already satisfied: tensorflow-estimator<2.10.0,>=2.9.0rc0 in /usr/local/lib/python3.7/dist-packages (from tensorflow) (2.9.0)\n",
            "Requirement already satisfied: tensorboard<2.10,>=2.9 in /usr/local/lib/python3.7/dist-packages (from tensorflow) (2.9.1)\n",
            "Requirement already satisfied: h5py>=2.9.0 in /usr/local/lib/python3.7/dist-packages (from tensorflow) (3.1.0)\n",
            "Requirement already satisfied: setuptools in /usr/local/lib/python3.7/dist-packages (from tensorflow) (57.4.0)\n",
            "Requirement already satisfied: wheel<1.0,>=0.23.0 in /usr/local/lib/python3.7/dist-packages (from astunparse>=1.6.0->tensorflow) (0.37.1)\n",
            "Requirement already satisfied: cached-property in /usr/local/lib/python3.7/dist-packages (from h5py>=2.9.0->tensorflow) (1.5.2)\n",
            "Requirement already satisfied: tensorboard-plugin-wit>=1.6.0 in /usr/local/lib/python3.7/dist-packages (from tensorboard<2.10,>=2.9->tensorflow) (1.8.1)\n",
            "Requirement already satisfied: google-auth-oauthlib<0.5,>=0.4.1 in /usr/local/lib/python3.7/dist-packages (from tensorboard<2.10,>=2.9->tensorflow) (0.4.6)\n",
            "Requirement already satisfied: google-auth<3,>=1.6.3 in /usr/local/lib/python3.7/dist-packages (from tensorboard<2.10,>=2.9->tensorflow) (1.35.0)\n",
            "Requirement already satisfied: requests<3,>=2.21.0 in /usr/local/lib/python3.7/dist-packages (from tensorboard<2.10,>=2.9->tensorflow) (2.23.0)\n",
            "Requirement already satisfied: tensorboard-data-server<0.7.0,>=0.6.0 in /usr/local/lib/python3.7/dist-packages (from tensorboard<2.10,>=2.9->tensorflow) (0.6.1)\n",
            "Requirement already satisfied: werkzeug>=1.0.1 in /usr/local/lib/python3.7/dist-packages (from tensorboard<2.10,>=2.9->tensorflow) (1.0.1)\n",
            "Requirement already satisfied: markdown>=2.6.8 in /usr/local/lib/python3.7/dist-packages (from tensorboard<2.10,>=2.9->tensorflow) (3.4.1)\n",
            "Requirement already satisfied: pyasn1-modules>=0.2.1 in /usr/local/lib/python3.7/dist-packages (from google-auth<3,>=1.6.3->tensorboard<2.10,>=2.9->tensorflow) (0.2.8)\n",
            "Requirement already satisfied: cachetools<5.0,>=2.0.0 in /usr/local/lib/python3.7/dist-packages (from google-auth<3,>=1.6.3->tensorboard<2.10,>=2.9->tensorflow) (4.2.4)\n",
            "Requirement already satisfied: rsa<5,>=3.1.4 in /usr/local/lib/python3.7/dist-packages (from google-auth<3,>=1.6.3->tensorboard<2.10,>=2.9->tensorflow) (4.9)\n",
            "Requirement already satisfied: requests-oauthlib>=0.7.0 in /usr/local/lib/python3.7/dist-packages (from google-auth-oauthlib<0.5,>=0.4.1->tensorboard<2.10,>=2.9->tensorflow) (1.3.1)\n",
            "Requirement already satisfied: importlib-metadata>=4.4 in /usr/local/lib/python3.7/dist-packages (from markdown>=2.6.8->tensorboard<2.10,>=2.9->tensorflow) (4.13.0)\n",
            "Requirement already satisfied: zipp>=0.5 in /usr/local/lib/python3.7/dist-packages (from importlib-metadata>=4.4->markdown>=2.6.8->tensorboard<2.10,>=2.9->tensorflow) (3.9.0)\n",
            "Requirement already satisfied: pyasn1<0.5.0,>=0.4.6 in /usr/local/lib/python3.7/dist-packages (from pyasn1-modules>=0.2.1->google-auth<3,>=1.6.3->tensorboard<2.10,>=2.9->tensorflow) (0.4.8)\n",
            "Requirement already satisfied: idna<3,>=2.5 in /usr/local/lib/python3.7/dist-packages (from requests<3,>=2.21.0->tensorboard<2.10,>=2.9->tensorflow) (2.10)\n",
            "Requirement already satisfied: urllib3!=1.25.0,!=1.25.1,<1.26,>=1.21.1 in /usr/local/lib/python3.7/dist-packages (from requests<3,>=2.21.0->tensorboard<2.10,>=2.9->tensorflow) (1.24.3)\n",
            "Requirement already satisfied: certifi>=2017.4.17 in /usr/local/lib/python3.7/dist-packages (from requests<3,>=2.21.0->tensorboard<2.10,>=2.9->tensorflow) (2022.9.24)\n",
            "Requirement already satisfied: chardet<4,>=3.0.2 in /usr/local/lib/python3.7/dist-packages (from requests<3,>=2.21.0->tensorboard<2.10,>=2.9->tensorflow) (3.0.4)\n",
            "Requirement already satisfied: oauthlib>=3.0.0 in /usr/local/lib/python3.7/dist-packages (from requests-oauthlib>=0.7.0->google-auth-oauthlib<0.5,>=0.4.1->tensorboard<2.10,>=2.9->tensorflow) (3.2.1)\n",
            "Requirement already satisfied: pyparsing!=3.0.5,>=2.0.2 in /usr/local/lib/python3.7/dist-packages (from packaging->tensorflow) (3.0.9)\n"
          ]
        }
      ]
    },
    {
      "cell_type": "markdown",
      "source": [
        "open the excel raw data file"
      ],
      "metadata": {
        "id": "ZRKJDWG07IYp"
      }
    },
    {
      "cell_type": "code",
      "source": [
        "df = pd.read_excel('Data Series Final Draft.xlsx')"
      ],
      "metadata": {
        "id": "PZgr8ZoW66VU"
      },
      "execution_count": null,
      "outputs": []
    },
    {
      "cell_type": "markdown",
      "source": [
        "we want to see all columns"
      ],
      "metadata": {
        "id": "PQgHYyes7B66"
      }
    },
    {
      "cell_type": "code",
      "source": [
        "df.columns"
      ],
      "metadata": {
        "colab": {
          "base_uri": "https://localhost:8080/"
        },
        "id": "eKWvG9Uq69bL",
        "outputId": "92a2c8e3-320c-42d3-dd1c-4d723a03c014"
      },
      "execution_count": null,
      "outputs": [
        {
          "output_type": "execute_result",
          "data": {
            "text/plain": [
              "Index(['Name', 'Asset Class', 'Vintage/Inception Year', 'Strategy',\n",
              "       'Final Close Size', 'Net IRR %', 'Net Multiple (X)', 'RVPI %',\n",
              "       'DPI (%)', 'Called %', 'Quartile Rank', 'Date Reported', 'Status',\n",
              "       'Geographic Focus', 'Fund Manager', 'Country', 'Core Industries',\n",
              "       'Industry Verticals', 'Fund Number (Overall)', 'Fund Number (Series)',\n",
              "       'Industries', 'Date 10-yr Treasury', '10-yr Treasury (Adj Close)',\n",
              "       'Date MSCI', 'MSCI (Adj Close)'],\n",
              "      dtype='object')"
            ]
          },
          "metadata": {},
          "execution_count": 9
        }
      ]
    },
    {
      "cell_type": "markdown",
      "source": [
        "make a new list of 4 variables that we need to interpolate, then we drop them from our data set"
      ],
      "metadata": {
        "id": "XOzao2Rm8E0-"
      }
    },
    {
      "cell_type": "code",
      "source": [
        "date_df = df[['Date 10-yr Treasury', '10-yr Treasury (Adj Close)', 'Date MSCI', 'MSCI (Adj Close)']]\n",
        "df  = df.drop(columns=['Date 10-yr Treasury', '10-yr Treasury (Adj Close)', 'Date MSCI', 'MSCI (Adj Close)'])"
      ],
      "metadata": {
        "id": "s8tNX1a27AOE"
      },
      "execution_count": null,
      "outputs": []
    },
    {
      "cell_type": "markdown",
      "source": [
        "convert between date formats"
      ],
      "metadata": {
        "id": "SiUk8WMa8Z8H"
      }
    },
    {
      "cell_type": "code",
      "source": [
        "date_df['Treasury_year'] = pd.to_datetime(date_df['Date 10-yr Treasury']).dt.year\n",
        "date_df['MSCI_year'] = pd.to_datetime(date_df['Date MSCI']).dt.year"
      ],
      "metadata": {
        "colab": {
          "base_uri": "https://localhost:8080/"
        },
        "id": "JvmZ1Iwb7QT6",
        "outputId": "29dbcdcd-62d9-4d89-8485-5d1d03391f56"
      },
      "execution_count": null,
      "outputs": [
        {
          "output_type": "stream",
          "name": "stderr",
          "text": [
            "/usr/local/lib/python3.7/dist-packages/ipykernel_launcher.py:1: SettingWithCopyWarning: \n",
            "A value is trying to be set on a copy of a slice from a DataFrame.\n",
            "Try using .loc[row_indexer,col_indexer] = value instead\n",
            "\n",
            "See the caveats in the documentation: https://pandas.pydata.org/pandas-docs/stable/user_guide/indexing.html#returning-a-view-versus-a-copy\n",
            "  \"\"\"Entry point for launching an IPython kernel.\n",
            "/usr/local/lib/python3.7/dist-packages/ipykernel_launcher.py:2: SettingWithCopyWarning: \n",
            "A value is trying to be set on a copy of a slice from a DataFrame.\n",
            "Try using .loc[row_indexer,col_indexer] = value instead\n",
            "\n",
            "See the caveats in the documentation: https://pandas.pydata.org/pandas-docs/stable/user_guide/indexing.html#returning-a-view-versus-a-copy\n",
            "  \n"
          ]
        }
      ]
    },
    {
      "cell_type": "markdown",
      "source": [
        "interpolate monthly to yearly using the yearly mean"
      ],
      "metadata": {
        "id": "cytrZqgn8nb2"
      }
    },
    {
      "cell_type": "code",
      "source": [
        "treasury_per_year = date_df.groupby(['Treasury_year']).agg({'10-yr Treasury (Adj Close)':'mean'}).reset_index()\n",
        "msci_per_year = date_df.groupby(['MSCI_year']).agg({'MSCI (Adj Close)':'mean'}).reset_index()\n",
        "msci_per_year \n",
        "treasury_per_year"
      ],
      "metadata": {
        "colab": {
          "base_uri": "https://localhost:8080/",
          "height": 1000
        },
        "id": "Q_UFwZAO7aDe",
        "outputId": "750b7c98-024e-4ce2-e1f3-c2d7f79fea8e"
      },
      "execution_count": null,
      "outputs": [
        {
          "output_type": "execute_result",
          "data": {
            "text/plain": [
              "    Treasury_year  10-yr Treasury (Adj Close)\n",
              "0          1985.0                   10.535833\n",
              "1          1986.0                    7.570000\n",
              "2          1987.0                    8.412500\n",
              "3          1988.0                    8.830833\n",
              "4          1989.0                    8.452500\n",
              "5          1990.0                    8.557500\n",
              "6          1991.0                    7.789167\n",
              "7          1992.0                    7.030000\n",
              "8          1993.0                    5.842167\n",
              "9          1994.0                    7.120417\n",
              "10         1995.0                    6.475750\n",
              "11         1996.0                    6.453000\n",
              "12         1997.0                    6.305167\n",
              "13         1998.0                    5.195000\n",
              "14         1999.0                    5.691833\n",
              "15         2000.0                    5.954833\n",
              "16         2001.0                    4.967500\n",
              "17         2002.0                    4.533250\n",
              "18         2003.0                    3.997667\n",
              "19         2004.0                    4.255083\n",
              "20         2005.0                    4.269000\n",
              "21         2006.0                    4.781167\n",
              "22         2007.0                    4.578833\n",
              "23         2008.0                    3.598250\n",
              "24         2009.0                    3.277250\n",
              "25         2010.0                    3.130583\n",
              "26         2011.0                    2.734250\n",
              "27         2012.0                    1.740500\n",
              "28         2013.0                    2.359000\n",
              "29         2014.0                    2.481333\n",
              "30         2015.0                    2.099167\n",
              "31         2016.0                    1.823333\n",
              "32         2017.0                    2.326833\n",
              "33         2018.0                    2.888917\n",
              "34         2019.0                    2.083250\n",
              "35         2020.0                    0.816250\n",
              "36         2021.0                    1.461500\n",
              "37         2022.0                    2.811300"
            ],
            "text/html": [
              "\n",
              "  <div id=\"df-71c47a90-6fc5-4625-af2e-b3e4a738687d\">\n",
              "    <div class=\"colab-df-container\">\n",
              "      <div>\n",
              "<style scoped>\n",
              "    .dataframe tbody tr th:only-of-type {\n",
              "        vertical-align: middle;\n",
              "    }\n",
              "\n",
              "    .dataframe tbody tr th {\n",
              "        vertical-align: top;\n",
              "    }\n",
              "\n",
              "    .dataframe thead th {\n",
              "        text-align: right;\n",
              "    }\n",
              "</style>\n",
              "<table border=\"1\" class=\"dataframe\">\n",
              "  <thead>\n",
              "    <tr style=\"text-align: right;\">\n",
              "      <th></th>\n",
              "      <th>Treasury_year</th>\n",
              "      <th>10-yr Treasury (Adj Close)</th>\n",
              "    </tr>\n",
              "  </thead>\n",
              "  <tbody>\n",
              "    <tr>\n",
              "      <th>0</th>\n",
              "      <td>1985.0</td>\n",
              "      <td>10.535833</td>\n",
              "    </tr>\n",
              "    <tr>\n",
              "      <th>1</th>\n",
              "      <td>1986.0</td>\n",
              "      <td>7.570000</td>\n",
              "    </tr>\n",
              "    <tr>\n",
              "      <th>2</th>\n",
              "      <td>1987.0</td>\n",
              "      <td>8.412500</td>\n",
              "    </tr>\n",
              "    <tr>\n",
              "      <th>3</th>\n",
              "      <td>1988.0</td>\n",
              "      <td>8.830833</td>\n",
              "    </tr>\n",
              "    <tr>\n",
              "      <th>4</th>\n",
              "      <td>1989.0</td>\n",
              "      <td>8.452500</td>\n",
              "    </tr>\n",
              "    <tr>\n",
              "      <th>5</th>\n",
              "      <td>1990.0</td>\n",
              "      <td>8.557500</td>\n",
              "    </tr>\n",
              "    <tr>\n",
              "      <th>6</th>\n",
              "      <td>1991.0</td>\n",
              "      <td>7.789167</td>\n",
              "    </tr>\n",
              "    <tr>\n",
              "      <th>7</th>\n",
              "      <td>1992.0</td>\n",
              "      <td>7.030000</td>\n",
              "    </tr>\n",
              "    <tr>\n",
              "      <th>8</th>\n",
              "      <td>1993.0</td>\n",
              "      <td>5.842167</td>\n",
              "    </tr>\n",
              "    <tr>\n",
              "      <th>9</th>\n",
              "      <td>1994.0</td>\n",
              "      <td>7.120417</td>\n",
              "    </tr>\n",
              "    <tr>\n",
              "      <th>10</th>\n",
              "      <td>1995.0</td>\n",
              "      <td>6.475750</td>\n",
              "    </tr>\n",
              "    <tr>\n",
              "      <th>11</th>\n",
              "      <td>1996.0</td>\n",
              "      <td>6.453000</td>\n",
              "    </tr>\n",
              "    <tr>\n",
              "      <th>12</th>\n",
              "      <td>1997.0</td>\n",
              "      <td>6.305167</td>\n",
              "    </tr>\n",
              "    <tr>\n",
              "      <th>13</th>\n",
              "      <td>1998.0</td>\n",
              "      <td>5.195000</td>\n",
              "    </tr>\n",
              "    <tr>\n",
              "      <th>14</th>\n",
              "      <td>1999.0</td>\n",
              "      <td>5.691833</td>\n",
              "    </tr>\n",
              "    <tr>\n",
              "      <th>15</th>\n",
              "      <td>2000.0</td>\n",
              "      <td>5.954833</td>\n",
              "    </tr>\n",
              "    <tr>\n",
              "      <th>16</th>\n",
              "      <td>2001.0</td>\n",
              "      <td>4.967500</td>\n",
              "    </tr>\n",
              "    <tr>\n",
              "      <th>17</th>\n",
              "      <td>2002.0</td>\n",
              "      <td>4.533250</td>\n",
              "    </tr>\n",
              "    <tr>\n",
              "      <th>18</th>\n",
              "      <td>2003.0</td>\n",
              "      <td>3.997667</td>\n",
              "    </tr>\n",
              "    <tr>\n",
              "      <th>19</th>\n",
              "      <td>2004.0</td>\n",
              "      <td>4.255083</td>\n",
              "    </tr>\n",
              "    <tr>\n",
              "      <th>20</th>\n",
              "      <td>2005.0</td>\n",
              "      <td>4.269000</td>\n",
              "    </tr>\n",
              "    <tr>\n",
              "      <th>21</th>\n",
              "      <td>2006.0</td>\n",
              "      <td>4.781167</td>\n",
              "    </tr>\n",
              "    <tr>\n",
              "      <th>22</th>\n",
              "      <td>2007.0</td>\n",
              "      <td>4.578833</td>\n",
              "    </tr>\n",
              "    <tr>\n",
              "      <th>23</th>\n",
              "      <td>2008.0</td>\n",
              "      <td>3.598250</td>\n",
              "    </tr>\n",
              "    <tr>\n",
              "      <th>24</th>\n",
              "      <td>2009.0</td>\n",
              "      <td>3.277250</td>\n",
              "    </tr>\n",
              "    <tr>\n",
              "      <th>25</th>\n",
              "      <td>2010.0</td>\n",
              "      <td>3.130583</td>\n",
              "    </tr>\n",
              "    <tr>\n",
              "      <th>26</th>\n",
              "      <td>2011.0</td>\n",
              "      <td>2.734250</td>\n",
              "    </tr>\n",
              "    <tr>\n",
              "      <th>27</th>\n",
              "      <td>2012.0</td>\n",
              "      <td>1.740500</td>\n",
              "    </tr>\n",
              "    <tr>\n",
              "      <th>28</th>\n",
              "      <td>2013.0</td>\n",
              "      <td>2.359000</td>\n",
              "    </tr>\n",
              "    <tr>\n",
              "      <th>29</th>\n",
              "      <td>2014.0</td>\n",
              "      <td>2.481333</td>\n",
              "    </tr>\n",
              "    <tr>\n",
              "      <th>30</th>\n",
              "      <td>2015.0</td>\n",
              "      <td>2.099167</td>\n",
              "    </tr>\n",
              "    <tr>\n",
              "      <th>31</th>\n",
              "      <td>2016.0</td>\n",
              "      <td>1.823333</td>\n",
              "    </tr>\n",
              "    <tr>\n",
              "      <th>32</th>\n",
              "      <td>2017.0</td>\n",
              "      <td>2.326833</td>\n",
              "    </tr>\n",
              "    <tr>\n",
              "      <th>33</th>\n",
              "      <td>2018.0</td>\n",
              "      <td>2.888917</td>\n",
              "    </tr>\n",
              "    <tr>\n",
              "      <th>34</th>\n",
              "      <td>2019.0</td>\n",
              "      <td>2.083250</td>\n",
              "    </tr>\n",
              "    <tr>\n",
              "      <th>35</th>\n",
              "      <td>2020.0</td>\n",
              "      <td>0.816250</td>\n",
              "    </tr>\n",
              "    <tr>\n",
              "      <th>36</th>\n",
              "      <td>2021.0</td>\n",
              "      <td>1.461500</td>\n",
              "    </tr>\n",
              "    <tr>\n",
              "      <th>37</th>\n",
              "      <td>2022.0</td>\n",
              "      <td>2.811300</td>\n",
              "    </tr>\n",
              "  </tbody>\n",
              "</table>\n",
              "</div>\n",
              "      <button class=\"colab-df-convert\" onclick=\"convertToInteractive('df-71c47a90-6fc5-4625-af2e-b3e4a738687d')\"\n",
              "              title=\"Convert this dataframe to an interactive table.\"\n",
              "              style=\"display:none;\">\n",
              "        \n",
              "  <svg xmlns=\"http://www.w3.org/2000/svg\" height=\"24px\"viewBox=\"0 0 24 24\"\n",
              "       width=\"24px\">\n",
              "    <path d=\"M0 0h24v24H0V0z\" fill=\"none\"/>\n",
              "    <path d=\"M18.56 5.44l.94 2.06.94-2.06 2.06-.94-2.06-.94-.94-2.06-.94 2.06-2.06.94zm-11 1L8.5 8.5l.94-2.06 2.06-.94-2.06-.94L8.5 2.5l-.94 2.06-2.06.94zm10 10l.94 2.06.94-2.06 2.06-.94-2.06-.94-.94-2.06-.94 2.06-2.06.94z\"/><path d=\"M17.41 7.96l-1.37-1.37c-.4-.4-.92-.59-1.43-.59-.52 0-1.04.2-1.43.59L10.3 9.45l-7.72 7.72c-.78.78-.78 2.05 0 2.83L4 21.41c.39.39.9.59 1.41.59.51 0 1.02-.2 1.41-.59l7.78-7.78 2.81-2.81c.8-.78.8-2.07 0-2.86zM5.41 20L4 18.59l7.72-7.72 1.47 1.35L5.41 20z\"/>\n",
              "  </svg>\n",
              "      </button>\n",
              "      \n",
              "  <style>\n",
              "    .colab-df-container {\n",
              "      display:flex;\n",
              "      flex-wrap:wrap;\n",
              "      gap: 12px;\n",
              "    }\n",
              "\n",
              "    .colab-df-convert {\n",
              "      background-color: #E8F0FE;\n",
              "      border: none;\n",
              "      border-radius: 50%;\n",
              "      cursor: pointer;\n",
              "      display: none;\n",
              "      fill: #1967D2;\n",
              "      height: 32px;\n",
              "      padding: 0 0 0 0;\n",
              "      width: 32px;\n",
              "    }\n",
              "\n",
              "    .colab-df-convert:hover {\n",
              "      background-color: #E2EBFA;\n",
              "      box-shadow: 0px 1px 2px rgba(60, 64, 67, 0.3), 0px 1px 3px 1px rgba(60, 64, 67, 0.15);\n",
              "      fill: #174EA6;\n",
              "    }\n",
              "\n",
              "    [theme=dark] .colab-df-convert {\n",
              "      background-color: #3B4455;\n",
              "      fill: #D2E3FC;\n",
              "    }\n",
              "\n",
              "    [theme=dark] .colab-df-convert:hover {\n",
              "      background-color: #434B5C;\n",
              "      box-shadow: 0px 1px 3px 1px rgba(0, 0, 0, 0.15);\n",
              "      filter: drop-shadow(0px 1px 2px rgba(0, 0, 0, 0.3));\n",
              "      fill: #FFFFFF;\n",
              "    }\n",
              "  </style>\n",
              "\n",
              "      <script>\n",
              "        const buttonEl =\n",
              "          document.querySelector('#df-71c47a90-6fc5-4625-af2e-b3e4a738687d button.colab-df-convert');\n",
              "        buttonEl.style.display =\n",
              "          google.colab.kernel.accessAllowed ? 'block' : 'none';\n",
              "\n",
              "        async function convertToInteractive(key) {\n",
              "          const element = document.querySelector('#df-71c47a90-6fc5-4625-af2e-b3e4a738687d');\n",
              "          const dataTable =\n",
              "            await google.colab.kernel.invokeFunction('convertToInteractive',\n",
              "                                                     [key], {});\n",
              "          if (!dataTable) return;\n",
              "\n",
              "          const docLinkHtml = 'Like what you see? Visit the ' +\n",
              "            '<a target=\"_blank\" href=https://colab.research.google.com/notebooks/data_table.ipynb>data table notebook</a>'\n",
              "            + ' to learn more about interactive tables.';\n",
              "          element.innerHTML = '';\n",
              "          dataTable['output_type'] = 'display_data';\n",
              "          await google.colab.output.renderOutput(dataTable, element);\n",
              "          const docLink = document.createElement('div');\n",
              "          docLink.innerHTML = docLinkHtml;\n",
              "          element.appendChild(docLink);\n",
              "        }\n",
              "      </script>\n",
              "    </div>\n",
              "  </div>\n",
              "  "
            ]
          },
          "metadata": {},
          "execution_count": 12
        }
      ]
    },
    {
      "cell_type": "markdown",
      "source": [
        "merge or 'groupby' Vintage Year, this means match the data for any given year to the Vintage year and put it in the same row"
      ],
      "metadata": {
        "id": "XU9wxnAg87WG"
      }
    },
    {
      "cell_type": "code",
      "source": [
        "df = pd.merge(df,msci_per_year, left_on='Vintage/Inception Year', right_on='MSCI_year', how='left' )\n",
        "\n",
        "df = pd.merge(df,treasury_per_year, left_on='Vintage/Inception Year', right_on='Treasury_year', how='left' )"
      ],
      "metadata": {
        "id": "dQEUT9gE70jW"
      },
      "execution_count": null,
      "outputs": []
    },
    {
      "cell_type": "markdown",
      "source": [
        "create a correlation matrix"
      ],
      "metadata": {
        "id": "LR6iOJ8b9Olu"
      }
    },
    {
      "cell_type": "code",
      "source": [
        "sns.heatmap(df.corr(), annot=True)"
      ],
      "metadata": {
        "colab": {
          "base_uri": "https://localhost:8080/",
          "height": 1000
        },
        "id": "Tq5wQqEy85DR",
        "outputId": "abc57ade-b7c6-4f08-d8f7-ea22cfd2dbfd"
      },
      "execution_count": null,
      "outputs": [
        {
          "output_type": "execute_result",
          "data": {
            "text/plain": [
              "<matplotlib.axes._subplots.AxesSubplot at 0x7f85f06636d0>"
            ]
          },
          "metadata": {},
          "execution_count": 14
        },
        {
          "output_type": "display_data",
          "data": {
            "text/plain": [
              "<Figure size 1080x1080 with 2 Axes>"
            ],
            "image/png": "[encoded data removed]"
          },
          "metadata": {
            "needs_background": "light"
          }
        }
      ]
    },
    {
      "cell_type": "markdown",
      "source": [
        "take the absolute value of the correlation coefficient "
      ],
      "metadata": {
        "id": "4Ti_uO7a9UW3"
      }
    },
    {
      "cell_type": "code",
      "source": [
        "abs(df.corr()['Net IRR %']).sort_values().plot.barh()"
      ],
      "metadata": {
        "colab": {
          "base_uri": "https://localhost:8080/",
          "height": 881
        },
        "id": "nm-_0UqP9LD6",
        "outputId": "aea0cbb0-0834-4216-f0a8-c132f50dff4a"
      },
      "execution_count": null,
      "outputs": [
        {
          "output_type": "execute_result",
          "data": {
            "text/plain": [
              "<matplotlib.axes._subplots.AxesSubplot at 0x7f85ebead110>"
            ]
          },
          "metadata": {},
          "execution_count": 15
        },
        {
          "output_type": "display_data",
          "data": {
            "text/plain": [
              "<Figure size 1080x1080 with 1 Axes>"
            ],
            "image/png": "[encoded data removed]"
          },
          "metadata": {
            "needs_background": "light"
          }
        }
      ]
    },
    {
      "cell_type": "markdown",
      "source": [
        "examine summary stats"
      ],
      "metadata": {
        "id": "PdN15aED9ij6"
      }
    },
    {
      "cell_type": "code",
      "source": [
        "summary_stats  = df.describe(include='all')\n",
        "summary_stats"
      ],
      "metadata": {
        "colab": {
          "base_uri": "https://localhost:8080/",
          "height": 576
        },
        "id": "a0J2S0RS9TGr",
        "outputId": "e884a833-908c-456f-ed81-d06b44c83c8a"
      },
      "execution_count": null,
      "outputs": [
        {
          "output_type": "stream",
          "name": "stderr",
          "text": [
            "/usr/local/lib/python3.7/dist-packages/ipykernel_launcher.py:1: FutureWarning: Treating datetime data as categorical rather than numeric in `.describe` is deprecated and will be removed in a future version of pandas. Specify `datetime_is_numeric=True` to silence this warning and adopt the future behavior now.\n",
            "  \"\"\"Entry point for launching an IPython kernel.\n"
          ]
        },
        {
          "output_type": "execute_result",
          "data": {
            "text/plain": [
              "                                          Name     Asset Class  \\\n",
              "count                                      907             907   \n",
              "unique                                     907               1   \n",
              "top     Agilitas 2020 Private Equity Fund SCSp  Private Equity   \n",
              "freq                                         1             907   \n",
              "first                                      NaN             NaN   \n",
              "last                                       NaN             NaN   \n",
              "mean                                       NaN             NaN   \n",
              "std                                        NaN             NaN   \n",
              "min                                        NaN             NaN   \n",
              "25%                                        NaN             NaN   \n",
              "50%                                        NaN             NaN   \n",
              "75%                                        NaN             NaN   \n",
              "max                                        NaN             NaN   \n",
              "\n",
              "        Vintage/Inception Year Strategy  Final Close Size   Net IRR %  \\\n",
              "count               907.000000      907        901.000000  789.000000   \n",
              "unique                     NaN        6               NaN         NaN   \n",
              "top                        NaN   Buyout               NaN         NaN   \n",
              "freq                       NaN      585               NaN         NaN   \n",
              "first                      NaN      NaN               NaN         NaN   \n",
              "last                       NaN      NaN               NaN         NaN   \n",
              "mean               2008.080485      NaN        297.529223   16.697698   \n",
              "std                   7.368653      NaN        242.962537   21.614580   \n",
              "min                1985.000000      NaN          5.400000 -100.000000   \n",
              "25%                2004.000000      NaN        107.000000    6.900000   \n",
              "50%                2008.000000      NaN        228.350000   15.260000   \n",
              "75%                2014.000000      NaN        430.000000   24.770000   \n",
              "max                2021.000000      NaN       1000.000000  167.000000   \n",
              "\n",
              "        Net Multiple (X)      RVPI %      DPI (%)    Called %  ... Country  \\\n",
              "count         844.000000  855.000000   859.000000  879.000000  ...     907   \n",
              "unique               NaN         NaN          NaN         NaN  ...      46   \n",
              "top                  NaN         NaN          NaN         NaN  ...      US   \n",
              "freq                 NaN         NaN          NaN         NaN  ...     520   \n",
              "first                NaN         NaN          NaN         NaN  ...     NaN   \n",
              "last                 NaN         NaN          NaN         NaN  ...     NaN   \n",
              "mean            1.813024   55.983138   124.796456   88.640238  ...     NaN   \n",
              "std             1.042220   68.603600   114.944185   23.735285  ...     NaN   \n",
              "min             0.000000    0.000000     0.000000    0.614286  ...     NaN   \n",
              "25%             1.179347    0.000000    32.335044   81.728291  ...     NaN   \n",
              "50%             1.636605   27.638216   110.000000   95.586195  ...     NaN   \n",
              "75%             2.199250   97.915000   181.673277  100.000000  ...     NaN   \n",
              "max            12.550000  468.000000  1253.300000  164.000000  ...     NaN   \n",
              "\n",
              "       Core Industries Industry Verticals Fund Number (Overall)  \\\n",
              "count              907                907            907.000000   \n",
              "unique              16                 57                   NaN   \n",
              "top        Diversified      Manufacturing                   NaN   \n",
              "freq               613                585                   NaN   \n",
              "first              NaN                NaN                   NaN   \n",
              "last               NaN                NaN                   NaN   \n",
              "mean               NaN                NaN              3.545755   \n",
              "std                NaN                NaN              5.108627   \n",
              "min                NaN                NaN              1.000000   \n",
              "25%                NaN                NaN              1.000000   \n",
              "50%                NaN                NaN              2.000000   \n",
              "75%                NaN                NaN              4.000000   \n",
              "max                NaN                NaN             64.000000   \n",
              "\n",
              "       Fund Number (Series)                                   Industries  \\\n",
              "count            901.000000                                          897   \n",
              "unique                  NaN                                          653   \n",
              "top                     NaN  Consumer Services, Logistics & Distribution   \n",
              "freq                    NaN                                           29   \n",
              "first                   NaN                                          NaN   \n",
              "last                    NaN                                          NaN   \n",
              "mean               2.499445                                          NaN   \n",
              "std                1.670412                                          NaN   \n",
              "min                1.000000                                          NaN   \n",
              "25%                1.000000                                          NaN   \n",
              "50%                2.000000                                          NaN   \n",
              "75%                3.000000                                          NaN   \n",
              "max               10.000000                                          NaN   \n",
              "\n",
              "          MSCI_year MSCI (Adj Close)  Treasury_year  \\\n",
              "count    441.000000       441.000000     907.000000   \n",
              "unique          NaN              NaN            NaN   \n",
              "top             NaN              NaN            NaN   \n",
              "freq            NaN              NaN            NaN   \n",
              "first           NaN              NaN            NaN   \n",
              "last            NaN              NaN            NaN   \n",
              "mean    2014.240363        31.790398    2008.080485   \n",
              "std        3.210962        11.871120       7.368653   \n",
              "min     2009.000000        17.906046    1985.000000   \n",
              "25%     2011.000000        19.073668    2004.000000   \n",
              "50%     2014.000000        30.215100    2008.000000   \n",
              "75%     2017.000000        42.552050    2014.000000   \n",
              "max     2021.000000        66.195776    2021.000000   \n",
              "\n",
              "        10-yr Treasury (Adj Close)  \n",
              "count                   907.000000  \n",
              "unique                         NaN  \n",
              "top                            NaN  \n",
              "freq                           NaN  \n",
              "first                          NaN  \n",
              "last                           NaN  \n",
              "mean                      3.769547  \n",
              "std                       1.591439  \n",
              "min                       0.816250  \n",
              "25%                       2.359000  \n",
              "50%                       3.598250  \n",
              "75%                       4.781167  \n",
              "max                      10.535833  \n",
              "\n",
              "[13 rows x 25 columns]"
            ],
            "text/html": [
              "\n",
              "  <div id=\"df-eb23e619-5626-4262-858f-f8dabae00599\">\n",
              "    <div class=\"colab-df-container\">\n",
              "      <div>\n",
              "<style scoped>\n",
              "    .dataframe tbody tr th:only-of-type {\n",
              "        vertical-align: middle;\n",
              "    }\n",
              "\n",
              "    .dataframe tbody tr th {\n",
              "        vertical-align: top;\n",
              "    }\n",
              "\n",
              "    .dataframe thead th {\n",
              "        text-align: right;\n",
              "    }\n",
              "</style>\n",
              "<table border=\"1\" class=\"dataframe\">\n",
              "  <thead>\n",
              "    <tr style=\"text-align: right;\">\n",
              "      <th></th>\n",
              "      <th>Name</th>\n",
              "      <th>Asset Class</th>\n",
              "      <th>Vintage/Inception Year</th>\n",
              "      <th>Strategy</th>\n",
              "      <th>Final Close Size</th>\n",
              "      <th>Net IRR %</th>\n",
              "      <th>Net Multiple (X)</th>\n",
              "      <th>RVPI %</th>\n",
              "      <th>DPI (%)</th>\n",
              "      <th>Called %</th>\n",
              "      <th>...</th>\n",
              "      <th>Country</th>\n",
              "      <th>Core Industries</th>\n",
              "      <th>Industry Verticals</th>\n",
              "      <th>Fund Number (Overall)</th>\n",
              "      <th>Fund Number (Series)</th>\n",
              "      <th>Industries</th>\n",
              "      <th>MSCI_year</th>\n",
              "      <th>MSCI (Adj Close)</th>\n",
              "      <th>Treasury_year</th>\n",
              "      <th>10-yr Treasury (Adj Close)</th>\n",
              "    </tr>\n",
              "  </thead>\n",
              "  <tbody>\n",
              "    <tr>\n",
              "      <th>count</th>\n",
              "      <td>907</td>\n",
              "      <td>907</td>\n",
              "      <td>907.000000</td>\n",
              "      <td>907</td>\n",
              "      <td>901.000000</td>\n",
              "      <td>789.000000</td>\n",
              "      <td>844.000000</td>\n",
              "      <td>855.000000</td>\n",
              "      <td>859.000000</td>\n",
              "      <td>879.000000</td>\n",
              "      <td>...</td>\n",
              "      <td>907</td>\n",
              "      <td>907</td>\n",
              "      <td>907</td>\n",
              "      <td>907.000000</td>\n",
              "      <td>901.000000</td>\n",
              "      <td>897</td>\n",
              "      <td>441.000000</td>\n",
              "      <td>441.000000</td>\n",
              "      <td>907.000000</td>\n",
              "      <td>907.000000</td>\n",
              "    </tr>\n",
              "    <tr>\n",
              "      <th>unique</th>\n",
              "      <td>907</td>\n",
              "      <td>1</td>\n",
              "      <td>NaN</td>\n",
              "      <td>6</td>\n",
              "      <td>NaN</td>\n",
              "      <td>NaN</td>\n",
              "      <td>NaN</td>\n",
              "      <td>NaN</td>\n",
              "      <td>NaN</td>\n",
              "      <td>NaN</td>\n",
              "      <td>...</td>\n",
              "      <td>46</td>\n",
              "      <td>16</td>\n",
              "      <td>57</td>\n",
              "      <td>NaN</td>\n",
              "      <td>NaN</td>\n",
              "      <td>653</td>\n",
              "      <td>NaN</td>\n",
              "      <td>NaN</td>\n",
              "      <td>NaN</td>\n",
              "      <td>NaN</td>\n",
              "    </tr>\n",
              "    <tr>\n",
              "      <th>top</th>\n",
              "      <td>Agilitas 2020 Private Equity Fund SCSp</td>\n",
              "      <td>Private Equity</td>\n",
              "      <td>NaN</td>\n",
              "      <td>Buyout</td>\n",
              "      <td>NaN</td>\n",
              "      <td>NaN</td>\n",
              "      <td>NaN</td>\n",
              "      <td>NaN</td>\n",
              "      <td>NaN</td>\n",
              "      <td>NaN</td>\n",
              "      <td>...</td>\n",
              "      <td>US</td>\n",
              "      <td>Diversified</td>\n",
              "      <td>Manufacturing</td>\n",
              "      <td>NaN</td>\n",
              "      <td>NaN</td>\n",
              "      <td>Consumer Services, Logistics &amp; Distribution</td>\n",
              "      <td>NaN</td>\n",
              "      <td>NaN</td>\n",
              "      <td>NaN</td>\n",
              "      <td>NaN</td>\n",
              "    </tr>\n",
              "    <tr>\n",
              "      <th>freq</th>\n",
              "      <td>1</td>\n",
              "      <td>907</td>\n",
              "      <td>NaN</td>\n",
              "      <td>585</td>\n",
              "      <td>NaN</td>\n",
              "      <td>NaN</td>\n",
              "      <td>NaN</td>\n",
              "      <td>NaN</td>\n",
              "      <td>NaN</td>\n",
              "      <td>NaN</td>\n",
              "      <td>...</td>\n",
              "      <td>520</td>\n",
              "      <td>613</td>\n",
              "      <td>585</td>\n",
              "      <td>NaN</td>\n",
              "      <td>NaN</td>\n",
              "      <td>29</td>\n",
              "      <td>NaN</td>\n",
              "      <td>NaN</td>\n",
              "      <td>NaN</td>\n",
              "      <td>NaN</td>\n",
              "    </tr>\n",
              "    <tr>\n",
              "      <th>first</th>\n",
              "      <td>NaN</td>\n",
              "      <td>NaN</td>\n",
              "      <td>NaN</td>\n",
              "      <td>NaN</td>\n",
              "      <td>NaN</td>\n",
              "      <td>NaN</td>\n",
              "      <td>NaN</td>\n",
              "      <td>NaN</td>\n",
              "      <td>NaN</td>\n",
              "      <td>NaN</td>\n",
              "      <td>...</td>\n",
              "      <td>NaN</td>\n",
              "      <td>NaN</td>\n",
              "      <td>NaN</td>\n",
              "      <td>NaN</td>\n",
              "      <td>NaN</td>\n",
              "      <td>NaN</td>\n",
              "      <td>NaN</td>\n",
              "      <td>NaN</td>\n",
              "      <td>NaN</td>\n",
              "      <td>NaN</td>\n",
              "    </tr>\n",
              "    <tr>\n",
              "      <th>last</th>\n",
              "      <td>NaN</td>\n",
              "      <td>NaN</td>\n",
              "      <td>NaN</td>\n",
              "      <td>NaN</td>\n",
              "      <td>NaN</td>\n",
              "      <td>NaN</td>\n",
              "      <td>NaN</td>\n",
              "      <td>NaN</td>\n",
              "      <td>NaN</td>\n",
              "      <td>NaN</td>\n",
              "      <td>...</td>\n",
              "      <td>NaN</td>\n",
              "      <td>NaN</td>\n",
              "      <td>NaN</td>\n",
              "      <td>NaN</td>\n",
              "      <td>NaN</td>\n",
              "      <td>NaN</td>\n",
              "      <td>NaN</td>\n",
              "      <td>NaN</td>\n",
              "      <td>NaN</td>\n",
              "      <td>NaN</td>\n",
              "    </tr>\n",
              "    <tr>\n",
              "      <th>mean</th>\n",
              "      <td>NaN</td>\n",
              "      <td>NaN</td>\n",
              "      <td>2008.080485</td>\n",
              "      <td>NaN</td>\n",
              "      <td>297.529223</td>\n",
              "      <td>16.697698</td>\n",
              "      <td>1.813024</td>\n",
              "      <td>55.983138</td>\n",
              "      <td>124.796456</td>\n",
              "      <td>88.640238</td>\n",
              "      <td>...</td>\n",
              "      <td>NaN</td>\n",
              "      <td>NaN</td>\n",
              "      <td>NaN</td>\n",
              "      <td>3.545755</td>\n",
              "      <td>2.499445</td>\n",
              "      <td>NaN</td>\n",
              "      <td>2014.240363</td>\n",
              "      <td>31.790398</td>\n",
              "      <td>2008.080485</td>\n",
              "      <td>3.769547</td>\n",
              "    </tr>\n",
              "    <tr>\n",
              "      <th>std</th>\n",
              "      <td>NaN</td>\n",
              "      <td>NaN</td>\n",
              "      <td>7.368653</td>\n",
              "      <td>NaN</td>\n",
              "      <td>242.962537</td>\n",
              "      <td>21.614580</td>\n",
              "      <td>1.042220</td>\n",
              "      <td>68.603600</td>\n",
              "      <td>114.944185</td>\n",
              "      <td>23.735285</td>\n",
              "      <td>...</td>\n",
              "      <td>NaN</td>\n",
              "      <td>NaN</td>\n",
              "      <td>NaN</td>\n",
              "      <td>5.108627</td>\n",
              "      <td>1.670412</td>\n",
              "      <td>NaN</td>\n",
              "      <td>3.210962</td>\n",
              "      <td>11.871120</td>\n",
              "      <td>7.368653</td>\n",
              "      <td>1.591439</td>\n",
              "    </tr>\n",
              "    <tr>\n",
              "      <th>min</th>\n",
              "      <td>NaN</td>\n",
              "      <td>NaN</td>\n",
              "      <td>1985.000000</td>\n",
              "      <td>NaN</td>\n",
              "      <td>5.400000</td>\n",
              "      <td>-100.000000</td>\n",
              "      <td>0.000000</td>\n",
              "      <td>0.000000</td>\n",
              "      <td>0.000000</td>\n",
              "      <td>0.614286</td>\n",
              "      <td>...</td>\n",
              "      <td>NaN</td>\n",
              "      <td>NaN</td>\n",
              "      <td>NaN</td>\n",
              "      <td>1.000000</td>\n",
              "      <td>1.000000</td>\n",
              "      <td>NaN</td>\n",
              "      <td>2009.000000</td>\n",
              "      <td>17.906046</td>\n",
              "      <td>1985.000000</td>\n",
              "      <td>0.816250</td>\n",
              "    </tr>\n",
              "    <tr>\n",
              "      <th>25%</th>\n",
              "      <td>NaN</td>\n",
              "      <td>NaN</td>\n",
              "      <td>2004.000000</td>\n",
              "      <td>NaN</td>\n",
              "      <td>107.000000</td>\n",
              "      <td>6.900000</td>\n",
              "      <td>1.179347</td>\n",
              "      <td>0.000000</td>\n",
              "      <td>32.335044</td>\n",
              "      <td>81.728291</td>\n",
              "      <td>...</td>\n",
              "      <td>NaN</td>\n",
              "      <td>NaN</td>\n",
              "      <td>NaN</td>\n",
              "      <td>1.000000</td>\n",
              "      <td>1.000000</td>\n",
              "      <td>NaN</td>\n",
              "      <td>2011.000000</td>\n",
              "      <td>19.073668</td>\n",
              "      <td>2004.000000</td>\n",
              "      <td>2.359000</td>\n",
              "    </tr>\n",
              "    <tr>\n",
              "      <th>50%</th>\n",
              "      <td>NaN</td>\n",
              "      <td>NaN</td>\n",
              "      <td>2008.000000</td>\n",
              "      <td>NaN</td>\n",
              "      <td>228.350000</td>\n",
              "      <td>15.260000</td>\n",
              "      <td>1.636605</td>\n",
              "      <td>27.638216</td>\n",
              "      <td>110.000000</td>\n",
              "      <td>95.586195</td>\n",
              "      <td>...</td>\n",
              "      <td>NaN</td>\n",
              "      <td>NaN</td>\n",
              "      <td>NaN</td>\n",
              "      <td>2.000000</td>\n",
              "      <td>2.000000</td>\n",
              "      <td>NaN</td>\n",
              "      <td>2014.000000</td>\n",
              "      <td>30.215100</td>\n",
              "      <td>2008.000000</td>\n",
              "      <td>3.598250</td>\n",
              "    </tr>\n",
              "    <tr>\n",
              "      <th>75%</th>\n",
              "      <td>NaN</td>\n",
              "      <td>NaN</td>\n",
              "      <td>2014.000000</td>\n",
              "      <td>NaN</td>\n",
              "      <td>430.000000</td>\n",
              "      <td>24.770000</td>\n",
              "      <td>2.199250</td>\n",
              "      <td>97.915000</td>\n",
              "      <td>181.673277</td>\n",
              "      <td>100.000000</td>\n",
              "      <td>...</td>\n",
              "      <td>NaN</td>\n",
              "      <td>NaN</td>\n",
              "      <td>NaN</td>\n",
              "      <td>4.000000</td>\n",
              "      <td>3.000000</td>\n",
              "      <td>NaN</td>\n",
              "      <td>2017.000000</td>\n",
              "      <td>42.552050</td>\n",
              "      <td>2014.000000</td>\n",
              "      <td>4.781167</td>\n",
              "    </tr>\n",
              "    <tr>\n",
              "      <th>max</th>\n",
              "      <td>NaN</td>\n",
              "      <td>NaN</td>\n",
              "      <td>2021.000000</td>\n",
              "      <td>NaN</td>\n",
              "      <td>1000.000000</td>\n",
              "      <td>167.000000</td>\n",
              "      <td>12.550000</td>\n",
              "      <td>468.000000</td>\n",
              "      <td>1253.300000</td>\n",
              "      <td>164.000000</td>\n",
              "      <td>...</td>\n",
              "      <td>NaN</td>\n",
              "      <td>NaN</td>\n",
              "      <td>NaN</td>\n",
              "      <td>64.000000</td>\n",
              "      <td>10.000000</td>\n",
              "      <td>NaN</td>\n",
              "      <td>2021.000000</td>\n",
              "      <td>66.195776</td>\n",
              "      <td>2021.000000</td>\n",
              "      <td>10.535833</td>\n",
              "    </tr>\n",
              "  </tbody>\n",
              "</table>\n",
              "<p>13 rows × 25 columns</p>\n",
              "</div>\n",
              "      <button class=\"colab-df-convert\" onclick=\"convertToInteractive('df-eb23e619-5626-4262-858f-f8dabae00599')\"\n",
              "              title=\"Convert this dataframe to an interactive table.\"\n",
              "              style=\"display:none;\">\n",
              "        \n",
              "  <svg xmlns=\"http://www.w3.org/2000/svg\" height=\"24px\"viewBox=\"0 0 24 24\"\n",
              "       width=\"24px\">\n",
              "    <path d=\"M0 0h24v24H0V0z\" fill=\"none\"/>\n",
              "    <path d=\"M18.56 5.44l.94 2.06.94-2.06 2.06-.94-2.06-.94-.94-2.06-.94 2.06-2.06.94zm-11 1L8.5 8.5l.94-2.06 2.06-.94-2.06-.94L8.5 2.5l-.94 2.06-2.06.94zm10 10l.94 2.06.94-2.06 2.06-.94-2.06-.94-.94-2.06-.94 2.06-2.06.94z\"/><path d=\"M17.41 7.96l-1.37-1.37c-.4-.4-.92-.59-1.43-.59-.52 0-1.04.2-1.43.59L10.3 9.45l-7.72 7.72c-.78.78-.78 2.05 0 2.83L4 21.41c.39.39.9.59 1.41.59.51 0 1.02-.2 1.41-.59l7.78-7.78 2.81-2.81c.8-.78.8-2.07 0-2.86zM5.41 20L4 18.59l7.72-7.72 1.47 1.35L5.41 20z\"/>\n",
              "  </svg>\n",
              "      </button>\n",
              "      \n",
              "  <style>\n",
              "    .colab-df-container {\n",
              "      display:flex;\n",
              "      flex-wrap:wrap;\n",
              "      gap: 12px;\n",
              "    }\n",
              "\n",
              "    .colab-df-convert {\n",
              "      background-color: #E8F0FE;\n",
              "      border: none;\n",
              "      border-radius: 50%;\n",
              "      cursor: pointer;\n",
              "      display: none;\n",
              "      fill: #1967D2;\n",
              "      height: 32px;\n",
              "      padding: 0 0 0 0;\n",
              "      width: 32px;\n",
              "    }\n",
              "\n",
              "    .colab-df-convert:hover {\n",
              "      background-color: #E2EBFA;\n",
              "      box-shadow: 0px 1px 2px rgba(60, 64, 67, 0.3), 0px 1px 3px 1px rgba(60, 64, 67, 0.15);\n",
              "      fill: #174EA6;\n",
              "    }\n",
              "\n",
              "    [theme=dark] .colab-df-convert {\n",
              "      background-color: #3B4455;\n",
              "      fill: #D2E3FC;\n",
              "    }\n",
              "\n",
              "    [theme=dark] .colab-df-convert:hover {\n",
              "      background-color: #434B5C;\n",
              "      box-shadow: 0px 1px 3px 1px rgba(0, 0, 0, 0.15);\n",
              "      filter: drop-shadow(0px 1px 2px rgba(0, 0, 0, 0.3));\n",
              "      fill: #FFFFFF;\n",
              "    }\n",
              "  </style>\n",
              "\n",
              "      <script>\n",
              "        const buttonEl =\n",
              "          document.querySelector('#df-eb23e619-5626-4262-858f-f8dabae00599 button.colab-df-convert');\n",
              "        buttonEl.style.display =\n",
              "          google.colab.kernel.accessAllowed ? 'block' : 'none';\n",
              "\n",
              "        async function convertToInteractive(key) {\n",
              "          const element = document.querySelector('#df-eb23e619-5626-4262-858f-f8dabae00599');\n",
              "          const dataTable =\n",
              "            await google.colab.kernel.invokeFunction('convertToInteractive',\n",
              "                                                     [key], {});\n",
              "          if (!dataTable) return;\n",
              "\n",
              "          const docLinkHtml = 'Like what you see? Visit the ' +\n",
              "            '<a target=\"_blank\" href=https://colab.research.google.com/notebooks/data_table.ipynb>data table notebook</a>'\n",
              "            + ' to learn more about interactive tables.';\n",
              "          element.innerHTML = '';\n",
              "          dataTable['output_type'] = 'display_data';\n",
              "          await google.colab.output.renderOutput(dataTable, element);\n",
              "          const docLink = document.createElement('div');\n",
              "          docLink.innerHTML = docLinkHtml;\n",
              "          element.appendChild(docLink);\n",
              "        }\n",
              "      </script>\n",
              "    </div>\n",
              "  </div>\n",
              "  "
            ]
          },
          "metadata": {},
          "execution_count": 16
        },
        {
          "output_type": "stream",
          "name": "stdout",
          "text": [
            "Warning: Total number of columns (25) exceeds max_columns (20) limiting to first (20) columns.\n"
          ]
        }
      ]
    },
    {
      "cell_type": "markdown",
      "source": [
        "analyze the data type to determine interpolation method"
      ],
      "metadata": {
        "id": "bCMabSkA98RW"
      }
    },
    {
      "cell_type": "code",
      "source": [
        "df.info()"
      ],
      "metadata": {
        "colab": {
          "base_uri": "https://localhost:8080/"
        },
        "id": "g1_BES_v9hP2",
        "outputId": "fddc06f1-c870-41f7-f710-f717b9bdf66a"
      },
      "execution_count": null,
      "outputs": [
        {
          "output_type": "stream",
          "name": "stdout",
          "text": [
            "<class 'pandas.core.frame.DataFrame'>\n",
            "Int64Index: 907 entries, 0 to 906\n",
            "Data columns (total 25 columns):\n",
            " #   Column                      Non-Null Count  Dtype         \n",
            "---  ------                      --------------  -----         \n",
            " 0   Name                        907 non-null    object        \n",
            " 1   Asset Class                 907 non-null    object        \n",
            " 2   Vintage/Inception Year      907 non-null    int64         \n",
            " 3   Strategy                    907 non-null    object        \n",
            " 4   Final Close Size            901 non-null    float64       \n",
            " 5   Net IRR %                   789 non-null    float64       \n",
            " 6   Net Multiple (X)            844 non-null    float64       \n",
            " 7   RVPI %                      855 non-null    float64       \n",
            " 8   DPI (%)                     859 non-null    float64       \n",
            " 9   Called %                    879 non-null    float64       \n",
            " 10  Quartile Rank               598 non-null    object        \n",
            " 11  Date Reported               907 non-null    datetime64[ns]\n",
            " 12  Status                      907 non-null    object        \n",
            " 13  Geographic Focus            903 non-null    object        \n",
            " 14  Fund Manager                907 non-null    object        \n",
            " 15  Country                     907 non-null    object        \n",
            " 16  Core Industries             907 non-null    object        \n",
            " 17  Industry Verticals          907 non-null    object        \n",
            " 18  Fund Number (Overall)       907 non-null    int64         \n",
            " 19  Fund Number (Series)        901 non-null    float64       \n",
            " 20  Industries                  897 non-null    object        \n",
            " 21  MSCI_year                   441 non-null    float64       \n",
            " 22  MSCI (Adj Close)            441 non-null    float64       \n",
            " 23  Treasury_year               907 non-null    float64       \n",
            " 24  10-yr Treasury (Adj Close)  907 non-null    float64       \n",
            "dtypes: datetime64[ns](1), float64(11), int64(2), object(11)\n",
            "memory usage: 184.2+ KB\n"
          ]
        }
      ]
    },
    {
      "cell_type": "markdown",
      "source": [
        "show the first 5 rows"
      ],
      "metadata": {
        "id": "S7_BVRGk-RXL"
      }
    },
    {
      "cell_type": "code",
      "source": [
        "df.head()"
      ],
      "metadata": {
        "colab": {
          "base_uri": "https://localhost:8080/",
          "height": 431
        },
        "id": "PsOWNZtZ97Ip",
        "outputId": "423e2b98-bcb0-4baa-c6f8-486853f7fb0a"
      },
      "execution_count": null,
      "outputs": [
        {
          "output_type": "execute_result",
          "data": {
            "text/plain": [
              "                                     Name     Asset Class  \\\n",
              "0  Agilitas 2020 Private Equity Fund SCSp  Private Equity   \n",
              "1                         SSC Partners II  Private Equity   \n",
              "2                       Aldea Tech Fund I  Private Equity   \n",
              "3                               Polaris V  Private Equity   \n",
              "4                                   iXO 4  Private Equity   \n",
              "\n",
              "   Vintage/Inception Year       Strategy  Final Close Size  Net IRR %  \\\n",
              "0                    2021         Buyout            673.12        NaN   \n",
              "1                    2020         Buyout            555.00        NaN   \n",
              "2                    2020  Fund of Funds             98.98        NaN   \n",
              "3                    2020         Buyout            744.41        NaN   \n",
              "4                    2019         Buyout            228.14 -40.529116   \n",
              "\n",
              "   Net Multiple (X)      RVPI %  DPI (%)   Called %  ...  Country  \\\n",
              "0          0.000000    0.000000      0.0   1.648913  ...       UK   \n",
              "1          0.847797   84.779688      0.0   6.936520  ...       US   \n",
              "2          1.180000  118.000000      0.0  56.000000  ...    Spain   \n",
              "3          0.810000   81.000000      0.0  20.220000  ...  Denmark   \n",
              "4          0.795500   79.550000      0.0  20.450000  ...   France   \n",
              "\n",
              "  Core Industries                                 Industry Verticals  \\\n",
              "0     Diversified                                     Infrastructure   \n",
              "1     Diversified                                      Manufacturing   \n",
              "2     Diversified  Artificial Intelligence, Cloud Computing, Heal...   \n",
              "3     Diversified                    Clean Technology, Manufacturing   \n",
              "4     Diversified                                      Manufacturing   \n",
              "\n",
              "  Fund Number (Overall) Fund Number (Series)  \\\n",
              "0                     4                  NaN   \n",
              "1                     3                  2.0   \n",
              "2                     1                  1.0   \n",
              "3                     5                  5.0   \n",
              "4                     5                  4.0   \n",
              "\n",
              "                                          Industries MSCI_year  \\\n",
              "0  Education/Training, Environmental Services, He...    2021.0   \n",
              "1  Aerospace, Chemicals, Environmental Services, ...    2020.0   \n",
              "2                Diversified, Information Technology    2020.0   \n",
              "3  Diversified, Business Support Services, Chemic...    2020.0   \n",
              "4  Diversified, Biotechnology, Consumer Products,...    2019.0   \n",
              "\n",
              "  MSCI (Adj Close)  Treasury_year  10-yr Treasury (Adj Close)  \n",
              "0        66.195776         2021.0                     1.46150  \n",
              "1        53.608141         2020.0                     0.81625  \n",
              "2        53.608141         2020.0                     0.81625  \n",
              "3        53.608141         2020.0                     0.81625  \n",
              "4        49.988119         2019.0                     2.08325  \n",
              "\n",
              "[5 rows x 25 columns]"
            ],
            "text/html": [
              "\n",
              "  <div id=\"df-c88cd745-48d8-4ae4-a0cf-d98d19f55377\">\n",
              "    <div class=\"colab-df-container\">\n",
              "      <div>\n",
              "<style scoped>\n",
              "    .dataframe tbody tr th:only-of-type {\n",
              "        vertical-align: middle;\n",
              "    }\n",
              "\n",
              "    .dataframe tbody tr th {\n",
              "        vertical-align: top;\n",
              "    }\n",
              "\n",
              "    .dataframe thead th {\n",
              "        text-align: right;\n",
              "    }\n",
              "</style>\n",
              "<table border=\"1\" class=\"dataframe\">\n",
              "  <thead>\n",
              "    <tr style=\"text-align: right;\">\n",
              "      <th></th>\n",
              "      <th>Name</th>\n",
              "      <th>Asset Class</th>\n",
              "      <th>Vintage/Inception Year</th>\n",
              "      <th>Strategy</th>\n",
              "      <th>Final Close Size</th>\n",
              "      <th>Net IRR %</th>\n",
              "      <th>Net Multiple (X)</th>\n",
              "      <th>RVPI %</th>\n",
              "      <th>DPI (%)</th>\n",
              "      <th>Called %</th>\n",
              "      <th>...</th>\n",
              "      <th>Country</th>\n",
              "      <th>Core Industries</th>\n",
              "      <th>Industry Verticals</th>\n",
              "      <th>Fund Number (Overall)</th>\n",
              "      <th>Fund Number (Series)</th>\n",
              "      <th>Industries</th>\n",
              "      <th>MSCI_year</th>\n",
              "      <th>MSCI (Adj Close)</th>\n",
              "      <th>Treasury_year</th>\n",
              "      <th>10-yr Treasury (Adj Close)</th>\n",
              "    </tr>\n",
              "  </thead>\n",
              "  <tbody>\n",
              "    <tr>\n",
              "      <th>0</th>\n",
              "      <td>Agilitas 2020 Private Equity Fund SCSp</td>\n",
              "      <td>Private Equity</td>\n",
              "      <td>2021</td>\n",
              "      <td>Buyout</td>\n",
              "      <td>673.12</td>\n",
              "      <td>NaN</td>\n",
              "      <td>0.000000</td>\n",
              "      <td>0.000000</td>\n",
              "      <td>0.0</td>\n",
              "      <td>1.648913</td>\n",
              "      <td>...</td>\n",
              "      <td>UK</td>\n",
              "      <td>Diversified</td>\n",
              "      <td>Infrastructure</td>\n",
              "      <td>4</td>\n",
              "      <td>NaN</td>\n",
              "      <td>Education/Training, Environmental Services, He...</td>\n",
              "      <td>2021.0</td>\n",
              "      <td>66.195776</td>\n",
              "      <td>2021.0</td>\n",
              "      <td>1.46150</td>\n",
              "    </tr>\n",
              "    <tr>\n",
              "      <th>1</th>\n",
              "      <td>SSC Partners II</td>\n",
              "      <td>Private Equity</td>\n",
              "      <td>2020</td>\n",
              "      <td>Buyout</td>\n",
              "      <td>555.00</td>\n",
              "      <td>NaN</td>\n",
              "      <td>0.847797</td>\n",
              "      <td>84.779688</td>\n",
              "      <td>0.0</td>\n",
              "      <td>6.936520</td>\n",
              "      <td>...</td>\n",
              "      <td>US</td>\n",
              "      <td>Diversified</td>\n",
              "      <td>Manufacturing</td>\n",
              "      <td>3</td>\n",
              "      <td>2.0</td>\n",
              "      <td>Aerospace, Chemicals, Environmental Services, ...</td>\n",
              "      <td>2020.0</td>\n",
              "      <td>53.608141</td>\n",
              "      <td>2020.0</td>\n",
              "      <td>0.81625</td>\n",
              "    </tr>\n",
              "    <tr>\n",
              "      <th>2</th>\n",
              "      <td>Aldea Tech Fund I</td>\n",
              "      <td>Private Equity</td>\n",
              "      <td>2020</td>\n",
              "      <td>Fund of Funds</td>\n",
              "      <td>98.98</td>\n",
              "      <td>NaN</td>\n",
              "      <td>1.180000</td>\n",
              "      <td>118.000000</td>\n",
              "      <td>0.0</td>\n",
              "      <td>56.000000</td>\n",
              "      <td>...</td>\n",
              "      <td>Spain</td>\n",
              "      <td>Diversified</td>\n",
              "      <td>Artificial Intelligence, Cloud Computing, Heal...</td>\n",
              "      <td>1</td>\n",
              "      <td>1.0</td>\n",
              "      <td>Diversified, Information Technology</td>\n",
              "      <td>2020.0</td>\n",
              "      <td>53.608141</td>\n",
              "      <td>2020.0</td>\n",
              "      <td>0.81625</td>\n",
              "    </tr>\n",
              "    <tr>\n",
              "      <th>3</th>\n",
              "      <td>Polaris V</td>\n",
              "      <td>Private Equity</td>\n",
              "      <td>2020</td>\n",
              "      <td>Buyout</td>\n",
              "      <td>744.41</td>\n",
              "      <td>NaN</td>\n",
              "      <td>0.810000</td>\n",
              "      <td>81.000000</td>\n",
              "      <td>0.0</td>\n",
              "      <td>20.220000</td>\n",
              "      <td>...</td>\n",
              "      <td>Denmark</td>\n",
              "      <td>Diversified</td>\n",
              "      <td>Clean Technology, Manufacturing</td>\n",
              "      <td>5</td>\n",
              "      <td>5.0</td>\n",
              "      <td>Diversified, Business Support Services, Chemic...</td>\n",
              "      <td>2020.0</td>\n",
              "      <td>53.608141</td>\n",
              "      <td>2020.0</td>\n",
              "      <td>0.81625</td>\n",
              "    </tr>\n",
              "    <tr>\n",
              "      <th>4</th>\n",
              "      <td>iXO 4</td>\n",
              "      <td>Private Equity</td>\n",
              "      <td>2019</td>\n",
              "      <td>Buyout</td>\n",
              "      <td>228.14</td>\n",
              "      <td>-40.529116</td>\n",
              "      <td>0.795500</td>\n",
              "      <td>79.550000</td>\n",
              "      <td>0.0</td>\n",
              "      <td>20.450000</td>\n",
              "      <td>...</td>\n",
              "      <td>France</td>\n",
              "      <td>Diversified</td>\n",
              "      <td>Manufacturing</td>\n",
              "      <td>5</td>\n",
              "      <td>4.0</td>\n",
              "      <td>Diversified, Biotechnology, Consumer Products,...</td>\n",
              "      <td>2019.0</td>\n",
              "      <td>49.988119</td>\n",
              "      <td>2019.0</td>\n",
              "      <td>2.08325</td>\n",
              "    </tr>\n",
              "  </tbody>\n",
              "</table>\n",
              "<p>5 rows × 25 columns</p>\n",
              "</div>\n",
              "      <button class=\"colab-df-convert\" onclick=\"convertToInteractive('df-c88cd745-48d8-4ae4-a0cf-d98d19f55377')\"\n",
              "              title=\"Convert this dataframe to an interactive table.\"\n",
              "              style=\"display:none;\">\n",
              "        \n",
              "  <svg xmlns=\"http://www.w3.org/2000/svg\" height=\"24px\"viewBox=\"0 0 24 24\"\n",
              "       width=\"24px\">\n",
              "    <path d=\"M0 0h24v24H0V0z\" fill=\"none\"/>\n",
              "    <path d=\"M18.56 5.44l.94 2.06.94-2.06 2.06-.94-2.06-.94-.94-2.06-.94 2.06-2.06.94zm-11 1L8.5 8.5l.94-2.06 2.06-.94-2.06-.94L8.5 2.5l-.94 2.06-2.06.94zm10 10l.94 2.06.94-2.06 2.06-.94-2.06-.94-.94-2.06-.94 2.06-2.06.94z\"/><path d=\"M17.41 7.96l-1.37-1.37c-.4-.4-.92-.59-1.43-.59-.52 0-1.04.2-1.43.59L10.3 9.45l-7.72 7.72c-.78.78-.78 2.05 0 2.83L4 21.41c.39.39.9.59 1.41.59.51 0 1.02-.2 1.41-.59l7.78-7.78 2.81-2.81c.8-.78.8-2.07 0-2.86zM5.41 20L4 18.59l7.72-7.72 1.47 1.35L5.41 20z\"/>\n",
              "  </svg>\n",
              "      </button>\n",
              "      \n",
              "  <style>\n",
              "    .colab-df-container {\n",
              "      display:flex;\n",
              "      flex-wrap:wrap;\n",
              "      gap: 12px;\n",
              "    }\n",
              "\n",
              "    .colab-df-convert {\n",
              "      background-color: #E8F0FE;\n",
              "      border: none;\n",
              "      border-radius: 50%;\n",
              "      cursor: pointer;\n",
              "      display: none;\n",
              "      fill: #1967D2;\n",
              "      height: 32px;\n",
              "      padding: 0 0 0 0;\n",
              "      width: 32px;\n",
              "    }\n",
              "\n",
              "    .colab-df-convert:hover {\n",
              "      background-color: #E2EBFA;\n",
              "      box-shadow: 0px 1px 2px rgba(60, 64, 67, 0.3), 0px 1px 3px 1px rgba(60, 64, 67, 0.15);\n",
              "      fill: #174EA6;\n",
              "    }\n",
              "\n",
              "    [theme=dark] .colab-df-convert {\n",
              "      background-color: #3B4455;\n",
              "      fill: #D2E3FC;\n",
              "    }\n",
              "\n",
              "    [theme=dark] .colab-df-convert:hover {\n",
              "      background-color: #434B5C;\n",
              "      box-shadow: 0px 1px 3px 1px rgba(0, 0, 0, 0.15);\n",
              "      filter: drop-shadow(0px 1px 2px rgba(0, 0, 0, 0.3));\n",
              "      fill: #FFFFFF;\n",
              "    }\n",
              "  </style>\n",
              "\n",
              "      <script>\n",
              "        const buttonEl =\n",
              "          document.querySelector('#df-c88cd745-48d8-4ae4-a0cf-d98d19f55377 button.colab-df-convert');\n",
              "        buttonEl.style.display =\n",
              "          google.colab.kernel.accessAllowed ? 'block' : 'none';\n",
              "\n",
              "        async function convertToInteractive(key) {\n",
              "          const element = document.querySelector('#df-c88cd745-48d8-4ae4-a0cf-d98d19f55377');\n",
              "          const dataTable =\n",
              "            await google.colab.kernel.invokeFunction('convertToInteractive',\n",
              "                                                     [key], {});\n",
              "          if (!dataTable) return;\n",
              "\n",
              "          const docLinkHtml = 'Like what you see? Visit the ' +\n",
              "            '<a target=\"_blank\" href=https://colab.research.google.com/notebooks/data_table.ipynb>data table notebook</a>'\n",
              "            + ' to learn more about interactive tables.';\n",
              "          element.innerHTML = '';\n",
              "          dataTable['output_type'] = 'display_data';\n",
              "          await google.colab.output.renderOutput(dataTable, element);\n",
              "          const docLink = document.createElement('div');\n",
              "          docLink.innerHTML = docLinkHtml;\n",
              "          element.appendChild(docLink);\n",
              "        }\n",
              "      </script>\n",
              "    </div>\n",
              "  </div>\n",
              "  "
            ]
          },
          "metadata": {},
          "execution_count": 18
        },
        {
          "output_type": "stream",
          "name": "stdout",
          "text": [
            "Warning: Total number of columns (25) exceeds max_columns (20) limiting to first (20) columns.\n"
          ]
        }
      ]
    },
    {
      "cell_type": "markdown",
      "source": [
        "see how many missing values in each column - this is important to decide what rows to drop and how to interpolate missing values"
      ],
      "metadata": {
        "id": "a3GIHTd4-e5D"
      }
    },
    {
      "cell_type": "code",
      "source": [
        "df.isnull().sum()"
      ],
      "metadata": {
        "colab": {
          "base_uri": "https://localhost:8080/"
        },
        "id": "9iX82rw9-LHw",
        "outputId": "6ae5bdcf-dfd0-434c-996c-e2437edc7a4f"
      },
      "execution_count": null,
      "outputs": [
        {
          "output_type": "execute_result",
          "data": {
            "text/plain": [
              "Name                            0\n",
              "Asset Class                     0\n",
              "Vintage/Inception Year          0\n",
              "Strategy                        0\n",
              "Final Close Size                6\n",
              "Net IRR %                     118\n",
              "Net Multiple (X)               63\n",
              "RVPI %                         52\n",
              "DPI (%)                        48\n",
              "Called %                       28\n",
              "Quartile Rank                 309\n",
              "Date Reported                   0\n",
              "Status                          0\n",
              "Geographic Focus                4\n",
              "Fund Manager                    0\n",
              "Country                         0\n",
              "Core Industries                 0\n",
              "Industry Verticals              0\n",
              "Fund Number (Overall)           0\n",
              "Fund Number (Series)            6\n",
              "Industries                     10\n",
              "MSCI_year                     466\n",
              "MSCI (Adj Close)              466\n",
              "Treasury_year                   0\n",
              "10-yr Treasury (Adj Close)      0\n",
              "dtype: int64"
            ]
          },
          "metadata": {},
          "execution_count": 19
        }
      ]
    },
    {
      "cell_type": "markdown",
      "source": [],
      "metadata": {
        "id": "6-s7vhM7-w5Z"
      }
    },
    {
      "cell_type": "markdown",
      "source": [
        "create a list of columns to drop"
      ],
      "metadata": {
        "id": "lAbhH12k_2-8"
      }
    },
    {
      "cell_type": "code",
      "source": [
        "drop_cols = [\"Name\", \"Asset Class\", \"Quartile Rank\", \"Date Reported\", \"Status\", \"Geographic Focus\", \"Fund Manager\", \"Industry Verticals\", \"Industries\"]"
      ],
      "metadata": {
        "id": "ZQsaIeFc-bfE"
      },
      "execution_count": null,
      "outputs": []
    },
    {
      "cell_type": "markdown",
      "source": [
        "drop these columns as they are not inputs of the prediction model, then look at the first 5 *rows*"
      ],
      "metadata": {
        "id": "B6R6gC_9_yCK"
      }
    },
    {
      "cell_type": "code",
      "source": [
        "data = df.drop(drop_cols,axis = 1)\n",
        "data.head()"
      ],
      "metadata": {
        "colab": {
          "base_uri": "https://localhost:8080/",
          "height": 231
        },
        "id": "lTRrHebx-vnH",
        "outputId": "7f58fbd5-2f8c-454c-d1ef-0e7293e4065d"
      },
      "execution_count": null,
      "outputs": [
        {
          "output_type": "execute_result",
          "data": {
            "text/plain": [
              "   Vintage/Inception Year       Strategy  Final Close Size  Net IRR %  \\\n",
              "0                    2021         Buyout            673.12        NaN   \n",
              "1                    2020         Buyout            555.00        NaN   \n",
              "2                    2020  Fund of Funds             98.98        NaN   \n",
              "3                    2020         Buyout            744.41        NaN   \n",
              "4                    2019         Buyout            228.14 -40.529116   \n",
              "\n",
              "   Net Multiple (X)      RVPI %  DPI (%)   Called %  Country Core Industries  \\\n",
              "0          0.000000    0.000000      0.0   1.648913       UK     Diversified   \n",
              "1          0.847797   84.779688      0.0   6.936520       US     Diversified   \n",
              "2          1.180000  118.000000      0.0  56.000000    Spain     Diversified   \n",
              "3          0.810000   81.000000      0.0  20.220000  Denmark     Diversified   \n",
              "4          0.795500   79.550000      0.0  20.450000   France     Diversified   \n",
              "\n",
              "   Fund Number (Overall)  Fund Number (Series)  MSCI_year  MSCI (Adj Close)  \\\n",
              "0                      4                   NaN     2021.0         66.195776   \n",
              "1                      3                   2.0     2020.0         53.608141   \n",
              "2                      1                   1.0     2020.0         53.608141   \n",
              "3                      5                   5.0     2020.0         53.608141   \n",
              "4                      5                   4.0     2019.0         49.988119   \n",
              "\n",
              "   Treasury_year  10-yr Treasury (Adj Close)  \n",
              "0         2021.0                     1.46150  \n",
              "1         2020.0                     0.81625  \n",
              "2         2020.0                     0.81625  \n",
              "3         2020.0                     0.81625  \n",
              "4         2019.0                     2.08325  "
            ],
            "text/html": [
              "\n",
              "  <div id=\"df-d67e6d61-5454-4b9d-a84d-9cfdf3cd3b6a\">\n",
              "    <div class=\"colab-df-container\">\n",
              "      <div>\n",
              "<style scoped>\n",
              "    .dataframe tbody tr th:only-of-type {\n",
              "        vertical-align: middle;\n",
              "    }\n",
              "\n",
              "    .dataframe tbody tr th {\n",
              "        vertical-align: top;\n",
              "    }\n",
              "\n",
              "    .dataframe thead th {\n",
              "        text-align: right;\n",
              "    }\n",
              "</style>\n",
              "<table border=\"1\" class=\"dataframe\">\n",
              "  <thead>\n",
              "    <tr style=\"text-align: right;\">\n",
              "      <th></th>\n",
              "      <th>Vintage/Inception Year</th>\n",
              "      <th>Strategy</th>\n",
              "      <th>Final Close Size</th>\n",
              "      <th>Net IRR %</th>\n",
              "      <th>Net Multiple (X)</th>\n",
              "      <th>RVPI %</th>\n",
              "      <th>DPI (%)</th>\n",
              "      <th>Called %</th>\n",
              "      <th>Country</th>\n",
              "      <th>Core Industries</th>\n",
              "      <th>Fund Number (Overall)</th>\n",
              "      <th>Fund Number (Series)</th>\n",
              "      <th>MSCI_year</th>\n",
              "      <th>MSCI (Adj Close)</th>\n",
              "      <th>Treasury_year</th>\n",
              "      <th>10-yr Treasury (Adj Close)</th>\n",
              "    </tr>\n",
              "  </thead>\n",
              "  <tbody>\n",
              "    <tr>\n",
              "      <th>0</th>\n",
              "      <td>2021</td>\n",
              "      <td>Buyout</td>\n",
              "      <td>673.12</td>\n",
              "      <td>NaN</td>\n",
              "      <td>0.000000</td>\n",
              "      <td>0.000000</td>\n",
              "      <td>0.0</td>\n",
              "      <td>1.648913</td>\n",
              "      <td>UK</td>\n",
              "      <td>Diversified</td>\n",
              "      <td>4</td>\n",
              "      <td>NaN</td>\n",
              "      <td>2021.0</td>\n",
              "      <td>66.195776</td>\n",
              "      <td>2021.0</td>\n",
              "      <td>1.46150</td>\n",
              "    </tr>\n",
              "    <tr>\n",
              "      <th>1</th>\n",
              "      <td>2020</td>\n",
              "      <td>Buyout</td>\n",
              "      <td>555.00</td>\n",
              "      <td>NaN</td>\n",
              "      <td>0.847797</td>\n",
              "      <td>84.779688</td>\n",
              "      <td>0.0</td>\n",
              "      <td>6.936520</td>\n",
              "      <td>US</td>\n",
              "      <td>Diversified</td>\n",
              "      <td>3</td>\n",
              "      <td>2.0</td>\n",
              "      <td>2020.0</td>\n",
              "      <td>53.608141</td>\n",
              "      <td>2020.0</td>\n",
              "      <td>0.81625</td>\n",
              "    </tr>\n",
              "    <tr>\n",
              "      <th>2</th>\n",
              "      <td>2020</td>\n",
              "      <td>Fund of Funds</td>\n",
              "      <td>98.98</td>\n",
              "      <td>NaN</td>\n",
              "      <td>1.180000</td>\n",
              "      <td>118.000000</td>\n",
              "      <td>0.0</td>\n",
              "      <td>56.000000</td>\n",
              "      <td>Spain</td>\n",
              "      <td>Diversified</td>\n",
              "      <td>1</td>\n",
              "      <td>1.0</td>\n",
              "      <td>2020.0</td>\n",
              "      <td>53.608141</td>\n",
              "      <td>2020.0</td>\n",
              "      <td>0.81625</td>\n",
              "    </tr>\n",
              "    <tr>\n",
              "      <th>3</th>\n",
              "      <td>2020</td>\n",
              "      <td>Buyout</td>\n",
              "      <td>744.41</td>\n",
              "      <td>NaN</td>\n",
              "      <td>0.810000</td>\n",
              "      <td>81.000000</td>\n",
              "      <td>0.0</td>\n",
              "      <td>20.220000</td>\n",
              "      <td>Denmark</td>\n",
              "      <td>Diversified</td>\n",
              "      <td>5</td>\n",
              "      <td>5.0</td>\n",
              "      <td>2020.0</td>\n",
              "      <td>53.608141</td>\n",
              "      <td>2020.0</td>\n",
              "      <td>0.81625</td>\n",
              "    </tr>\n",
              "    <tr>\n",
              "      <th>4</th>\n",
              "      <td>2019</td>\n",
              "      <td>Buyout</td>\n",
              "      <td>228.14</td>\n",
              "      <td>-40.529116</td>\n",
              "      <td>0.795500</td>\n",
              "      <td>79.550000</td>\n",
              "      <td>0.0</td>\n",
              "      <td>20.450000</td>\n",
              "      <td>France</td>\n",
              "      <td>Diversified</td>\n",
              "      <td>5</td>\n",
              "      <td>4.0</td>\n",
              "      <td>2019.0</td>\n",
              "      <td>49.988119</td>\n",
              "      <td>2019.0</td>\n",
              "      <td>2.08325</td>\n",
              "    </tr>\n",
              "  </tbody>\n",
              "</table>\n",
              "</div>\n",
              "      <button class=\"colab-df-convert\" onclick=\"convertToInteractive('df-d67e6d61-5454-4b9d-a84d-9cfdf3cd3b6a')\"\n",
              "              title=\"Convert this dataframe to an interactive table.\"\n",
              "              style=\"display:none;\">\n",
              "        \n",
              "  <svg xmlns=\"http://www.w3.org/2000/svg\" height=\"24px\"viewBox=\"0 0 24 24\"\n",
              "       width=\"24px\">\n",
              "    <path d=\"M0 0h24v24H0V0z\" fill=\"none\"/>\n",
              "    <path d=\"M18.56 5.44l.94 2.06.94-2.06 2.06-.94-2.06-.94-.94-2.06-.94 2.06-2.06.94zm-11 1L8.5 8.5l.94-2.06 2.06-.94-2.06-.94L8.5 2.5l-.94 2.06-2.06.94zm10 10l.94 2.06.94-2.06 2.06-.94-2.06-.94-.94-2.06-.94 2.06-2.06.94z\"/><path d=\"M17.41 7.96l-1.37-1.37c-.4-.4-.92-.59-1.43-.59-.52 0-1.04.2-1.43.59L10.3 9.45l-7.72 7.72c-.78.78-.78 2.05 0 2.83L4 21.41c.39.39.9.59 1.41.59.51 0 1.02-.2 1.41-.59l7.78-7.78 2.81-2.81c.8-.78.8-2.07 0-2.86zM5.41 20L4 18.59l7.72-7.72 1.47 1.35L5.41 20z\"/>\n",
              "  </svg>\n",
              "      </button>\n",
              "      \n",
              "  <style>\n",
              "    .colab-df-container {\n",
              "      display:flex;\n",
              "      flex-wrap:wrap;\n",
              "      gap: 12px;\n",
              "    }\n",
              "\n",
              "    .colab-df-convert {\n",
              "      background-color: #E8F0FE;\n",
              "      border: none;\n",
              "      border-radius: 50%;\n",
              "      cursor: pointer;\n",
              "      display: none;\n",
              "      fill: #1967D2;\n",
              "      height: 32px;\n",
              "      padding: 0 0 0 0;\n",
              "      width: 32px;\n",
              "    }\n",
              "\n",
              "    .colab-df-convert:hover {\n",
              "      background-color: #E2EBFA;\n",
              "      box-shadow: 0px 1px 2px rgba(60, 64, 67, 0.3), 0px 1px 3px 1px rgba(60, 64, 67, 0.15);\n",
              "      fill: #174EA6;\n",
              "    }\n",
              "\n",
              "    [theme=dark] .colab-df-convert {\n",
              "      background-color: #3B4455;\n",
              "      fill: #D2E3FC;\n",
              "    }\n",
              "\n",
              "    [theme=dark] .colab-df-convert:hover {\n",
              "      background-color: #434B5C;\n",
              "      box-shadow: 0px 1px 3px 1px rgba(0, 0, 0, 0.15);\n",
              "      filter: drop-shadow(0px 1px 2px rgba(0, 0, 0, 0.3));\n",
              "      fill: #FFFFFF;\n",
              "    }\n",
              "  </style>\n",
              "\n",
              "      <script>\n",
              "        const buttonEl =\n",
              "          document.querySelector('#df-d67e6d61-5454-4b9d-a84d-9cfdf3cd3b6a button.colab-df-convert');\n",
              "        buttonEl.style.display =\n",
              "          google.colab.kernel.accessAllowed ? 'block' : 'none';\n",
              "\n",
              "        async function convertToInteractive(key) {\n",
              "          const element = document.querySelector('#df-d67e6d61-5454-4b9d-a84d-9cfdf3cd3b6a');\n",
              "          const dataTable =\n",
              "            await google.colab.kernel.invokeFunction('convertToInteractive',\n",
              "                                                     [key], {});\n",
              "          if (!dataTable) return;\n",
              "\n",
              "          const docLinkHtml = 'Like what you see? Visit the ' +\n",
              "            '<a target=\"_blank\" href=https://colab.research.google.com/notebooks/data_table.ipynb>data table notebook</a>'\n",
              "            + ' to learn more about interactive tables.';\n",
              "          element.innerHTML = '';\n",
              "          dataTable['output_type'] = 'display_data';\n",
              "          await google.colab.output.renderOutput(dataTable, element);\n",
              "          const docLink = document.createElement('div');\n",
              "          docLink.innerHTML = docLinkHtml;\n",
              "          element.appendChild(docLink);\n",
              "        }\n",
              "      </script>\n",
              "    </div>\n",
              "  </div>\n",
              "  "
            ]
          },
          "metadata": {},
          "execution_count": 21
        }
      ]
    },
    {
      "cell_type": "markdown",
      "source": [
        "create a list of numerical columns, and remove IRR as it's our target variable"
      ],
      "metadata": {
        "id": "YRJosX21_b6j"
      }
    },
    {
      "cell_type": "code",
      "source": [
        "numerical_columns = [i for i in data.columns if data[i].dtype not in ('datetime64[ns]', 'object')]\n",
        "numerical_columns.remove('Net IRR %')"
      ],
      "metadata": {
        "id": "Q_4DnM1d_TPY"
      },
      "execution_count": null,
      "outputs": []
    },
    {
      "cell_type": "markdown",
      "source": [
        "create a list of categorical columns, then drop Asset Class column"
      ],
      "metadata": {
        "id": "sFr6Kv-jAg80"
      }
    },
    {
      "cell_type": "code",
      "source": [
        "categorical_columns = list(summary_stats.loc['unique'].index[list(summary_stats.loc['unique'].values < 17)])\n",
        "categorical_columns.remove('Asset Class')"
      ],
      "metadata": {
        "colab": {
          "base_uri": "https://localhost:8080/"
        },
        "id": "nExRELd9_bLo",
        "outputId": "d0559d15-80d2-4a7c-bcd6-2443c9265c1d"
      },
      "execution_count": null,
      "outputs": [
        {
          "output_type": "stream",
          "name": "stderr",
          "text": [
            "/usr/local/lib/python3.7/dist-packages/ipykernel_launcher.py:1: RuntimeWarning: invalid value encountered in less\n",
            "  \"\"\"Entry point for launching an IPython kernel.\n"
          ]
        }
      ]
    },
    {
      "cell_type": "code",
      "source": [
        "drop_columns = drop_cols"
      ],
      "metadata": {
        "id": "vWSmD0adAVGU"
      },
      "execution_count": null,
      "outputs": []
    },
    {
      "cell_type": "markdown",
      "source": [
        "create boxplot chart"
      ],
      "metadata": {
        "id": "6iKCmKeFBBAW"
      }
    },
    {
      "cell_type": "code",
      "source": [
        "fig, axes = plt.subplots(2, 2)\n",
        "fig.suptitle('Relationship between Categorical columns and Target')\n",
        "for x, y in enumerate(categorical_columns):\n",
        "  sns.boxplot(ax=axes[x//2, x%2], x=y, y='Net IRR %', data=df)\n",
        "  axes[x//2, x%2].set_title(f'{y} vs Net IRR % ')\n",
        "  axes[x//2, x%2].tick_params(axis='x', rotation=90)"
      ],
      "metadata": {
        "colab": {
          "base_uri": "https://localhost:8080/",
          "height": 1000
        },
        "id": "Mw2XpZGiAZLy",
        "outputId": "a297708e-2a6b-471c-df4a-4a07ccd6099d"
      },
      "execution_count": null,
      "outputs": [
        {
          "output_type": "display_data",
          "data": {
            "text/plain": [
              "<Figure size 1080x1080 with 4 Axes>"
            ],
            "image/png": "[encoded data removed]"
          },
          "metadata": {
            "needs_background": "light"
          }
        }
      ]
    },
    {
      "cell_type": "markdown",
      "source": [
        "interpolate missing numerical values using mean"
      ],
      "metadata": {
        "id": "baf7g6CcBJmS"
      }
    },
    {
      "cell_type": "code",
      "source": [
        "def fillna_numeric(df, columns):\n",
        "    for i in columns:\n",
        "        df[i] = df[i].fillna(df[~df[i].isnull()][i].mean())\n",
        "    return df"
      ],
      "metadata": {
        "id": "OUL7siW1A7gu"
      },
      "execution_count": null,
      "outputs": []
    },
    {
      "cell_type": "markdown",
      "source": [
        "drop rows with missing IRR values"
      ],
      "metadata": {
        "id": "n8bLbxZmBX2P"
      }
    },
    {
      "cell_type": "code",
      "source": [
        "df = df[~df['Net IRR %'].isna()]"
      ],
      "metadata": {
        "id": "FhEEZkylBHOA"
      },
      "execution_count": null,
      "outputs": []
    },
    {
      "cell_type": "markdown",
      "source": [
        "drop these columns as they are not inputs of the prediction model, then look at the first 5 *rows*"
      ],
      "metadata": {
        "id": "He9oUmppj80o"
      }
    },
    {
      "cell_type": "code",
      "source": [
        "data = df.drop(drop_cols,axis = 1)\n",
        "data.head()"
      ],
      "metadata": {
        "colab": {
          "base_uri": "https://localhost:8080/",
          "height": 231
        },
        "id": "x_2QiGgABXG-",
        "outputId": "803a98ae-493b-4432-8ce3-bcc2de60c51f"
      },
      "execution_count": null,
      "outputs": [
        {
          "output_type": "execute_result",
          "data": {
            "text/plain": [
              "   Vintage/Inception Year Strategy  Final Close Size  Net IRR %  \\\n",
              "4                    2019   Buyout            228.14 -40.529116   \n",
              "5                    2019   Growth               NaN -26.640000   \n",
              "6                    2019   Growth             55.22 -26.400000   \n",
              "7                    2019   Buyout            940.00 -22.480000   \n",
              "8                    2019   Buyout            710.40 -22.210000   \n",
              "\n",
              "   Net Multiple (X)     RVPI %  DPI (%)   Called % Country  \\\n",
              "4          0.795500  79.550000     0.00  20.450000  France   \n",
              "5          0.809908  80.990800     0.00  13.500000      US   \n",
              "6          0.771300  76.650000     0.48  29.830000   Japan   \n",
              "7          0.880669  88.066949     0.00  35.067783      US   \n",
              "8          0.773200  77.320000     0.00  51.650000  Canada   \n",
              "\n",
              "          Core Industries  Fund Number (Overall)  Fund Number (Series)  \\\n",
              "4             Diversified                      5                   4.0   \n",
              "5              Healthcare                      9                   1.0   \n",
              "6  Information Technology                     10                   1.0   \n",
              "7             Industrials                      4                   4.0   \n",
              "8             Diversified                      8                   5.0   \n",
              "\n",
              "   MSCI_year  MSCI (Adj Close)  Treasury_year  10-yr Treasury (Adj Close)  \n",
              "4     2019.0         49.988119         2019.0                     2.08325  \n",
              "5     2019.0         49.988119         2019.0                     2.08325  \n",
              "6     2019.0         49.988119         2019.0                     2.08325  \n",
              "7     2019.0         49.988119         2019.0                     2.08325  \n",
              "8     2019.0         49.988119         2019.0                     2.08325  "
            ],
            "text/html": [
              "\n",
              "  <div id=\"df-ad47786e-bfac-4a24-96df-e3fbc45f9f03\">\n",
              "    <div class=\"colab-df-container\">\n",
              "      <div>\n",
              "<style scoped>\n",
              "    .dataframe tbody tr th:only-of-type {\n",
              "        vertical-align: middle;\n",
              "    }\n",
              "\n",
              "    .dataframe tbody tr th {\n",
              "        vertical-align: top;\n",
              "    }\n",
              "\n",
              "    .dataframe thead th {\n",
              "        text-align: right;\n",
              "    }\n",
              "</style>\n",
              "<table border=\"1\" class=\"dataframe\">\n",
              "  <thead>\n",
              "    <tr style=\"text-align: right;\">\n",
              "      <th></th>\n",
              "      <th>Vintage/Inception Year</th>\n",
              "      <th>Strategy</th>\n",
              "      <th>Final Close Size</th>\n",
              "      <th>Net IRR %</th>\n",
              "      <th>Net Multiple (X)</th>\n",
              "      <th>RVPI %</th>\n",
              "      <th>DPI (%)</th>\n",
              "      <th>Called %</th>\n",
              "      <th>Country</th>\n",
              "      <th>Core Industries</th>\n",
              "      <th>Fund Number (Overall)</th>\n",
              "      <th>Fund Number (Series)</th>\n",
              "      <th>MSCI_year</th>\n",
              "      <th>MSCI (Adj Close)</th>\n",
              "      <th>Treasury_year</th>\n",
              "      <th>10-yr Treasury (Adj Close)</th>\n",
              "    </tr>\n",
              "  </thead>\n",
              "  <tbody>\n",
              "    <tr>\n",
              "      <th>4</th>\n",
              "      <td>2019</td>\n",
              "      <td>Buyout</td>\n",
              "      <td>228.14</td>\n",
              "      <td>-40.529116</td>\n",
              "      <td>0.795500</td>\n",
              "      <td>79.550000</td>\n",
              "      <td>0.00</td>\n",
              "      <td>20.450000</td>\n",
              "      <td>France</td>\n",
              "      <td>Diversified</td>\n",
              "      <td>5</td>\n",
              "      <td>4.0</td>\n",
              "      <td>2019.0</td>\n",
              "      <td>49.988119</td>\n",
              "      <td>2019.0</td>\n",
              "      <td>2.08325</td>\n",
              "    </tr>\n",
              "    <tr>\n",
              "      <th>5</th>\n",
              "      <td>2019</td>\n",
              "      <td>Growth</td>\n",
              "      <td>NaN</td>\n",
              "      <td>-26.640000</td>\n",
              "      <td>0.809908</td>\n",
              "      <td>80.990800</td>\n",
              "      <td>0.00</td>\n",
              "      <td>13.500000</td>\n",
              "      <td>US</td>\n",
              "      <td>Healthcare</td>\n",
              "      <td>9</td>\n",
              "      <td>1.0</td>\n",
              "      <td>2019.0</td>\n",
              "      <td>49.988119</td>\n",
              "      <td>2019.0</td>\n",
              "      <td>2.08325</td>\n",
              "    </tr>\n",
              "    <tr>\n",
              "      <th>6</th>\n",
              "      <td>2019</td>\n",
              "      <td>Growth</td>\n",
              "      <td>55.22</td>\n",
              "      <td>-26.400000</td>\n",
              "      <td>0.771300</td>\n",
              "      <td>76.650000</td>\n",
              "      <td>0.48</td>\n",
              "      <td>29.830000</td>\n",
              "      <td>Japan</td>\n",
              "      <td>Information Technology</td>\n",
              "      <td>10</td>\n",
              "      <td>1.0</td>\n",
              "      <td>2019.0</td>\n",
              "      <td>49.988119</td>\n",
              "      <td>2019.0</td>\n",
              "      <td>2.08325</td>\n",
              "    </tr>\n",
              "    <tr>\n",
              "      <th>7</th>\n",
              "      <td>2019</td>\n",
              "      <td>Buyout</td>\n",
              "      <td>940.00</td>\n",
              "      <td>-22.480000</td>\n",
              "      <td>0.880669</td>\n",
              "      <td>88.066949</td>\n",
              "      <td>0.00</td>\n",
              "      <td>35.067783</td>\n",
              "      <td>US</td>\n",
              "      <td>Industrials</td>\n",
              "      <td>4</td>\n",
              "      <td>4.0</td>\n",
              "      <td>2019.0</td>\n",
              "      <td>49.988119</td>\n",
              "      <td>2019.0</td>\n",
              "      <td>2.08325</td>\n",
              "    </tr>\n",
              "    <tr>\n",
              "      <th>8</th>\n",
              "      <td>2019</td>\n",
              "      <td>Buyout</td>\n",
              "      <td>710.40</td>\n",
              "      <td>-22.210000</td>\n",
              "      <td>0.773200</td>\n",
              "      <td>77.320000</td>\n",
              "      <td>0.00</td>\n",
              "      <td>51.650000</td>\n",
              "      <td>Canada</td>\n",
              "      <td>Diversified</td>\n",
              "      <td>8</td>\n",
              "      <td>5.0</td>\n",
              "      <td>2019.0</td>\n",
              "      <td>49.988119</td>\n",
              "      <td>2019.0</td>\n",
              "      <td>2.08325</td>\n",
              "    </tr>\n",
              "  </tbody>\n",
              "</table>\n",
              "</div>\n",
              "      <button class=\"colab-df-convert\" onclick=\"convertToInteractive('df-ad47786e-bfac-4a24-96df-e3fbc45f9f03')\"\n",
              "              title=\"Convert this dataframe to an interactive table.\"\n",
              "              style=\"display:none;\">\n",
              "        \n",
              "  <svg xmlns=\"http://www.w3.org/2000/svg\" height=\"24px\"viewBox=\"0 0 24 24\"\n",
              "       width=\"24px\">\n",
              "    <path d=\"M0 0h24v24H0V0z\" fill=\"none\"/>\n",
              "    <path d=\"M18.56 5.44l.94 2.06.94-2.06 2.06-.94-2.06-.94-.94-2.06-.94 2.06-2.06.94zm-11 1L8.5 8.5l.94-2.06 2.06-.94-2.06-.94L8.5 2.5l-.94 2.06-2.06.94zm10 10l.94 2.06.94-2.06 2.06-.94-2.06-.94-.94-2.06-.94 2.06-2.06.94z\"/><path d=\"M17.41 7.96l-1.37-1.37c-.4-.4-.92-.59-1.43-.59-.52 0-1.04.2-1.43.59L10.3 9.45l-7.72 7.72c-.78.78-.78 2.05 0 2.83L4 21.41c.39.39.9.59 1.41.59.51 0 1.02-.2 1.41-.59l7.78-7.78 2.81-2.81c.8-.78.8-2.07 0-2.86zM5.41 20L4 18.59l7.72-7.72 1.47 1.35L5.41 20z\"/>\n",
              "  </svg>\n",
              "      </button>\n",
              "      \n",
              "  <style>\n",
              "    .colab-df-container {\n",
              "      display:flex;\n",
              "      flex-wrap:wrap;\n",
              "      gap: 12px;\n",
              "    }\n",
              "\n",
              "    .colab-df-convert {\n",
              "      background-color: #E8F0FE;\n",
              "      border: none;\n",
              "      border-radius: 50%;\n",
              "      cursor: pointer;\n",
              "      display: none;\n",
              "      fill: #1967D2;\n",
              "      height: 32px;\n",
              "      padding: 0 0 0 0;\n",
              "      width: 32px;\n",
              "    }\n",
              "\n",
              "    .colab-df-convert:hover {\n",
              "      background-color: #E2EBFA;\n",
              "      box-shadow: 0px 1px 2px rgba(60, 64, 67, 0.3), 0px 1px 3px 1px rgba(60, 64, 67, 0.15);\n",
              "      fill: #174EA6;\n",
              "    }\n",
              "\n",
              "    [theme=dark] .colab-df-convert {\n",
              "      background-color: #3B4455;\n",
              "      fill: #D2E3FC;\n",
              "    }\n",
              "\n",
              "    [theme=dark] .colab-df-convert:hover {\n",
              "      background-color: #434B5C;\n",
              "      box-shadow: 0px 1px 3px 1px rgba(0, 0, 0, 0.15);\n",
              "      filter: drop-shadow(0px 1px 2px rgba(0, 0, 0, 0.3));\n",
              "      fill: #FFFFFF;\n",
              "    }\n",
              "  </style>\n",
              "\n",
              "      <script>\n",
              "        const buttonEl =\n",
              "          document.querySelector('#df-ad47786e-bfac-4a24-96df-e3fbc45f9f03 button.colab-df-convert');\n",
              "        buttonEl.style.display =\n",
              "          google.colab.kernel.accessAllowed ? 'block' : 'none';\n",
              "\n",
              "        async function convertToInteractive(key) {\n",
              "          const element = document.querySelector('#df-ad47786e-bfac-4a24-96df-e3fbc45f9f03');\n",
              "          const dataTable =\n",
              "            await google.colab.kernel.invokeFunction('convertToInteractive',\n",
              "                                                     [key], {});\n",
              "          if (!dataTable) return;\n",
              "\n",
              "          const docLinkHtml = 'Like what you see? Visit the ' +\n",
              "            '<a target=\"_blank\" href=https://colab.research.google.com/notebooks/data_table.ipynb>data table notebook</a>'\n",
              "            + ' to learn more about interactive tables.';\n",
              "          element.innerHTML = '';\n",
              "          dataTable['output_type'] = 'display_data';\n",
              "          await google.colab.output.renderOutput(dataTable, element);\n",
              "          const docLink = document.createElement('div');\n",
              "          docLink.innerHTML = docLinkHtml;\n",
              "          element.appendChild(docLink);\n",
              "        }\n",
              "      </script>\n",
              "    </div>\n",
              "  </div>\n",
              "  "
            ]
          },
          "metadata": {},
          "execution_count": 28
        }
      ]
    },
    {
      "cell_type": "markdown",
      "source": [
        "create X=features, exclude IRR; Y=target = IRR"
      ],
      "metadata": {
        "id": "mGlhGDvbkA0F"
      }
    },
    {
      "cell_type": "code",
      "source": [
        "X = data.drop('Net IRR %' , axis = 1)\n",
        "y = data['Net IRR %']"
      ],
      "metadata": {
        "id": "YooXWV60B7vq"
      },
      "execution_count": null,
      "outputs": []
    },
    {
      "cell_type": "markdown",
      "source": [
        "Analyze the data"
      ],
      "metadata": {
        "id": "B_aw-TerkCJo"
      }
    },
    {
      "cell_type": "code",
      "source": [
        "X.isnull().sum()"
      ],
      "metadata": {
        "colab": {
          "base_uri": "https://localhost:8080/"
        },
        "id": "rRWB5-Y8B-er",
        "outputId": "662d37f9-824c-47d2-edc9-770aefb473de"
      },
      "execution_count": null,
      "outputs": [
        {
          "output_type": "execute_result",
          "data": {
            "text/plain": [
              "Vintage/Inception Year          0\n",
              "Strategy                        0\n",
              "Final Close Size                3\n",
              "Net Multiple (X)               63\n",
              "RVPI %                         52\n",
              "DPI (%)                        48\n",
              "Called %                       28\n",
              "Country                         0\n",
              "Core Industries                 0\n",
              "Fund Number (Overall)           0\n",
              "Fund Number (Series)            4\n",
              "MSCI_year                     405\n",
              "MSCI (Adj Close)              405\n",
              "Treasury_year                   0\n",
              "10-yr Treasury (Adj Close)      0\n",
              "dtype: int64"
            ]
          },
          "metadata": {},
          "execution_count": 30
        }
      ]
    },
    {
      "cell_type": "markdown",
      "source": [
        "Analyze data types"
      ],
      "metadata": {
        "id": "jDtpxougkDDQ"
      }
    },
    {
      "cell_type": "code",
      "source": [
        "X.info()"
      ],
      "metadata": {
        "colab": {
          "base_uri": "https://localhost:8080/"
        },
        "id": "sygR82zpCAtA",
        "outputId": "0f905555-b3ca-46c6-fcfb-eb9bbbac4d32"
      },
      "execution_count": null,
      "outputs": [
        {
          "output_type": "stream",
          "name": "stdout",
          "text": [
            "<class 'pandas.core.frame.DataFrame'>\n",
            "Int64Index: 789 entries, 4 to 906\n",
            "Data columns (total 15 columns):\n",
            " #   Column                      Non-Null Count  Dtype  \n",
            "---  ------                      --------------  -----  \n",
            " 0   Vintage/Inception Year      789 non-null    int64  \n",
            " 1   Strategy                    789 non-null    object \n",
            " 2   Final Close Size            786 non-null    float64\n",
            " 3   Net Multiple (X)            726 non-null    float64\n",
            " 4   RVPI %                      737 non-null    float64\n",
            " 5   DPI (%)                     741 non-null    float64\n",
            " 6   Called %                    761 non-null    float64\n",
            " 7   Country                     789 non-null    object \n",
            " 8   Core Industries             789 non-null    object \n",
            " 9   Fund Number (Overall)       789 non-null    int64  \n",
            " 10  Fund Number (Series)        785 non-null    float64\n",
            " 11  MSCI_year                   384 non-null    float64\n",
            " 12  MSCI (Adj Close)            384 non-null    float64\n",
            " 13  Treasury_year               789 non-null    float64\n",
            " 14  10-yr Treasury (Adj Close)  789 non-null    float64\n",
            "dtypes: float64(10), int64(2), object(3)\n",
            "memory usage: 98.6+ KB\n"
          ]
        }
      ]
    },
    {
      "cell_type": "markdown",
      "source": [
        "analyze unique values in catgorical columns"
      ],
      "metadata": {
        "id": "7sMsjWcskD_3"
      }
    },
    {
      "cell_type": "code",
      "source": [
        "cat_cols = X.select_dtypes('object').columns\n",
        "for col in cat_cols:\n",
        "    print(col , ' ' ,X[col].unique())"
      ],
      "metadata": {
        "colab": {
          "base_uri": "https://localhost:8080/"
        },
        "id": "XRd47FOOCChq",
        "outputId": "6f245c1f-5654-41d1-9f00-0cf5a286cd84"
      },
      "execution_count": null,
      "outputs": [
        {
          "output_type": "stream",
          "name": "stdout",
          "text": [
            "Strategy   ['Buyout' 'Growth' 'Fund of Funds' 'Direct Secondaries' 'Secondaries'\n",
            " 'Turnaround']\n",
            "Country   ['France' 'US' 'Japan' 'Canada' 'UK' 'Portugal' 'Ireland' 'Luxembourg'\n",
            " 'China' 'Lithuania' 'Germany' 'Brazil' 'Czech Republic'\n",
            " 'Hong Kong SAR - China' 'Mexico' 'Malaysia' 'Italy' 'Netherlands'\n",
            " 'Poland' 'Mauritius' 'Sweden' 'Russia' 'Denmark' 'Ukraine' 'India'\n",
            " 'Switzerland' 'South Korea' 'Hungary' 'Vietnam' 'Singapore' 'Barbados'\n",
            " 'Israel' 'Colombia' 'Peru' 'Finland' 'Romania' 'United Arab Emirates'\n",
            " 'Turkey' 'Norway' 'Kazakhstan' 'Spain' 'Greece' 'Jersey' 'Austria']\n",
            "Core Industries   ['Diversified' 'Healthcare' 'Information Technology' 'Industrials'\n",
            " 'Consumer Discretionary, Raw Materials & Natural Resources'\n",
            " 'Telecoms & Media' 'Business Services' 'Financial & Insurance Services'\n",
            " 'Business Services, Consumer Discretionary'\n",
            " 'Healthcare, Information Technology' 'Energy & Utilities'\n",
            " 'Information Technology, Telecoms & Media' 'Consumer Discretionary'\n",
            " 'Raw Materials & Natural Resources' 'Healthcare, Telecoms & Media'\n",
            " 'Industrials, Information Technology']\n"
          ]
        }
      ]
    },
    {
      "cell_type": "markdown",
      "source": [
        "This is a one-hot-encoding function. In this case, we use it for all models. \n",
        "\n",
        "I mentioned earlier that LGBM can take categorical values which makes it faster, but it can also take a matrix of ones and zeros. We use one-hot-encoding for all models, meaning that all models train on the same data. \n",
        "\n",
        "X train and X test comes from X"
      ],
      "metadata": {
        "id": "qcY-mg0UkE1o"
      }
    },
    {
      "cell_type": "code",
      "source": [
        "X = pd.get_dummies(X , columns=cat_cols, drop_first = True)"
      ],
      "metadata": {
        "id": "7Xa9soPwCHm1"
      },
      "execution_count": null,
      "outputs": []
    },
    {
      "cell_type": "markdown",
      "source": [
        "Do a 20/80 split. Train on 80% of data, test on 20%. \n",
        "\n",
        "This is what we did to normalize the results and make it possible to have more consistent results every time we run the code. \n",
        "\n",
        "So what random_state does is fixes train and test data every time we run the code, so results are more consistent. However, they will still vary because the models will have their own training that they will apply on the data sets."
      ],
      "metadata": {
        "id": "MPK2BAnakGMN"
      }
    },
    {
      "cell_type": "code",
      "source": [
        "from sklearn.model_selection import train_test_split\n",
        "X_train, X_test, y_train, y_test =  train_test_split(X, y, test_size=0.2 , random_state = 42 , shuffle=True)\n",
        "X_train.shape , y_train.shape , X_test.shape , y_test.shape"
      ],
      "metadata": {
        "colab": {
          "base_uri": "https://localhost:8080/"
        },
        "id": "3ZshqoQUCJoh",
        "outputId": "647bacee-b212-4f4e-e995-809781edd425"
      },
      "execution_count": null,
      "outputs": [
        {
          "output_type": "execute_result",
          "data": {
            "text/plain": [
              "((631, 75), (631,), (158, 75), (158,))"
            ]
          },
          "metadata": {},
          "execution_count": 34
        }
      ]
    },
    {
      "cell_type": "markdown",
      "source": [
        "Examine the data"
      ],
      "metadata": {
        "id": "n5gPqgRTkHHY"
      }
    },
    {
      "cell_type": "code",
      "source": [
        "X_train.head()"
      ],
      "metadata": {
        "colab": {
          "base_uri": "https://localhost:8080/",
          "height": 232
        },
        "id": "DrJi5qWdCLvV",
        "outputId": "aeb1683f-a397-474a-eca3-5dcf8eed2270"
      },
      "execution_count": null,
      "outputs": [
        {
          "output_type": "execute_result",
          "data": {
            "text/plain": [
              "     Vintage/Inception Year  Final Close Size  Net Multiple (X)      RVPI %  \\\n",
              "237                    2014            202.00          3.734400  300.440000   \n",
              "153                    2016            445.00          2.117600  126.350000   \n",
              "858                    1995            105.20          1.948878   24.418936   \n",
              "624                    2005            662.40          1.578500    0.000000   \n",
              "63                     2018            281.38          1.668600  112.950000   \n",
              "\n",
              "        DPI (%)    Called %  Fund Number (Overall)  Fund Number (Series)  \\\n",
              "237   73.000000   78.500000                      5                   5.0   \n",
              "153   85.410000  100.479990                      8                   3.0   \n",
              "858  170.468813   98.421128                      2                   2.0   \n",
              "624  157.850000   91.480000                      6                   7.0   \n",
              "63    53.910000   69.960000                      3                   3.0   \n",
              "\n",
              "     MSCI_year  MSCI (Adj Close)  ...  \\\n",
              "237     2014.0         30.215100  ...   \n",
              "153     2016.0         36.716827  ...   \n",
              "858        NaN               NaN  ...   \n",
              "624        NaN               NaN  ...   \n",
              "63      2018.0         46.604786  ...   \n",
              "\n",
              "     Core Industries_Financial & Insurance Services  \\\n",
              "237                                               0   \n",
              "153                                               0   \n",
              "858                                               0   \n",
              "624                                               0   \n",
              "63                                                0   \n",
              "\n",
              "     Core Industries_Healthcare  \\\n",
              "237                           1   \n",
              "153                           0   \n",
              "858                           0   \n",
              "624                           0   \n",
              "63                            0   \n",
              "\n",
              "     Core Industries_Healthcare, Information Technology  \\\n",
              "237                                                  0    \n",
              "153                                                  0    \n",
              "858                                                  0    \n",
              "624                                                  0    \n",
              "63                                                   0    \n",
              "\n",
              "     Core Industries_Healthcare, Telecoms & Media  \\\n",
              "237                                             0   \n",
              "153                                             0   \n",
              "858                                             0   \n",
              "624                                             0   \n",
              "63                                              0   \n",
              "\n",
              "     Core Industries_Industrials  \\\n",
              "237                            0   \n",
              "153                            0   \n",
              "858                            1   \n",
              "624                            0   \n",
              "63                             0   \n",
              "\n",
              "     Core Industries_Industrials, Information Technology  \\\n",
              "237                                                  0     \n",
              "153                                                  0     \n",
              "858                                                  0     \n",
              "624                                                  0     \n",
              "63                                                   0     \n",
              "\n",
              "     Core Industries_Information Technology  \\\n",
              "237                                       0   \n",
              "153                                       0   \n",
              "858                                       0   \n",
              "624                                       0   \n",
              "63                                        0   \n",
              "\n",
              "     Core Industries_Information Technology, Telecoms & Media  \\\n",
              "237                                                  0          \n",
              "153                                                  0          \n",
              "858                                                  0          \n",
              "624                                                  0          \n",
              "63                                                   0          \n",
              "\n",
              "     Core Industries_Raw Materials & Natural Resources  \\\n",
              "237                                                  0   \n",
              "153                                                  0   \n",
              "858                                                  0   \n",
              "624                                                  0   \n",
              "63                                                   0   \n",
              "\n",
              "     Core Industries_Telecoms & Media  \n",
              "237                                 0  \n",
              "153                                 0  \n",
              "858                                 0  \n",
              "624                                 0  \n",
              "63                                  0  \n",
              "\n",
              "[5 rows x 75 columns]"
            ],
            "text/html": [
              "\n",
              "  <div id=\"df-45b49650-33b3-4c38-a63f-311bc3a6f854\">\n",
              "    <div class=\"colab-df-container\">\n",
              "      <div>\n",
              "<style scoped>\n",
              "    .dataframe tbody tr th:only-of-type {\n",
              "        vertical-align: middle;\n",
              "    }\n",
              "\n",
              "    .dataframe tbody tr th {\n",
              "        vertical-align: top;\n",
              "    }\n",
              "\n",
              "    .dataframe thead th {\n",
              "        text-align: right;\n",
              "    }\n",
              "</style>\n",
              "<table border=\"1\" class=\"dataframe\">\n",
              "  <thead>\n",
              "    <tr style=\"text-align: right;\">\n",
              "      <th></th>\n",
              "      <th>Vintage/Inception Year</th>\n",
              "      <th>Final Close Size</th>\n",
              "      <th>Net Multiple (X)</th>\n",
              "      <th>RVPI %</th>\n",
              "      <th>DPI (%)</th>\n",
              "      <th>Called %</th>\n",
              "      <th>Fund Number (Overall)</th>\n",
              "      <th>Fund Number (Series)</th>\n",
              "      <th>MSCI_year</th>\n",
              "      <th>MSCI (Adj Close)</th>\n",
              "      <th>...</th>\n",
              "      <th>Core Industries_Financial &amp; Insurance Services</th>\n",
              "      <th>Core Industries_Healthcare</th>\n",
              "      <th>Core Industries_Healthcare, Information Technology</th>\n",
              "      <th>Core Industries_Healthcare, Telecoms &amp; Media</th>\n",
              "      <th>Core Industries_Industrials</th>\n",
              "      <th>Core Industries_Industrials, Information Technology</th>\n",
              "      <th>Core Industries_Information Technology</th>\n",
              "      <th>Core Industries_Information Technology, Telecoms &amp; Media</th>\n",
              "      <th>Core Industries_Raw Materials &amp; Natural Resources</th>\n",
              "      <th>Core Industries_Telecoms &amp; Media</th>\n",
              "    </tr>\n",
              "  </thead>\n",
              "  <tbody>\n",
              "    <tr>\n",
              "      <th>237</th>\n",
              "      <td>2014</td>\n",
              "      <td>202.00</td>\n",
              "      <td>3.734400</td>\n",
              "      <td>300.440000</td>\n",
              "      <td>73.000000</td>\n",
              "      <td>78.500000</td>\n",
              "      <td>5</td>\n",
              "      <td>5.0</td>\n",
              "      <td>2014.0</td>\n",
              "      <td>30.215100</td>\n",
              "      <td>...</td>\n",
              "      <td>0</td>\n",
              "      <td>1</td>\n",
              "      <td>0</td>\n",
              "      <td>0</td>\n",
              "      <td>0</td>\n",
              "      <td>0</td>\n",
              "      <td>0</td>\n",
              "      <td>0</td>\n",
              "      <td>0</td>\n",
              "      <td>0</td>\n",
              "    </tr>\n",
              "    <tr>\n",
              "      <th>153</th>\n",
              "      <td>2016</td>\n",
              "      <td>445.00</td>\n",
              "      <td>2.117600</td>\n",
              "      <td>126.350000</td>\n",
              "      <td>85.410000</td>\n",
              "      <td>100.479990</td>\n",
              "      <td>8</td>\n",
              "      <td>3.0</td>\n",
              "      <td>2016.0</td>\n",
              "      <td>36.716827</td>\n",
              "      <td>...</td>\n",
              "      <td>0</td>\n",
              "      <td>0</td>\n",
              "      <td>0</td>\n",
              "      <td>0</td>\n",
              "      <td>0</td>\n",
              "      <td>0</td>\n",
              "      <td>0</td>\n",
              "      <td>0</td>\n",
              "      <td>0</td>\n",
              "      <td>0</td>\n",
              "    </tr>\n",
              "    <tr>\n",
              "      <th>858</th>\n",
              "      <td>1995</td>\n",
              "      <td>105.20</td>\n",
              "      <td>1.948878</td>\n",
              "      <td>24.418936</td>\n",
              "      <td>170.468813</td>\n",
              "      <td>98.421128</td>\n",
              "      <td>2</td>\n",
              "      <td>2.0</td>\n",
              "      <td>NaN</td>\n",
              "      <td>NaN</td>\n",
              "      <td>...</td>\n",
              "      <td>0</td>\n",
              "      <td>0</td>\n",
              "      <td>0</td>\n",
              "      <td>0</td>\n",
              "      <td>1</td>\n",
              "      <td>0</td>\n",
              "      <td>0</td>\n",
              "      <td>0</td>\n",
              "      <td>0</td>\n",
              "      <td>0</td>\n",
              "    </tr>\n",
              "    <tr>\n",
              "      <th>624</th>\n",
              "      <td>2005</td>\n",
              "      <td>662.40</td>\n",
              "      <td>1.578500</td>\n",
              "      <td>0.000000</td>\n",
              "      <td>157.850000</td>\n",
              "      <td>91.480000</td>\n",
              "      <td>6</td>\n",
              "      <td>7.0</td>\n",
              "      <td>NaN</td>\n",
              "      <td>NaN</td>\n",
              "      <td>...</td>\n",
              "      <td>0</td>\n",
              "      <td>0</td>\n",
              "      <td>0</td>\n",
              "      <td>0</td>\n",
              "      <td>0</td>\n",
              "      <td>0</td>\n",
              "      <td>0</td>\n",
              "      <td>0</td>\n",
              "      <td>0</td>\n",
              "      <td>0</td>\n",
              "    </tr>\n",
              "    <tr>\n",
              "      <th>63</th>\n",
              "      <td>2018</td>\n",
              "      <td>281.38</td>\n",
              "      <td>1.668600</td>\n",
              "      <td>112.950000</td>\n",
              "      <td>53.910000</td>\n",
              "      <td>69.960000</td>\n",
              "      <td>3</td>\n",
              "      <td>3.0</td>\n",
              "      <td>2018.0</td>\n",
              "      <td>46.604786</td>\n",
              "      <td>...</td>\n",
              "      <td>0</td>\n",
              "      <td>0</td>\n",
              "      <td>0</td>\n",
              "      <td>0</td>\n",
              "      <td>0</td>\n",
              "      <td>0</td>\n",
              "      <td>0</td>\n",
              "      <td>0</td>\n",
              "      <td>0</td>\n",
              "      <td>0</td>\n",
              "    </tr>\n",
              "  </tbody>\n",
              "</table>\n",
              "<p>5 rows × 75 columns</p>\n",
              "</div>\n",
              "      <button class=\"colab-df-convert\" onclick=\"convertToInteractive('df-45b49650-33b3-4c38-a63f-311bc3a6f854')\"\n",
              "              title=\"Convert this dataframe to an interactive table.\"\n",
              "              style=\"display:none;\">\n",
              "        \n",
              "  <svg xmlns=\"http://www.w3.org/2000/svg\" height=\"24px\"viewBox=\"0 0 24 24\"\n",
              "       width=\"24px\">\n",
              "    <path d=\"M0 0h24v24H0V0z\" fill=\"none\"/>\n",
              "    <path d=\"M18.56 5.44l.94 2.06.94-2.06 2.06-.94-2.06-.94-.94-2.06-.94 2.06-2.06.94zm-11 1L8.5 8.5l.94-2.06 2.06-.94-2.06-.94L8.5 2.5l-.94 2.06-2.06.94zm10 10l.94 2.06.94-2.06 2.06-.94-2.06-.94-.94-2.06-.94 2.06-2.06.94z\"/><path d=\"M17.41 7.96l-1.37-1.37c-.4-.4-.92-.59-1.43-.59-.52 0-1.04.2-1.43.59L10.3 9.45l-7.72 7.72c-.78.78-.78 2.05 0 2.83L4 21.41c.39.39.9.59 1.41.59.51 0 1.02-.2 1.41-.59l7.78-7.78 2.81-2.81c.8-.78.8-2.07 0-2.86zM5.41 20L4 18.59l7.72-7.72 1.47 1.35L5.41 20z\"/>\n",
              "  </svg>\n",
              "      </button>\n",
              "      \n",
              "  <style>\n",
              "    .colab-df-container {\n",
              "      display:flex;\n",
              "      flex-wrap:wrap;\n",
              "      gap: 12px;\n",
              "    }\n",
              "\n",
              "    .colab-df-convert {\n",
              "      background-color: #E8F0FE;\n",
              "      border: none;\n",
              "      border-radius: 50%;\n",
              "      cursor: pointer;\n",
              "      display: none;\n",
              "      fill: #1967D2;\n",
              "      height: 32px;\n",
              "      padding: 0 0 0 0;\n",
              "      width: 32px;\n",
              "    }\n",
              "\n",
              "    .colab-df-convert:hover {\n",
              "      background-color: #E2EBFA;\n",
              "      box-shadow: 0px 1px 2px rgba(60, 64, 67, 0.3), 0px 1px 3px 1px rgba(60, 64, 67, 0.15);\n",
              "      fill: #174EA6;\n",
              "    }\n",
              "\n",
              "    [theme=dark] .colab-df-convert {\n",
              "      background-color: #3B4455;\n",
              "      fill: #D2E3FC;\n",
              "    }\n",
              "\n",
              "    [theme=dark] .colab-df-convert:hover {\n",
              "      background-color: #434B5C;\n",
              "      box-shadow: 0px 1px 3px 1px rgba(0, 0, 0, 0.15);\n",
              "      filter: drop-shadow(0px 1px 2px rgba(0, 0, 0, 0.3));\n",
              "      fill: #FFFFFF;\n",
              "    }\n",
              "  </style>\n",
              "\n",
              "      <script>\n",
              "        const buttonEl =\n",
              "          document.querySelector('#df-45b49650-33b3-4c38-a63f-311bc3a6f854 button.colab-df-convert');\n",
              "        buttonEl.style.display =\n",
              "          google.colab.kernel.accessAllowed ? 'block' : 'none';\n",
              "\n",
              "        async function convertToInteractive(key) {\n",
              "          const element = document.querySelector('#df-45b49650-33b3-4c38-a63f-311bc3a6f854');\n",
              "          const dataTable =\n",
              "            await google.colab.kernel.invokeFunction('convertToInteractive',\n",
              "                                                     [key], {});\n",
              "          if (!dataTable) return;\n",
              "\n",
              "          const docLinkHtml = 'Like what you see? Visit the ' +\n",
              "            '<a target=\"_blank\" href=https://colab.research.google.com/notebooks/data_table.ipynb>data table notebook</a>'\n",
              "            + ' to learn more about interactive tables.';\n",
              "          element.innerHTML = '';\n",
              "          dataTable['output_type'] = 'display_data';\n",
              "          await google.colab.output.renderOutput(dataTable, element);\n",
              "          const docLink = document.createElement('div');\n",
              "          docLink.innerHTML = docLinkHtml;\n",
              "          element.appendChild(docLink);\n",
              "        }\n",
              "      </script>\n",
              "    </div>\n",
              "  </div>\n",
              "  "
            ]
          },
          "metadata": {},
          "execution_count": 35
        },
        {
          "output_type": "stream",
          "name": "stdout",
          "text": [
            "Warning: Total number of columns (75) exceeds max_columns (20) limiting to first (20) columns.\n"
          ]
        }
      ]
    },
    {
      "cell_type": "markdown",
      "source": [
        "Examine the dimansions, making sure they are consistent with what actions we are applying. (row, col)"
      ],
      "metadata": {
        "id": "Mu8nZPvGkH4P"
      }
    },
    {
      "cell_type": "code",
      "source": [
        "X_train.shape, X_test.shape"
      ],
      "metadata": {
        "colab": {
          "base_uri": "https://localhost:8080/"
        },
        "id": "YnGkIwzaCOH6",
        "outputId": "0088cd28-257d-4215-b14b-4c46f60f3a2b"
      },
      "execution_count": null,
      "outputs": [
        {
          "output_type": "execute_result",
          "data": {
            "text/plain": [
              "((631, 75), (158, 75))"
            ]
          },
          "metadata": {},
          "execution_count": 36
        }
      ]
    },
    {
      "cell_type": "markdown",
      "source": [
        "Pandas interpolate function is a great and most popular way to interpolate in data science. \n",
        "\n",
        "It replaces missing values according to different methods."
      ],
      "metadata": {
        "id": "U6WejyvzkKfm"
      }
    },
    {
      "cell_type": "code",
      "source": [
        "X_train = X_train.interpolate()\n",
        "X_test = X_test.interpolate()"
      ],
      "metadata": {
        "id": "SDY_XXnGCSsv"
      },
      "execution_count": null,
      "outputs": []
    },
    {
      "cell_type": "markdown",
      "source": [],
      "metadata": {
        "id": "6ZNXuROpkLtE"
      }
    },
    {
      "cell_type": "markdown",
      "source": [
        "Check for null values.\n",
        "\n",
        "X_train has no null values, X_test has 2 null cells. "
      ],
      "metadata": {
        "id": "chTNH81QkNfL"
      }
    },
    {
      "cell_type": "code",
      "source": [
        "X_train.isnull().sum().sum(), X_test.isnull().sum().sum()"
      ],
      "metadata": {
        "colab": {
          "base_uri": "https://localhost:8080/"
        },
        "id": "L-Bc1VTACXu4",
        "outputId": "b8cc48b5-cfd0-4bb5-cc38-3c01fcf20e5d"
      },
      "execution_count": null,
      "outputs": [
        {
          "output_type": "execute_result",
          "data": {
            "text/plain": [
              "(0, 2)"
            ]
          },
          "metadata": {},
          "execution_count": 40
        }
      ]
    },
    {
      "cell_type": "markdown",
      "source": [
        "Fill missing X_test cells with a median value. "
      ],
      "metadata": {
        "id": "Oi3HUbcZkQnO"
      }
    },
    {
      "cell_type": "code",
      "source": [
        "X_train.dropna(inplace = True)\n",
        "X_test.fillna(X_test.median(),inplace = True)"
      ],
      "metadata": {
        "id": "pK9_lyEbCZnd"
      },
      "execution_count": null,
      "outputs": []
    },
    {
      "cell_type": "markdown",
      "source": [
        "Check for missing values again... Done with data cleaning!\n",
        "\n",
        "Ready to implement the models! :-)"
      ],
      "metadata": {
        "id": "XKEXmm9NkSkj"
      }
    },
    {
      "cell_type": "code",
      "source": [
        "X_train.isnull().sum().sum() , X_test.isnull().sum().sum()"
      ],
      "metadata": {
        "colab": {
          "base_uri": "https://localhost:8080/"
        },
        "id": "I_fp4de1CdSy",
        "outputId": "93b398d6-ef3e-414f-e099-2402cbea684b"
      },
      "execution_count": null,
      "outputs": [
        {
          "output_type": "execute_result",
          "data": {
            "text/plain": [
              "(0, 0)"
            ]
          },
          "metadata": {},
          "execution_count": 43
        }
      ]
    },
    {
      "cell_type": "markdown",
      "source": [
        "XGBoost"
      ],
      "metadata": {
        "id": "wQBD_l-aCqDY"
      }
    },
    {
      "cell_type": "markdown",
      "source": [
        "This is an evaluate function which simply calculates the mentioned statistics."
      ],
      "metadata": {
        "id": "vVJ7doR7kWWX"
      }
    },
    {
      "cell_type": "code",
      "source": [
        "def evaluate(actual,pred):\n",
        "    mse = mean_absolute_error(actual , pred)\n",
        "    rsq = r2_score(actual , pred)\n",
        "    return [mse , rsq]"
      ],
      "metadata": {
        "id": "-Wh1kTY7Cn85"
      },
      "execution_count": null,
      "outputs": []
    },
    {
      "cell_type": "markdown",
      "source": [
        "xgb = is the XGBoost regressor, and we are not using any parameters in this case. \n",
        "\n",
        "Instead we are using the default mode, and let the model decide what is best for this dataset. "
      ],
      "metadata": {
        "id": "hW46BRYCkYXf"
      }
    },
    {
      "cell_type": "code",
      "source": [
        "xgb = XGBRegressor()\n",
        "xgb.fit(X_train, y_train)\n",
        "evaluate(y_test,xgb.predict(X_test))"
      ],
      "metadata": {
        "colab": {
          "base_uri": "https://localhost:8080/"
        },
        "id": "Q1T8NsiPCxAk",
        "outputId": "73eb2f92-16bf-44e0-b675-85b230e44da6"
      },
      "execution_count": null,
      "outputs": [
        {
          "output_type": "stream",
          "name": "stdout",
          "text": [
            "[18:19:19] WARNING: /workspace/src/objective/regression_obj.cu:152: reg:linear is now deprecated in favor of reg:squarederror.\n"
          ]
        },
        {
          "output_type": "execute_result",
          "data": {
            "text/plain": [
              "[9.969418709695336, 0.27652229361272684]"
            ]
          },
          "metadata": {},
          "execution_count": 48
        }
      ]
    },
    {
      "cell_type": "markdown",
      "source": [
        "Make an IRR prediction using X_test as input."
      ],
      "metadata": {
        "id": "GrjkEVkfkZTv"
      }
    },
    {
      "cell_type": "code",
      "source": [
        "xgb_y_pred = xgb.predict(X_test)"
      ],
      "metadata": {
        "id": "Ug2FRkDjCyuR"
      },
      "execution_count": null,
      "outputs": []
    },
    {
      "cell_type": "markdown",
      "source": [],
      "metadata": {
        "id": "Vax_uLArkaD0"
      }
    },
    {
      "cell_type": "code",
      "source": [
        "xgb_ = xgb.predict(X_train)\n",
        "mean_absolute_error(xgb_, y_train)\n",
        "\n",
        "#xgb_metric = mean_absolute_error(xgb_y_pred, y_test)\n",
        "xgb_metrics_squared = mean_squared_error(xgb_y_pred, y_test) ** 0.5\n",
        "\n",
        "xgb_metric, xgb_r2_score = evaluate(y_test, xgb_y_pred)\n",
        "\n",
        "print(xgb_metric, xgb_r2_score)\n",
        "\n"
      ],
      "metadata": {
        "colab": {
          "base_uri": "https://localhost:8080/"
        },
        "id": "vUbpJIWyC0iG",
        "outputId": "2e497fac-09bd-4ea3-f97f-d205372236c9"
      },
      "execution_count": null,
      "outputs": [
        {
          "output_type": "stream",
          "name": "stdout",
          "text": [
            "9.969418709695336 0.27652229361272684\n"
          ]
        }
      ]
    },
    {
      "cell_type": "markdown",
      "source": [
        "LGBM"
      ],
      "metadata": {
        "id": "rw1tBHw5C4Dz"
      }
    },
    {
      "cell_type": "markdown",
      "source": [
        "Here, a lower learning rate should find a better optimum than a higher learning rate. Additionally, one way to improve the performance is to still tune the hyper-parameters using grid search to find the best combination of learning rate along with the other hyper-parameters. \n",
        "\n",
        "In our case we thought a learning rate of .09 is reasonable. "
      ],
      "metadata": {
        "id": "VYRYXsj6kd8B"
      }
    },
    {
      "cell_type": "code",
      "source": [
        "import lightgbm as lgb\n",
        "\n",
        "lgb_model = lgb.LGBMRegressor(learning_rate=0.09)\n",
        "lgb_model.fit(X_train.values, y_train)\n",
        "\n",
        "lgb_preds = lgb_model.predict(X_test.values)\n",
        "\n",
        "lgb_metrics_squared = mean_squared_error(lgb_preds, y_test) ** 0.5\n",
        "lgb_metric, lgb_r2_score = evaluate(y_test, lgb_preds)\n",
        "\n",
        "print(lgb_metric, lgb_r2_score)"
      ],
      "metadata": {
        "colab": {
          "base_uri": "https://localhost:8080/"
        },
        "id": "HrAh27TiC2Pt",
        "outputId": "8ee8a8bd-faf2-4eb0-d0d2-c43a7e0393e8"
      },
      "execution_count": null,
      "outputs": [
        {
          "output_type": "stream",
          "name": "stdout",
          "text": [
            "10.744443422966127 0.2592881642606143\n"
          ]
        }
      ]
    },
    {
      "cell_type": "markdown",
      "source": [
        "Catboost"
      ],
      "metadata": {
        "id": "YR_WHsSlDAmA"
      }
    },
    {
      "cell_type": "code",
      "source": [
        "from catboost import CatBoostRegressor\n",
        "# Initialize data\n",
        "\n",
        "cat_model = CatBoostRegressor(iterations=2,\n",
        "                          learning_rate=1,\n",
        "                          depth=2)\n",
        "# Fit model\n",
        "cat_model.fit(X_train, y_train)\n",
        "# Get predictions\n",
        "cat_preds = cat_model.predict(X_test)"
      ],
      "metadata": {
        "colab": {
          "base_uri": "https://localhost:8080/"
        },
        "id": "YMiyy2hgC8W6",
        "outputId": "d7ef8e1c-0d8d-4e6e-df82-eaf33487713c"
      },
      "execution_count": null,
      "outputs": [
        {
          "output_type": "stream",
          "name": "stdout",
          "text": [
            "0:\tlearn: 17.0294013\ttotal: 47.3ms\tremaining: 47.3ms\n",
            "1:\tlearn: 15.9893028\ttotal: 50ms\tremaining: 0us\n"
          ]
        }
      ]
    },
    {
      "cell_type": "code",
      "source": [
        "cat_metrics_squared = mean_squared_error(cat_preds, y_test) ** 0.5\n",
        "\n",
        "cat_metric, cat_r2_score = evaluate(y_test, cat_preds)\n",
        "print(cat_metric, cat_r2_score)"
      ],
      "metadata": {
        "colab": {
          "base_uri": "https://localhost:8080/"
        },
        "id": "l6U-8C1xDFYj",
        "outputId": "529a91a2-5164-429c-cdd3-6c7079dcf899"
      },
      "execution_count": null,
      "outputs": [
        {
          "output_type": "stream",
          "name": "stdout",
          "text": [
            "11.837040437747781 0.2242797850978513\n"
          ]
        }
      ]
    },
    {
      "cell_type": "markdown",
      "source": [
        "Neural Network"
      ],
      "metadata": {
        "id": "mkySSCu4DJfR"
      }
    },
    {
      "cell_type": "markdown",
      "source": [
        "Here we set patience=100, which means that the training will terminate after 100 interations if there is no improvement in the performance. "
      ],
      "metadata": {
        "id": "nyNMCYkLlBPs"
      }
    },
    {
      "cell_type": "code",
      "source": [
        "cp_callback = tf.keras.callbacks.EarlyStopping(monitor='val_mae', patience=100, restore_best_weights=True)"
      ],
      "metadata": {
        "id": "mRZjAP6ADHtD"
      },
      "execution_count": null,
      "outputs": []
    },
    {
      "cell_type": "markdown",
      "source": [
        "Here we have a connected layer of 128 neurons, and an activation function 'relu'. \n",
        "\n",
        "One thing we do to avoid overfitting here is this : x = Dropout(0.8)(x) --> this means that we keep only 80% of the data and ignore 20%. \n",
        "\n",
        "We leveraged Tensoflow, but this can also be done using Keras library. \n",
        "\n",
        "\"TensorFlow is an open-sourced end-to-end platform, a library for multiple machine learning tasks, while Keras is a high-level neural network library that runs on top of TensorFlow.\"\n"
      ],
      "metadata": {
        "id": "3wZWNbLZlS1R"
      }
    },
    {
      "cell_type": "code",
      "source": [
        "input = Input(shape=(X_test.shape[1],))\n",
        "x = BatchNormalization()(input) #scaling of data, normalize from -1 to 1\n",
        "# x = Dense(128, activation='tanh')(x)\n",
        "# x = Dense(128, activation='tanh')(x) \n",
        "x = Dense(128, activation='relu')(x)\n",
        "x = Dense(128, activation='relu')(x)\n",
        "x = Dropout(0.8)(x)   \n",
        "\n",
        "x = BatchNormalization()(x)     #more layers\n",
        "x = Dense(128, activation='relu')(x)\n",
        "# x = Dense(128, activation='relu')(x)\n",
        "x = Dense(128)(x)\n",
        "x = Dropout(0.8)(x)\n",
        "\n",
        "x = BatchNormalization()(x)\n",
        "x = Dense(128)(x)\n",
        "x = Dense(128)(x)\n",
        "# x = Dense(128)(x)\n",
        "\n",
        "#-----tensorflow\n",
        "output = Dense(1, activation='relu')(x) #one IRR value per row output\n",
        "nn_model = Model(input, output). #keras deep learning library\n",
        "nn_model.compile(metrics='mae', loss ='mae', optimizer ='rmsprop' )\n",
        "#-----\n",
        "\n",
        "nn_model.fit(X_train, y_train, validation_data = (X_test, y_test), epochs= 1000, callbacks=cp_callback)"
      ],
      "metadata": {
        "colab": {
          "base_uri": "https://localhost:8080/"
        },
        "id": "C0cRBntBDMT8",
        "outputId": "f1f7708c-cc3c-4196-d75d-de3068e1ed69"
      },
      "execution_count": null,
      "outputs": [
        {
          "output_type": "stream",
          "name": "stdout",
          "text": [
            "Epoch 1/1000\n",
            "20/20 [==============================] - 3s 29ms/step - loss: 17.7846 - mae: 17.7846 - val_loss: 159.4848 - val_mae: 159.4848\n",
            "Epoch 2/1000\n",
            "20/20 [==============================] - 0s 5ms/step - loss: 16.1859 - mae: 16.1859 - val_loss: 224.2166 - val_mae: 224.2166\n",
            "Epoch 3/1000\n",
            "20/20 [==============================] - 0s 9ms/step - loss: 15.9138 - mae: 15.9138 - val_loss: 154.8108 - val_mae: 154.8108\n",
            "Epoch 4/1000\n",
            "20/20 [==============================] - 0s 7ms/step - loss: 15.1295 - mae: 15.1295 - val_loss: 95.4121 - val_mae: 95.4121\n",
            "Epoch 5/1000\n",
            "20/20 [==============================] - 0s 5ms/step - loss: 14.8184 - mae: 14.8184 - val_loss: 23.1023 - val_mae: 23.1023\n",
            "Epoch 6/1000\n",
            "20/20 [==============================] - 0s 11ms/step - loss: 14.2100 - mae: 14.2100 - val_loss: 14.1555 - val_mae: 14.1555\n",
            "Epoch 7/1000\n",
            "20/20 [==============================] - 0s 6ms/step - loss: 13.4847 - mae: 13.4847 - val_loss: 33.8346 - val_mae: 33.8346\n",
            "Epoch 8/1000\n",
            "20/20 [==============================] - 0s 6ms/step - loss: 13.0712 - mae: 13.0712 - val_loss: 133.9260 - val_mae: 133.9260\n",
            "Epoch 9/1000\n",
            "20/20 [==============================] - 0s 8ms/step - loss: 12.5833 - mae: 12.5833 - val_loss: 149.9829 - val_mae: 149.9829\n",
            "Epoch 10/1000\n",
            "20/20 [==============================] - 0s 7ms/step - loss: 12.5330 - mae: 12.5330 - val_loss: 98.0026 - val_mae: 98.0026\n",
            "Epoch 11/1000\n",
            "20/20 [==============================] - 0s 8ms/step - loss: 12.2761 - mae: 12.2761 - val_loss: 106.7734 - val_mae: 106.7734\n",
            "Epoch 12/1000\n",
            "20/20 [==============================] - 0s 10ms/step - loss: 11.9320 - mae: 11.9320 - val_loss: 99.9845 - val_mae: 99.9845\n",
            "Epoch 13/1000\n",
            "20/20 [==============================] - 0s 8ms/step - loss: 11.6840 - mae: 11.6840 - val_loss: 73.4321 - val_mae: 73.4321\n",
            "Epoch 14/1000\n",
            "20/20 [==============================] - 0s 6ms/step - loss: 11.5277 - mae: 11.5277 - val_loss: 85.4539 - val_mae: 85.4539\n",
            "Epoch 15/1000\n",
            "20/20 [==============================] - 0s 6ms/step - loss: 11.7807 - mae: 11.7807 - val_loss: 86.0995 - val_mae: 86.0995\n",
            "Epoch 16/1000\n",
            "20/20 [==============================] - 0s 7ms/step - loss: 11.3686 - mae: 11.3686 - val_loss: 83.4845 - val_mae: 83.4845\n",
            "Epoch 17/1000\n",
            "20/20 [==============================] - 0s 6ms/step - loss: 10.9218 - mae: 10.9218 - val_loss: 53.2749 - val_mae: 53.2749\n",
            "Epoch 18/1000\n",
            "20/20 [==============================] - 0s 7ms/step - loss: 10.9032 - mae: 10.9032 - val_loss: 40.3096 - val_mae: 40.3096\n",
            "Epoch 19/1000\n",
            "20/20 [==============================] - 0s 7ms/step - loss: 10.6855 - mae: 10.6855 - val_loss: 32.3063 - val_mae: 32.3063\n",
            "Epoch 20/1000\n",
            "20/20 [==============================] - 0s 7ms/step - loss: 10.7418 - mae: 10.7418 - val_loss: 35.7811 - val_mae: 35.7811\n",
            "Epoch 21/1000\n",
            "20/20 [==============================] - 0s 6ms/step - loss: 10.6263 - mae: 10.6263 - val_loss: 25.9128 - val_mae: 25.9128\n",
            "Epoch 22/1000\n",
            "20/20 [==============================] - 0s 7ms/step - loss: 10.3672 - mae: 10.3672 - val_loss: 30.2725 - val_mae: 30.2725\n",
            "Epoch 23/1000\n",
            "20/20 [==============================] - 0s 5ms/step - loss: 10.9011 - mae: 10.9011 - val_loss: 20.6102 - val_mae: 20.6102\n",
            "Epoch 24/1000\n",
            "20/20 [==============================] - 0s 8ms/step - loss: 10.4152 - mae: 10.4152 - val_loss: 18.4518 - val_mae: 18.4518\n",
            "Epoch 25/1000\n",
            "20/20 [==============================] - 0s 6ms/step - loss: 10.2012 - mae: 10.2012 - val_loss: 14.2559 - val_mae: 14.2559\n",
            "Epoch 26/1000\n",
            "20/20 [==============================] - 0s 5ms/step - loss: 9.8176 - mae: 9.8176 - val_loss: 14.4710 - val_mae: 14.4710\n",
            "Epoch 27/1000\n",
            "20/20 [==============================] - 0s 6ms/step - loss: 9.8723 - mae: 9.8723 - val_loss: 12.4551 - val_mae: 12.4551\n",
            "Epoch 28/1000\n",
            "20/20 [==============================] - 0s 7ms/step - loss: 10.0395 - mae: 10.0395 - val_loss: 12.0888 - val_mae: 12.0888\n",
            "Epoch 29/1000\n",
            "20/20 [==============================] - 0s 7ms/step - loss: 10.0341 - mae: 10.0341 - val_loss: 11.8563 - val_mae: 11.8563\n",
            "Epoch 30/1000\n",
            "20/20 [==============================] - 0s 6ms/step - loss: 9.9916 - mae: 9.9916 - val_loss: 11.8844 - val_mae: 11.8844\n",
            "Epoch 31/1000\n",
            "20/20 [==============================] - 0s 6ms/step - loss: 9.8784 - mae: 9.8784 - val_loss: 11.6988 - val_mae: 11.6988\n",
            "Epoch 32/1000\n",
            "20/20 [==============================] - 0s 6ms/step - loss: 9.9249 - mae: 9.9249 - val_loss: 11.7810 - val_mae: 11.7810\n",
            "Epoch 33/1000\n",
            "20/20 [==============================] - 0s 6ms/step - loss: 9.6329 - mae: 9.6329 - val_loss: 11.6947 - val_mae: 11.6947\n",
            "Epoch 34/1000\n",
            "20/20 [==============================] - 0s 7ms/step - loss: 10.0010 - mae: 10.0010 - val_loss: 11.4508 - val_mae: 11.4508\n",
            "Epoch 35/1000\n",
            "20/20 [==============================] - 0s 6ms/step - loss: 10.1391 - mae: 10.1391 - val_loss: 11.9374 - val_mae: 11.9374\n",
            "Epoch 36/1000\n",
            "20/20 [==============================] - 0s 9ms/step - loss: 9.4862 - mae: 9.4862 - val_loss: 11.7097 - val_mae: 11.7097\n",
            "Epoch 37/1000\n",
            "20/20 [==============================] - 0s 6ms/step - loss: 9.9279 - mae: 9.9279 - val_loss: 11.6926 - val_mae: 11.6926\n",
            "Epoch 38/1000\n",
            "20/20 [==============================] - 0s 7ms/step - loss: 9.8197 - mae: 9.8197 - val_loss: 11.6920 - val_mae: 11.6920\n",
            "Epoch 39/1000\n",
            "20/20 [==============================] - 0s 7ms/step - loss: 9.6233 - mae: 9.6233 - val_loss: 11.6470 - val_mae: 11.6470\n",
            "Epoch 40/1000\n",
            "20/20 [==============================] - 0s 12ms/step - loss: 9.7759 - mae: 9.7759 - val_loss: 11.7357 - val_mae: 11.7357\n",
            "Epoch 41/1000\n",
            "20/20 [==============================] - 0s 6ms/step - loss: 9.8341 - mae: 9.8341 - val_loss: 11.6472 - val_mae: 11.6472\n",
            "Epoch 42/1000\n",
            "20/20 [==============================] - 0s 7ms/step - loss: 9.5982 - mae: 9.5982 - val_loss: 11.5816 - val_mae: 11.5816\n",
            "Epoch 43/1000\n",
            "20/20 [==============================] - 0s 9ms/step - loss: 9.2203 - mae: 9.2203 - val_loss: 11.3848 - val_mae: 11.3848\n",
            "Epoch 44/1000\n",
            "20/20 [==============================] - 0s 7ms/step - loss: 9.8186 - mae: 9.8186 - val_loss: 11.3676 - val_mae: 11.3676\n",
            "Epoch 45/1000\n",
            "20/20 [==============================] - 0s 8ms/step - loss: 9.8717 - mae: 9.8717 - val_loss: 11.5001 - val_mae: 11.5001\n",
            "Epoch 46/1000\n",
            "20/20 [==============================] - 0s 7ms/step - loss: 9.3524 - mae: 9.3524 - val_loss: 11.4634 - val_mae: 11.4634\n",
            "Epoch 47/1000\n",
            "20/20 [==============================] - 0s 6ms/step - loss: 9.4029 - mae: 9.4029 - val_loss: 11.4676 - val_mae: 11.4676\n",
            "Epoch 48/1000\n",
            "20/20 [==============================] - 0s 7ms/step - loss: 9.8579 - mae: 9.8579 - val_loss: 11.5805 - val_mae: 11.5805\n",
            "Epoch 49/1000\n",
            "20/20 [==============================] - 0s 5ms/step - loss: 9.5028 - mae: 9.5028 - val_loss: 11.7465 - val_mae: 11.7465\n",
            "Epoch 50/1000\n",
            "20/20 [==============================] - 0s 7ms/step - loss: 9.5243 - mae: 9.5243 - val_loss: 11.9171 - val_mae: 11.9171\n",
            "Epoch 51/1000\n",
            "20/20 [==============================] - 0s 8ms/step - loss: 9.5413 - mae: 9.5413 - val_loss: 11.8206 - val_mae: 11.8206\n",
            "Epoch 52/1000\n",
            "20/20 [==============================] - 0s 7ms/step - loss: 9.5480 - mae: 9.5480 - val_loss: 11.5837 - val_mae: 11.5837\n",
            "Epoch 53/1000\n",
            "20/20 [==============================] - 0s 8ms/step - loss: 9.3048 - mae: 9.3048 - val_loss: 11.6211 - val_mae: 11.6211\n",
            "Epoch 54/1000\n",
            "20/20 [==============================] - 0s 5ms/step - loss: 9.6216 - mae: 9.6216 - val_loss: 12.0303 - val_mae: 12.0303\n",
            "Epoch 55/1000\n",
            "20/20 [==============================] - 0s 5ms/step - loss: 9.4859 - mae: 9.4859 - val_loss: 11.4834 - val_mae: 11.4834\n",
            "Epoch 56/1000\n",
            "20/20 [==============================] - 0s 7ms/step - loss: 9.6426 - mae: 9.6426 - val_loss: 11.4990 - val_mae: 11.4990\n",
            "Epoch 57/1000\n",
            "20/20 [==============================] - 0s 7ms/step - loss: 9.3925 - mae: 9.3925 - val_loss: 11.6841 - val_mae: 11.6841\n",
            "Epoch 58/1000\n",
            "20/20 [==============================] - 0s 10ms/step - loss: 9.5623 - mae: 9.5623 - val_loss: 11.4289 - val_mae: 11.4289\n",
            "Epoch 59/1000\n",
            "20/20 [==============================] - 0s 7ms/step - loss: 9.2362 - mae: 9.2362 - val_loss: 12.0512 - val_mae: 12.0512\n",
            "Epoch 60/1000\n",
            "20/20 [==============================] - 0s 6ms/step - loss: 9.3712 - mae: 9.3712 - val_loss: 11.6341 - val_mae: 11.6341\n",
            "Epoch 61/1000\n",
            "20/20 [==============================] - 0s 8ms/step - loss: 9.2777 - mae: 9.2777 - val_loss: 11.6141 - val_mae: 11.6141\n",
            "Epoch 62/1000\n",
            "20/20 [==============================] - 0s 6ms/step - loss: 9.3489 - mae: 9.3489 - val_loss: 11.4175 - val_mae: 11.4175\n",
            "Epoch 63/1000\n",
            "20/20 [==============================] - 0s 9ms/step - loss: 9.2611 - mae: 9.2611 - val_loss: 11.3528 - val_mae: 11.3528\n",
            "Epoch 64/1000\n",
            "20/20 [==============================] - 0s 7ms/step - loss: 9.3320 - mae: 9.3320 - val_loss: 11.2431 - val_mae: 11.2431\n",
            "Epoch 65/1000\n",
            "20/20 [==============================] - 0s 6ms/step - loss: 9.1819 - mae: 9.1819 - val_loss: 11.2752 - val_mae: 11.2752\n",
            "Epoch 66/1000\n",
            "20/20 [==============================] - 0s 8ms/step - loss: 9.3143 - mae: 9.3143 - val_loss: 11.5859 - val_mae: 11.5859\n",
            "Epoch 67/1000\n",
            "20/20 [==============================] - 0s 8ms/step - loss: 9.3658 - mae: 9.3658 - val_loss: 12.2872 - val_mae: 12.2872\n",
            "Epoch 68/1000\n",
            "20/20 [==============================] - 0s 11ms/step - loss: 9.0617 - mae: 9.0617 - val_loss: 11.6752 - val_mae: 11.6752\n",
            "Epoch 69/1000\n",
            "20/20 [==============================] - 0s 12ms/step - loss: 9.2956 - mae: 9.2956 - val_loss: 11.7525 - val_mae: 11.7525\n",
            "Epoch 70/1000\n",
            "20/20 [==============================] - 0s 6ms/step - loss: 9.1397 - mae: 9.1397 - val_loss: 11.4644 - val_mae: 11.4644\n",
            "Epoch 71/1000\n",
            "20/20 [==============================] - 0s 7ms/step - loss: 9.1577 - mae: 9.1577 - val_loss: 12.0348 - val_mae: 12.0348\n",
            "Epoch 72/1000\n",
            "20/20 [==============================] - 0s 7ms/step - loss: 9.2506 - mae: 9.2506 - val_loss: 11.6961 - val_mae: 11.6961\n",
            "Epoch 73/1000\n",
            "20/20 [==============================] - 0s 7ms/step - loss: 9.4303 - mae: 9.4303 - val_loss: 11.8675 - val_mae: 11.8675\n",
            "Epoch 74/1000\n",
            "20/20 [==============================] - 0s 6ms/step - loss: 9.0678 - mae: 9.0678 - val_loss: 11.9997 - val_mae: 11.9997\n",
            "Epoch 75/1000\n",
            "20/20 [==============================] - 0s 6ms/step - loss: 9.1055 - mae: 9.1055 - val_loss: 11.8586 - val_mae: 11.8586\n",
            "Epoch 76/1000\n",
            "20/20 [==============================] - 0s 7ms/step - loss: 8.9294 - mae: 8.9294 - val_loss: 11.8899 - val_mae: 11.8899\n",
            "Epoch 77/1000\n",
            "20/20 [==============================] - 0s 7ms/step - loss: 9.0793 - mae: 9.0793 - val_loss: 11.7858 - val_mae: 11.7858\n",
            "Epoch 78/1000\n",
            "20/20 [==============================] - 0s 9ms/step - loss: 9.0419 - mae: 9.0419 - val_loss: 11.9023 - val_mae: 11.9023\n",
            "Epoch 79/1000\n",
            "20/20 [==============================] - 0s 6ms/step - loss: 9.2455 - mae: 9.2455 - val_loss: 11.9705 - val_mae: 11.9705\n",
            "Epoch 80/1000\n",
            "20/20 [==============================] - 0s 6ms/step - loss: 9.1379 - mae: 9.1379 - val_loss: 11.8932 - val_mae: 11.8932\n",
            "Epoch 81/1000\n",
            "20/20 [==============================] - 0s 5ms/step - loss: 8.9753 - mae: 8.9753 - val_loss: 11.7994 - val_mae: 11.7994\n",
            "Epoch 82/1000\n",
            "20/20 [==============================] - 0s 7ms/step - loss: 9.6111 - mae: 9.6111 - val_loss: 12.1968 - val_mae: 12.1968\n",
            "Epoch 83/1000\n",
            "20/20 [==============================] - 0s 6ms/step - loss: 9.0755 - mae: 9.0755 - val_loss: 12.3820 - val_mae: 12.3820\n",
            "Epoch 84/1000\n",
            "20/20 [==============================] - 0s 6ms/step - loss: 8.9218 - mae: 8.9218 - val_loss: 12.4509 - val_mae: 12.4509\n",
            "Epoch 85/1000\n",
            "20/20 [==============================] - 0s 5ms/step - loss: 8.9737 - mae: 8.9737 - val_loss: 12.3449 - val_mae: 12.3449\n",
            "Epoch 86/1000\n",
            "20/20 [==============================] - 0s 5ms/step - loss: 9.0731 - mae: 9.0731 - val_loss: 12.1936 - val_mae: 12.1936\n",
            "Epoch 87/1000\n",
            "20/20 [==============================] - 0s 3ms/step - loss: 8.9069 - mae: 8.9069 - val_loss: 11.9207 - val_mae: 11.9207\n",
            "Epoch 88/1000\n",
            "20/20 [==============================] - 0s 3ms/step - loss: 8.8698 - mae: 8.8698 - val_loss: 12.2082 - val_mae: 12.2082\n",
            "Epoch 89/1000\n",
            "20/20 [==============================] - 0s 3ms/step - loss: 8.9508 - mae: 8.9508 - val_loss: 12.0220 - val_mae: 12.0220\n",
            "Epoch 90/1000\n",
            "20/20 [==============================] - 0s 3ms/step - loss: 8.7774 - mae: 8.7774 - val_loss: 12.5316 - val_mae: 12.5316\n",
            "Epoch 91/1000\n",
            "20/20 [==============================] - 0s 4ms/step - loss: 8.9752 - mae: 8.9752 - val_loss: 12.6643 - val_mae: 12.6643\n",
            "Epoch 92/1000\n",
            "20/20 [==============================] - 0s 3ms/step - loss: 8.9744 - mae: 8.9744 - val_loss: 12.4376 - val_mae: 12.4376\n",
            "Epoch 93/1000\n",
            "20/20 [==============================] - 0s 3ms/step - loss: 9.0726 - mae: 9.0726 - val_loss: 12.5265 - val_mae: 12.5265\n",
            "Epoch 94/1000\n",
            "20/20 [==============================] - 0s 3ms/step - loss: 8.8726 - mae: 8.8726 - val_loss: 12.8619 - val_mae: 12.8619\n",
            "Epoch 95/1000\n",
            "20/20 [==============================] - 0s 3ms/step - loss: 8.7903 - mae: 8.7903 - val_loss: 12.5316 - val_mae: 12.5316\n",
            "Epoch 96/1000\n",
            "20/20 [==============================] - 0s 3ms/step - loss: 9.0885 - mae: 9.0885 - val_loss: 12.5033 - val_mae: 12.5033\n",
            "Epoch 97/1000\n",
            "20/20 [==============================] - 0s 3ms/step - loss: 8.7934 - mae: 8.7934 - val_loss: 12.5235 - val_mae: 12.5235\n",
            "Epoch 98/1000\n",
            "20/20 [==============================] - 0s 3ms/step - loss: 8.9388 - mae: 8.9388 - val_loss: 12.4096 - val_mae: 12.4096\n",
            "Epoch 99/1000\n",
            "20/20 [==============================] - 0s 3ms/step - loss: 8.5976 - mae: 8.5976 - val_loss: 12.4792 - val_mae: 12.4792\n",
            "Epoch 100/1000\n",
            "20/20 [==============================] - 0s 4ms/step - loss: 8.6769 - mae: 8.6769 - val_loss: 12.5805 - val_mae: 12.5805\n",
            "Epoch 101/1000\n",
            "20/20 [==============================] - 0s 3ms/step - loss: 8.6103 - mae: 8.6103 - val_loss: 12.6011 - val_mae: 12.6011\n",
            "Epoch 102/1000\n",
            "20/20 [==============================] - 0s 3ms/step - loss: 9.1104 - mae: 9.1104 - val_loss: 12.6899 - val_mae: 12.6899\n",
            "Epoch 103/1000\n",
            "20/20 [==============================] - 0s 3ms/step - loss: 8.6101 - mae: 8.6101 - val_loss: 12.8040 - val_mae: 12.8040\n",
            "Epoch 104/1000\n",
            "20/20 [==============================] - 0s 4ms/step - loss: 8.6927 - mae: 8.6927 - val_loss: 12.7626 - val_mae: 12.7626\n",
            "Epoch 105/1000\n",
            "20/20 [==============================] - 0s 3ms/step - loss: 8.8454 - mae: 8.8454 - val_loss: 12.7743 - val_mae: 12.7743\n",
            "Epoch 106/1000\n",
            "20/20 [==============================] - 0s 3ms/step - loss: 8.4440 - mae: 8.4440 - val_loss: 12.8127 - val_mae: 12.8127\n",
            "Epoch 107/1000\n",
            "20/20 [==============================] - 0s 4ms/step - loss: 8.8039 - mae: 8.8039 - val_loss: 12.9595 - val_mae: 12.9595\n",
            "Epoch 108/1000\n",
            "20/20 [==============================] - 0s 3ms/step - loss: 8.5997 - mae: 8.5997 - val_loss: 12.9443 - val_mae: 12.9443\n",
            "Epoch 109/1000\n",
            "20/20 [==============================] - 0s 4ms/step - loss: 9.2657 - mae: 9.2657 - val_loss: 12.4865 - val_mae: 12.4865\n",
            "Epoch 110/1000\n",
            "20/20 [==============================] - 0s 5ms/step - loss: 8.9896 - mae: 8.9896 - val_loss: 12.6706 - val_mae: 12.6706\n",
            "Epoch 111/1000\n",
            "20/20 [==============================] - 0s 4ms/step - loss: 8.6660 - mae: 8.6660 - val_loss: 12.5212 - val_mae: 12.5212\n",
            "Epoch 112/1000\n",
            "20/20 [==============================] - 0s 4ms/step - loss: 8.7736 - mae: 8.7736 - val_loss: 12.3834 - val_mae: 12.3834\n",
            "Epoch 113/1000\n",
            "20/20 [==============================] - 0s 3ms/step - loss: 8.4764 - mae: 8.4764 - val_loss: 12.4796 - val_mae: 12.4796\n",
            "Epoch 114/1000\n",
            "20/20 [==============================] - 0s 3ms/step - loss: 8.6408 - mae: 8.6408 - val_loss: 12.4733 - val_mae: 12.4733\n",
            "Epoch 115/1000\n",
            "20/20 [==============================] - 0s 3ms/step - loss: 8.4982 - mae: 8.4982 - val_loss: 12.3503 - val_mae: 12.3503\n",
            "Epoch 116/1000\n",
            "20/20 [==============================] - 0s 3ms/step - loss: 8.6231 - mae: 8.6231 - val_loss: 12.2301 - val_mae: 12.2301\n",
            "Epoch 117/1000\n",
            "20/20 [==============================] - 0s 3ms/step - loss: 8.6883 - mae: 8.6883 - val_loss: 12.3515 - val_mae: 12.3515\n",
            "Epoch 118/1000\n",
            "20/20 [==============================] - 0s 3ms/step - loss: 8.8982 - mae: 8.8982 - val_loss: 12.5796 - val_mae: 12.5796\n",
            "Epoch 119/1000\n",
            "20/20 [==============================] - 0s 4ms/step - loss: 8.6032 - mae: 8.6032 - val_loss: 12.4370 - val_mae: 12.4370\n",
            "Epoch 120/1000\n",
            "20/20 [==============================] - 0s 3ms/step - loss: 8.6609 - mae: 8.6609 - val_loss: 12.5357 - val_mae: 12.5357\n",
            "Epoch 121/1000\n",
            "20/20 [==============================] - 0s 3ms/step - loss: 8.7443 - mae: 8.7443 - val_loss: 12.5933 - val_mae: 12.5933\n",
            "Epoch 122/1000\n",
            "20/20 [==============================] - 0s 4ms/step - loss: 8.5111 - mae: 8.5111 - val_loss: 12.8150 - val_mae: 12.8150\n",
            "Epoch 123/1000\n",
            "20/20 [==============================] - 0s 4ms/step - loss: 8.7736 - mae: 8.7736 - val_loss: 12.9608 - val_mae: 12.9608\n",
            "Epoch 124/1000\n",
            "20/20 [==============================] - 0s 3ms/step - loss: 8.5624 - mae: 8.5624 - val_loss: 13.0641 - val_mae: 13.0641\n",
            "Epoch 125/1000\n",
            "20/20 [==============================] - 0s 3ms/step - loss: 8.5445 - mae: 8.5445 - val_loss: 13.1980 - val_mae: 13.1980\n",
            "Epoch 126/1000\n",
            "20/20 [==============================] - 0s 5ms/step - loss: 8.5357 - mae: 8.5357 - val_loss: 13.1039 - val_mae: 13.1039\n",
            "Epoch 127/1000\n",
            "20/20 [==============================] - 0s 3ms/step - loss: 8.5048 - mae: 8.5048 - val_loss: 12.8682 - val_mae: 12.8682\n",
            "Epoch 128/1000\n",
            "20/20 [==============================] - 0s 3ms/step - loss: 8.9787 - mae: 8.9787 - val_loss: 13.1392 - val_mae: 13.1392\n",
            "Epoch 129/1000\n",
            "20/20 [==============================] - 0s 4ms/step - loss: 8.6399 - mae: 8.6399 - val_loss: 13.0619 - val_mae: 13.0619\n",
            "Epoch 130/1000\n",
            "20/20 [==============================] - 0s 4ms/step - loss: 8.2516 - mae: 8.2516 - val_loss: 13.3338 - val_mae: 13.3338\n",
            "Epoch 131/1000\n",
            "20/20 [==============================] - 0s 3ms/step - loss: 8.7157 - mae: 8.7157 - val_loss: 13.2135 - val_mae: 13.2135\n",
            "Epoch 132/1000\n",
            "20/20 [==============================] - 0s 4ms/step - loss: 8.6545 - mae: 8.6545 - val_loss: 13.4830 - val_mae: 13.4830\n",
            "Epoch 133/1000\n",
            "20/20 [==============================] - 0s 3ms/step - loss: 8.6008 - mae: 8.6008 - val_loss: 13.2609 - val_mae: 13.2609\n",
            "Epoch 134/1000\n",
            "20/20 [==============================] - 0s 3ms/step - loss: 8.6953 - mae: 8.6953 - val_loss: 13.7295 - val_mae: 13.7295\n",
            "Epoch 135/1000\n",
            "20/20 [==============================] - 0s 3ms/step - loss: 8.6475 - mae: 8.6475 - val_loss: 13.4251 - val_mae: 13.4251\n",
            "Epoch 136/1000\n",
            "20/20 [==============================] - 0s 3ms/step - loss: 8.5406 - mae: 8.5406 - val_loss: 13.4622 - val_mae: 13.4622\n",
            "Epoch 137/1000\n",
            "20/20 [==============================] - 0s 3ms/step - loss: 8.6186 - mae: 8.6186 - val_loss: 13.4205 - val_mae: 13.4205\n",
            "Epoch 138/1000\n",
            "20/20 [==============================] - 0s 3ms/step - loss: 9.0187 - mae: 9.0187 - val_loss: 13.3442 - val_mae: 13.3442\n",
            "Epoch 139/1000\n",
            "20/20 [==============================] - 0s 4ms/step - loss: 8.3739 - mae: 8.3739 - val_loss: 13.1850 - val_mae: 13.1850\n",
            "Epoch 140/1000\n",
            "20/20 [==============================] - 0s 3ms/step - loss: 8.2554 - mae: 8.2554 - val_loss: 13.5030 - val_mae: 13.5030\n",
            "Epoch 141/1000\n",
            "20/20 [==============================] - 0s 3ms/step - loss: 8.3333 - mae: 8.3333 - val_loss: 13.4738 - val_mae: 13.4738\n",
            "Epoch 142/1000\n",
            "20/20 [==============================] - 0s 3ms/step - loss: 8.8439 - mae: 8.8439 - val_loss: 13.2078 - val_mae: 13.2078\n",
            "Epoch 143/1000\n",
            "20/20 [==============================] - 0s 4ms/step - loss: 8.5509 - mae: 8.5509 - val_loss: 13.3776 - val_mae: 13.3776\n",
            "Epoch 144/1000\n",
            "20/20 [==============================] - 0s 4ms/step - loss: 8.3093 - mae: 8.3093 - val_loss: 13.4935 - val_mae: 13.4935\n",
            "Epoch 145/1000\n",
            "20/20 [==============================] - 0s 3ms/step - loss: 8.6511 - mae: 8.6511 - val_loss: 13.4050 - val_mae: 13.4050\n",
            "Epoch 146/1000\n",
            "20/20 [==============================] - 0s 3ms/step - loss: 8.5523 - mae: 8.5523 - val_loss: 13.5543 - val_mae: 13.5543\n",
            "Epoch 147/1000\n",
            "20/20 [==============================] - 0s 3ms/step - loss: 8.2891 - mae: 8.2891 - val_loss: 13.6140 - val_mae: 13.6140\n",
            "Epoch 148/1000\n",
            "20/20 [==============================] - 0s 3ms/step - loss: 8.3712 - mae: 8.3712 - val_loss: 13.3560 - val_mae: 13.3560\n",
            "Epoch 149/1000\n",
            "20/20 [==============================] - 0s 3ms/step - loss: 8.4367 - mae: 8.4367 - val_loss: 13.2371 - val_mae: 13.2371\n",
            "Epoch 150/1000\n",
            "20/20 [==============================] - 0s 3ms/step - loss: 8.5546 - mae: 8.5546 - val_loss: 13.4085 - val_mae: 13.4085\n",
            "Epoch 151/1000\n",
            "20/20 [==============================] - 0s 3ms/step - loss: 8.2859 - mae: 8.2859 - val_loss: 13.9363 - val_mae: 13.9363\n",
            "Epoch 152/1000\n",
            "20/20 [==============================] - 0s 4ms/step - loss: 8.3477 - mae: 8.3477 - val_loss: 13.7484 - val_mae: 13.7484\n",
            "Epoch 153/1000\n",
            "20/20 [==============================] - 0s 4ms/step - loss: 8.6361 - mae: 8.6361 - val_loss: 13.7171 - val_mae: 13.7171\n",
            "Epoch 154/1000\n",
            "20/20 [==============================] - 0s 3ms/step - loss: 8.5385 - mae: 8.5385 - val_loss: 14.0700 - val_mae: 14.0700\n",
            "Epoch 155/1000\n",
            "20/20 [==============================] - 0s 4ms/step - loss: 8.4990 - mae: 8.4990 - val_loss: 14.0615 - val_mae: 14.0615\n",
            "Epoch 156/1000\n",
            "20/20 [==============================] - 0s 3ms/step - loss: 8.5306 - mae: 8.5306 - val_loss: 13.6507 - val_mae: 13.6507\n",
            "Epoch 157/1000\n",
            "20/20 [==============================] - 0s 3ms/step - loss: 8.5128 - mae: 8.5128 - val_loss: 13.8903 - val_mae: 13.8903\n",
            "Epoch 158/1000\n",
            "20/20 [==============================] - 0s 3ms/step - loss: 8.1044 - mae: 8.1044 - val_loss: 13.8768 - val_mae: 13.8768\n",
            "Epoch 159/1000\n",
            "20/20 [==============================] - 0s 3ms/step - loss: 8.0463 - mae: 8.0463 - val_loss: 14.3720 - val_mae: 14.3720\n",
            "Epoch 160/1000\n",
            "20/20 [==============================] - 0s 3ms/step - loss: 8.4642 - mae: 8.4642 - val_loss: 13.8885 - val_mae: 13.8885\n",
            "Epoch 161/1000\n",
            "20/20 [==============================] - 0s 3ms/step - loss: 8.3992 - mae: 8.3992 - val_loss: 13.7889 - val_mae: 13.7889\n",
            "Epoch 162/1000\n",
            "20/20 [==============================] - 0s 3ms/step - loss: 8.2548 - mae: 8.2548 - val_loss: 14.1743 - val_mae: 14.1743\n",
            "Epoch 163/1000\n",
            "20/20 [==============================] - 0s 4ms/step - loss: 8.5317 - mae: 8.5317 - val_loss: 13.9454 - val_mae: 13.9454\n",
            "Epoch 164/1000\n",
            "20/20 [==============================] - 0s 5ms/step - loss: 8.5809 - mae: 8.5809 - val_loss: 14.2734 - val_mae: 14.2734\n"
          ]
        },
        {
          "output_type": "execute_result",
          "data": {
            "text/plain": [
              "<keras.callbacks.History at 0x7f85db59e9d0>"
            ]
          },
          "metadata": {},
          "execution_count": 55
        }
      ]
    },
    {
      "cell_type": "markdown",
      "source": [
        "Here we make the prediction."
      ],
      "metadata": {
        "id": "pZ4JybWPlVHc"
      }
    },
    {
      "cell_type": "code",
      "source": [
        "neural_ntwrk_r2 =r2_score(y_test, nn_model.predict(X_test))\n",
        "neural_ntwrk_r2"
      ],
      "metadata": {
        "colab": {
          "base_uri": "https://localhost:8080/"
        },
        "id": "pybx0-llDOp6",
        "outputId": "6da71a5a-86ad-4e05-b113-e2f507611d7e"
      },
      "execution_count": null,
      "outputs": [
        {
          "output_type": "stream",
          "name": "stdout",
          "text": [
            "5/5 [==============================] - 0s 2ms/step\n"
          ]
        },
        {
          "output_type": "execute_result",
          "data": {
            "text/plain": [
              "0.28514722020063443"
            ]
          },
          "metadata": {},
          "execution_count": 56
        }
      ]
    },
    {
      "cell_type": "markdown",
      "source": [
        "Calculate stats"
      ],
      "metadata": {
        "id": "M-OB5y5wlV9t"
      }
    },
    {
      "cell_type": "code",
      "source": [
        "neural_ntwrk = mean_absolute_error(y_test, nn_model.predict(X_test))\n",
        "neural_ntwrk"
      ],
      "metadata": {
        "colab": {
          "base_uri": "https://localhost:8080/"
        },
        "id": "4Icop2O8DXWz",
        "outputId": "b91125e9-3a2d-407c-cbb3-915d0d399b6c"
      },
      "execution_count": null,
      "outputs": [
        {
          "output_type": "stream",
          "name": "stdout",
          "text": [
            "5/5 [==============================] - 0s 2ms/step\n"
          ]
        },
        {
          "output_type": "execute_result",
          "data": {
            "text/plain": [
              "11.243083990399596"
            ]
          },
          "metadata": {},
          "execution_count": 57
        }
      ]
    },
    {
      "cell_type": "markdown",
      "source": [
        "more stats"
      ],
      "metadata": {
        "id": "Kvv2q2mDlW45"
      }
    },
    {
      "cell_type": "code",
      "source": [
        "neural_ntwrk_squared = np.sqrt(mean_squared_error(y_test, nn_model.predict(X_test)))"
      ],
      "metadata": {
        "colab": {
          "base_uri": "https://localhost:8080/"
        },
        "id": "5_QSP4b8DdHX",
        "outputId": "28cf8cbd-e1c9-4a3c-f719-34c810c117be"
      },
      "execution_count": null,
      "outputs": [
        {
          "output_type": "stream",
          "name": "stdout",
          "text": [
            "5/5 [==============================] - 0s 2ms/step\n"
          ]
        }
      ]
    },
    {
      "cell_type": "markdown",
      "source": [
        "Final KPI metrics"
      ],
      "metadata": {
        "id": "-ZjPtg66lXvM"
      }
    },
    {
      "cell_type": "code",
      "source": [
        "model_metrics = {'XGB': xgb_metric,'neural_ntwrk': neural_ntwrk, 'CAT': cat_metric, 'LIGHTGBM': lgb_metric}\n",
        "model_metrics_rmse = {'XGB': xgb_metrics_squared, 'neural_ntwrk': neural_ntwrk_squared ,'CAT': cat_metrics_squared, 'LIGHTGBM': lgb_metrics_squared}\n",
        "model_metrics_r2 = {'XGB': xgb_r2_score, 'CAT': cat_r2_score, 'neural_ntwrk':neural_ntwrk_r2, 'LIGHTGBM': lgb_r2_score}"
      ],
      "metadata": {
        "id": "8uKrM0psDdaJ"
      },
      "execution_count": null,
      "outputs": []
    },
    {
      "cell_type": "markdown",
      "source": [
        "MAE (Mean Absolute Error)"
      ],
      "metadata": {
        "id": "24ztd0zxDh8h"
      }
    },
    {
      "cell_type": "markdown",
      "source": [
        "To be detrmined live, as the results will slightly vary each time the models are run. "
      ],
      "metadata": {
        "id": "gqVVHyohlZTX"
      }
    },
    {
      "cell_type": "code",
      "source": [
        "ax = pd.DataFrame(model_metrics.values(), model_metrics.keys()).plot.bar()\n",
        "ax.set_xlabel(\"model\")\n",
        "ax.set_ylabel(\"MAE\")"
      ],
      "metadata": {
        "colab": {
          "base_uri": "https://localhost:8080/",
          "height": 951
        },
        "id": "eWHTYe8wDpEN",
        "outputId": "5d6ea6ef-1ecc-448a-dd7b-9367bdc5debc"
      },
      "execution_count": null,
      "outputs": [
        {
          "output_type": "execute_result",
          "data": {
            "text/plain": [
              "Text(0, 0.5, 'MAE')"
            ]
          },
          "metadata": {},
          "execution_count": 60
        },
        {
          "output_type": "display_data",
          "data": {
            "text/plain": [
              "<Figure size 1080x1080 with 1 Axes>"
            ],
            "image/png": "[encoded data removed]"
          },
          "metadata": {
            "needs_background": "light"
          }
        }
      ]
    },
    {
      "cell_type": "markdown",
      "source": [
        "RSME (Root Mean Square Error)"
      ],
      "metadata": {
        "id": "wbhwr8NID1h5"
      }
    },
    {
      "cell_type": "markdown",
      "source": [
        "To be detrmined live, as the results will slightly vary each time the models are run. "
      ],
      "metadata": {
        "id": "UtgaxVPElare"
      }
    },
    {
      "cell_type": "code",
      "source": [
        "ax = pd.DataFrame(model_metrics_rmse.values(), model_metrics_rmse.keys()).plot.bar()\n",
        "ax.set_xlabel(\"model\")\n",
        "ax.set_ylabel(\"RMSE\")"
      ],
      "metadata": {
        "colab": {
          "base_uri": "https://localhost:8080/",
          "height": 951
        },
        "id": "AllJ0stPDp0z",
        "outputId": "d1a54dd8-4aae-42f4-83d1-1165a4e8a715"
      },
      "execution_count": null,
      "outputs": [
        {
          "output_type": "execute_result",
          "data": {
            "text/plain": [
              "Text(0, 0.5, 'RMSE')"
            ]
          },
          "metadata": {},
          "execution_count": 61
        },
        {
          "output_type": "display_data",
          "data": {
            "text/plain": [
              "<Figure size 1080x1080 with 1 Axes>"
            ],
            "image/png": "[encoded data removed]"
          },
          "metadata": {
            "needs_background": "light"
          }
        }
      ]
    },
    {
      "cell_type": "markdown",
      "source": [
        "R-Squared"
      ],
      "metadata": {
        "id": "WPe4le2uD8ML"
      }
    },
    {
      "cell_type": "markdown",
      "source": [
        "To be detrmined live, as the results will slightly vary each time the models are run. "
      ],
      "metadata": {
        "id": "xGgjADHvlcJR"
      }
    },
    {
      "cell_type": "code",
      "source": [
        "ax = pd.DataFrame(model_metrics_r2.values(), model_metrics_r2.keys()).plot.bar()\n",
        "ax.set_xlabel(\"model\")\n",
        "ax.set_ylabel(\"R_Squared\")"
      ],
      "metadata": {
        "colab": {
          "base_uri": "https://localhost:8080/",
          "height": 951
        },
        "id": "tRNcW9GgD4K0",
        "outputId": "7e820e8c-23c6-4d38-c4ec-a0d6b189d67c"
      },
      "execution_count": null,
      "outputs": [
        {
          "output_type": "execute_result",
          "data": {
            "text/plain": [
              "Text(0, 0.5, 'R_Squared')"
            ]
          },
          "metadata": {},
          "execution_count": 62
        },
        {
          "output_type": "display_data",
          "data": {
            "text/plain": [
              "<Figure size 1080x1080 with 1 Axes>"
            ],
            "image/png": "[encoded data removed]"
          },
          "metadata": {
            "needs_background": "light"
          }
        }
      ]
    },
    {
      "cell_type": "markdown",
      "source": [
        "Another way to think about the prediction vs actual result. "
      ],
      "metadata": {
        "id": "VLQvuUkbldqz"
      }
    },
    {
      "cell_type": "code",
      "source": [
        "sns.scatterplot(np.array(y_test), nn_model.predict(X_test)[:, 0])"
      ],
      "metadata": {
        "colab": {
          "base_uri": "https://localhost:8080/",
          "height": 954
        },
        "id": "KZNOLvqwD_ZR",
        "outputId": "3916b8c0-e431-43d4-9632-a8fc65248d3e"
      },
      "execution_count": null,
      "outputs": [
        {
          "output_type": "stream",
          "name": "stdout",
          "text": [
            "5/5 [==============================] - 0s 3ms/step\n"
          ]
        },
        {
          "output_type": "stream",
          "name": "stderr",
          "text": [
            "/usr/local/lib/python3.7/dist-packages/seaborn/_decorators.py:43: FutureWarning: Pass the following variables as keyword args: x, y. From version 0.12, the only valid positional argument will be `data`, and passing other arguments without an explicit keyword will result in an error or misinterpretation.\n",
            "  FutureWarning\n"
          ]
        },
        {
          "output_type": "execute_result",
          "data": {
            "text/plain": [
              "<matplotlib.axes._subplots.AxesSubplot at 0x7f85db3b1650>"
            ]
          },
          "metadata": {},
          "execution_count": 63
        },
        {
          "output_type": "display_data",
          "data": {
            "text/plain": [
              "<Figure size 1080x1080 with 1 Axes>"
            ],
            "image/png": "[encoded data removed]"
          },
          "metadata": {
            "needs_background": "light"
          }
        }
      ]
    },
    {
      "cell_type": "markdown",
      "source": [
        "**Thank you!**\n",
        "\n",
        "https://tenor.com/view/cheer-smile-thumbs-up-good-job-gif-14538653\n",
        "\n",
        "---\n",
        "\n",
        "\n",
        "\n",
        "Arlo "
      ],
      "metadata": {
        "id": "CjKmLa8Ju6og"
      }
    },
    {
      "cell_type": "code",
      "source": [],
      "metadata": {
        "id": "yK0Bks74EGxy"
      },
      "execution_count": null,
      "outputs": []
    }
  ]
}